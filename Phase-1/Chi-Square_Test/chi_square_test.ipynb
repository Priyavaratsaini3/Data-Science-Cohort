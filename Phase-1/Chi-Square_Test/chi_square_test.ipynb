{
 "cells": [
  {
   "cell_type": "code",
   "execution_count": 3,
   "id": "9653d446",
   "metadata": {},
   "outputs": [
    {
     "data": {
      "text/plain": [
       "(np.float64(30.0),\n",
       " np.float64(4.894437128029217e-06),\n",
       " 4,\n",
       " array([[33.33333333, 33.33333333, 33.33333333],\n",
       "        [33.33333333, 33.33333333, 33.33333333],\n",
       "        [33.33333333, 33.33333333, 33.33333333]]))"
      ]
     },
     "execution_count": 3,
     "metadata": {},
     "output_type": "execute_result"
    }
   ],
   "source": [
    "import numpy as np\n",
    "import scipy.stats as stats\n",
    "\n",
    "observed_data = np.array([[50, 30, 20],\n",
    "                          [30, 40, 30],\n",
    "                          [20, 30, 50]])\n",
    "\n",
    "## Perform the chi Square test\n",
    "\n",
    "chi2_stats, p_value, df, expected = stats.chi2_contingency(observed_data)\n",
    "\n",
    "chi2_stats, p_value, df, expected"
   ]
  },
  {
   "cell_type": "code",
   "execution_count": 4,
   "id": "4ea8ba27",
   "metadata": {},
   "outputs": [
    {
     "name": "stdout",
     "output_type": "stream",
     "text": [
      "Reject the null hypothesis\n"
     ]
    }
   ],
   "source": [
    "alpha = 0.05\n",
    "\n",
    "if p_value < alpha:\n",
    "    print(\"Reject the null hypothesis\")\n",
    "else:\n",
    "    print(\"Fail to reject null Hypothesis\")"
   ]
  },
  {
   "cell_type": "code",
   "execution_count": null,
   "id": "32676141",
   "metadata": {},
   "outputs": [],
   "source": []
  }
 ],
 "metadata": {
  "kernelspec": {
   "display_name": ".venv (3.13.1)",
   "language": "python",
   "name": "python3"
  },
  "language_info": {
   "codemirror_mode": {
    "name": "ipython",
    "version": 3
   },
   "file_extension": ".py",
   "mimetype": "text/x-python",
   "name": "python",
   "nbconvert_exporter": "python",
   "pygments_lexer": "ipython3",
   "version": "3.13.1"
  }
 },
 "nbformat": 4,
 "nbformat_minor": 5
}
