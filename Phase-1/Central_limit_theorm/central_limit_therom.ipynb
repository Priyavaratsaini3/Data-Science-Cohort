{
 "cells": [
  {
   "cell_type": "code",
   "execution_count": 1,
   "id": "71a1954b",
   "metadata": {},
   "outputs": [],
   "source": [
    "import numpy as np\n",
    "import pandas as pd\n",
    "import matplotlib.pyplot as plt\n",
    "import seaborn as sns"
   ]
  },
  {
   "cell_type": "code",
   "execution_count": 3,
   "id": "0a2e212f",
   "metadata": {},
   "outputs": [
    {
     "data": {
      "text/html": [
       "<div>\n",
       "<style scoped>\n",
       "    .dataframe tbody tr th:only-of-type {\n",
       "        vertical-align: middle;\n",
       "    }\n",
       "\n",
       "    .dataframe tbody tr th {\n",
       "        vertical-align: top;\n",
       "    }\n",
       "\n",
       "    .dataframe thead th {\n",
       "        text-align: right;\n",
       "    }\n",
       "</style>\n",
       "<table border=\"1\" class=\"dataframe\">\n",
       "  <thead>\n",
       "    <tr style=\"text-align: right;\">\n",
       "      <th></th>\n",
       "      <th>trans_date_trans_time</th>\n",
       "      <th>merchant</th>\n",
       "      <th>category</th>\n",
       "      <th>amt</th>\n",
       "      <th>city</th>\n",
       "      <th>state</th>\n",
       "      <th>lat</th>\n",
       "      <th>long</th>\n",
       "      <th>city_pop</th>\n",
       "      <th>job</th>\n",
       "      <th>dob</th>\n",
       "      <th>trans_num</th>\n",
       "      <th>merch_lat</th>\n",
       "      <th>merch_long</th>\n",
       "      <th>is_fraud</th>\n",
       "    </tr>\n",
       "  </thead>\n",
       "  <tbody>\n",
       "    <tr>\n",
       "      <th>0</th>\n",
       "      <td>2019-04-01 00:58:00</td>\n",
       "      <td>\"Stokes, Christiansen and Sipes\"</td>\n",
       "      <td>grocery_net</td>\n",
       "      <td>14.37</td>\n",
       "      <td>Wales</td>\n",
       "      <td>AK</td>\n",
       "      <td>64.7556</td>\n",
       "      <td>-165.6723</td>\n",
       "      <td>145</td>\n",
       "      <td>\"Administrator, education\"</td>\n",
       "      <td>1939-09-11 00:00:00</td>\n",
       "      <td>a3806e984cec6ac0096d8184c64ad3a1</td>\n",
       "      <td>65.654142</td>\n",
       "      <td>-164.722603</td>\n",
       "      <td>1</td>\n",
       "    </tr>\n",
       "    <tr>\n",
       "      <th>1</th>\n",
       "      <td>2019-04-01 15:06:00</td>\n",
       "      <td>Predovic Inc</td>\n",
       "      <td>shopping_net</td>\n",
       "      <td>966.11</td>\n",
       "      <td>Wales</td>\n",
       "      <td>AK</td>\n",
       "      <td>64.7556</td>\n",
       "      <td>-165.6723</td>\n",
       "      <td>145</td>\n",
       "      <td>\"Administrator, education\"</td>\n",
       "      <td>1939-09-11 00:00:00</td>\n",
       "      <td>a59185fe1b9ccf21323f581d7477573f</td>\n",
       "      <td>65.468863</td>\n",
       "      <td>-165.473127</td>\n",
       "      <td>1</td>\n",
       "    </tr>\n",
       "    <tr>\n",
       "      <th>2</th>\n",
       "      <td>2019-04-01 22:37:00</td>\n",
       "      <td>Wisozk and Sons</td>\n",
       "      <td>misc_pos</td>\n",
       "      <td>49.61</td>\n",
       "      <td>Wales</td>\n",
       "      <td>AK</td>\n",
       "      <td>64.7556</td>\n",
       "      <td>-165.6723</td>\n",
       "      <td>145</td>\n",
       "      <td>\"Administrator, education\"</td>\n",
       "      <td>1939-09-11 00:00:00</td>\n",
       "      <td>86ba3a888b42cd3925881fa34177b4e0</td>\n",
       "      <td>65.347667</td>\n",
       "      <td>-165.914542</td>\n",
       "      <td>1</td>\n",
       "    </tr>\n",
       "    <tr>\n",
       "      <th>3</th>\n",
       "      <td>2019-04-01 23:06:00</td>\n",
       "      <td>Murray-Smitham</td>\n",
       "      <td>grocery_pos</td>\n",
       "      <td>295.26</td>\n",
       "      <td>Wales</td>\n",
       "      <td>AK</td>\n",
       "      <td>64.7556</td>\n",
       "      <td>-165.6723</td>\n",
       "      <td>145</td>\n",
       "      <td>\"Administrator, education\"</td>\n",
       "      <td>1939-09-11 00:00:00</td>\n",
       "      <td>3a068fe1d856f0ecedbed33e4b5f4496</td>\n",
       "      <td>64.445035</td>\n",
       "      <td>-166.080207</td>\n",
       "      <td>1</td>\n",
       "    </tr>\n",
       "    <tr>\n",
       "      <th>4</th>\n",
       "      <td>2019-04-01 23:59:00</td>\n",
       "      <td>Friesen Lt</td>\n",
       "      <td>health_fitness</td>\n",
       "      <td>18.17</td>\n",
       "      <td>Wales</td>\n",
       "      <td>AK</td>\n",
       "      <td>64.7556</td>\n",
       "      <td>-165.6723</td>\n",
       "      <td>145</td>\n",
       "      <td>\"Administrator, education\"</td>\n",
       "      <td>1939-09-11 00:00:00</td>\n",
       "      <td>891cdd1191028759dc20dc224347a0ff</td>\n",
       "      <td>65.447094</td>\n",
       "      <td>-165.446843</td>\n",
       "      <td>1</td>\n",
       "    </tr>\n",
       "  </tbody>\n",
       "</table>\n",
       "</div>"
      ],
      "text/plain": [
       "  trans_date_trans_time                          merchant        category  \\\n",
       "0   2019-04-01 00:58:00  \"Stokes, Christiansen and Sipes\"     grocery_net   \n",
       "1   2019-04-01 15:06:00                      Predovic Inc    shopping_net   \n",
       "2   2019-04-01 22:37:00                   Wisozk and Sons        misc_pos   \n",
       "3   2019-04-01 23:06:00                    Murray-Smitham     grocery_pos   \n",
       "4   2019-04-01 23:59:00                        Friesen Lt  health_fitness   \n",
       "\n",
       "      amt   city state      lat      long  city_pop  \\\n",
       "0   14.37  Wales    AK  64.7556 -165.6723       145   \n",
       "1  966.11  Wales    AK  64.7556 -165.6723       145   \n",
       "2   49.61  Wales    AK  64.7556 -165.6723       145   \n",
       "3  295.26  Wales    AK  64.7556 -165.6723       145   \n",
       "4   18.17  Wales    AK  64.7556 -165.6723       145   \n",
       "\n",
       "                          job                  dob  \\\n",
       "0  \"Administrator, education\"  1939-09-11 00:00:00   \n",
       "1  \"Administrator, education\"  1939-09-11 00:00:00   \n",
       "2  \"Administrator, education\"  1939-09-11 00:00:00   \n",
       "3  \"Administrator, education\"  1939-09-11 00:00:00   \n",
       "4  \"Administrator, education\"  1939-09-11 00:00:00   \n",
       "\n",
       "                          trans_num  merch_lat  merch_long is_fraud  \n",
       "0  a3806e984cec6ac0096d8184c64ad3a1  65.654142 -164.722603        1  \n",
       "1  a59185fe1b9ccf21323f581d7477573f  65.468863 -165.473127        1  \n",
       "2  86ba3a888b42cd3925881fa34177b4e0  65.347667 -165.914542        1  \n",
       "3  3a068fe1d856f0ecedbed33e4b5f4496  64.445035 -166.080207        1  \n",
       "4  891cdd1191028759dc20dc224347a0ff  65.447094 -165.446843        1  "
      ]
     },
     "execution_count": 3,
     "metadata": {},
     "output_type": "execute_result"
    }
   ],
   "source": [
    "data = pd.read_excel('fraud_data_lyst1751134022071.xlsx')\n",
    "data.head()"
   ]
  },
  {
   "cell_type": "code",
   "execution_count": 4,
   "id": "ba6c5e97",
   "metadata": {},
   "outputs": [
    {
     "data": {
      "text/plain": [
       "(14446, 15)"
      ]
     },
     "execution_count": 4,
     "metadata": {},
     "output_type": "execute_result"
    }
   ],
   "source": [
    "data.shape"
   ]
  },
  {
   "cell_type": "markdown",
   "id": "0bfac361",
   "metadata": {},
   "source": [
    "population mean"
   ]
  },
  {
   "cell_type": "code",
   "execution_count": 5,
   "id": "2491be16",
   "metadata": {},
   "outputs": [
    {
     "name": "stdout",
     "output_type": "stream",
     "text": [
      "population mean:  124.43007337671327\n"
     ]
    }
   ],
   "source": [
    "population_mean = data['amt'].mean()\n",
    "print('population mean: ', population_mean)"
   ]
  },
  {
   "cell_type": "markdown",
   "id": "ccb22c6e",
   "metadata": {},
   "source": [
    "sample mean "
   ]
  },
  {
   "cell_type": "code",
   "execution_count": 6,
   "id": "ddd38d05",
   "metadata": {},
   "outputs": [
    {
     "name": "stdout",
     "output_type": "stream",
     "text": [
      "Sample mean:  119.54582999999998\n"
     ]
    }
   ],
   "source": [
    "sample = data['amt'].sample(n=1000, random_state=42)\n",
    "sample_mean = sample.mean()\n",
    "print('Sample mean: ', sample_mean)"
   ]
  },
  {
   "cell_type": "markdown",
   "id": "b7dcfd63",
   "metadata": {},
   "source": [
    "Impact of sample size on sample mean : As the sample size increases, the sample mean becomes a better estimator of the population mean. This is one of the key ideas of the Central Limit Theorem."
   ]
  },
  {
   "cell_type": "code",
   "execution_count": 7,
   "id": "f811d36e",
   "metadata": {},
   "outputs": [
    {
     "name": "stdout",
     "output_type": "stream",
     "text": [
      "Sample Size: 10, Sample Mean: 96.85499999999999\n",
      "Sample Size: 50, Sample Mean: 88.3492\n",
      "Sample Size: 100, Sample Mean: 81.8355\n",
      "Sample Size: 500, Sample Mean: 112.06866000000001\n",
      "Sample Size: 1000, Sample Mean: 119.54582999999998\n",
      "Sample Size: 5000, Sample Mean: 123.99536800000001\n",
      "Sample Size: 7000, Sample Mean: 126.52721\n"
     ]
    }
   ],
   "source": [
    "sample_size = [10, 50, 100, 500, 1000, 5000, 7000]\n",
    "\n",
    "sample_means = [data['amt'].sample(n=size, random_state=42).mean() for size in sample_size]\n",
    "\n",
    "for size, mean in zip(sample_size, sample_means):\n",
    "    print(f'Sample Size: {size}, Sample Mean: {mean}')"
   ]
  },
  {
   "cell_type": "code",
   "execution_count": null,
   "id": "6035f550",
   "metadata": {},
   "outputs": [],
   "source": []
  }
 ],
 "metadata": {
  "kernelspec": {
   "display_name": ".venv (3.13.1)",
   "language": "python",
   "name": "python3"
  },
  "language_info": {
   "codemirror_mode": {
    "name": "ipython",
    "version": 3
   },
   "file_extension": ".py",
   "mimetype": "text/x-python",
   "name": "python",
   "nbconvert_exporter": "python",
   "pygments_lexer": "ipython3",
   "version": "3.13.1"
  }
 },
 "nbformat": 4,
 "nbformat_minor": 5
}
