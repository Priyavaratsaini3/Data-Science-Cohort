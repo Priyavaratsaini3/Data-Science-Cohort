{
 "cells": [
  {
   "cell_type": "code",
   "execution_count": 1,
   "id": "d6be2b0a",
   "metadata": {},
   "outputs": [
    {
     "name": "stdout",
     "output_type": "stream",
     "text": [
      "Fail to reject the null hypothesis: average lifespan of the light bulbs is approximately 800 hours\n"
     ]
    }
   ],
   "source": [
    "from scipy.stats import norm\n",
    "\n",
    "population_mean = 800\n",
    "sample_mean = 790\n",
    "standard_error = 7.5\n",
    "alpha = 0.05\n",
    "\n",
    "z_score = (sample_mean - population_mean)/standard_error\n",
    "\n",
    "## two tailed test \n",
    "p_value = 2 * norm.cdf(z_score)\n",
    "\n",
    "if p_value > alpha:\n",
    "    print('Fail to reject the null hypothesis: average lifespan of the light bulbs is approximately 800 hours')\n",
    "else:\n",
    "    print('Reject the null hypothesis: average lifespan of the light bulb is not 800 hours')\n"
   ]
  },
  {
   "cell_type": "code",
   "execution_count": null,
   "id": "cedebf2c",
   "metadata": {},
   "outputs": [],
   "source": []
  }
 ],
 "metadata": {
  "kernelspec": {
   "display_name": ".venv (3.13.1)",
   "language": "python",
   "name": "python3"
  },
  "language_info": {
   "codemirror_mode": {
    "name": "ipython",
    "version": 3
   },
   "file_extension": ".py",
   "mimetype": "text/x-python",
   "name": "python",
   "nbconvert_exporter": "python",
   "pygments_lexer": "ipython3",
   "version": "3.13.1"
  }
 },
 "nbformat": 4,
 "nbformat_minor": 5
}
