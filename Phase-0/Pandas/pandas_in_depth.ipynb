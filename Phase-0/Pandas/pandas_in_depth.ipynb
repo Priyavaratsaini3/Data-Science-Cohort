{
 "cells": [
  {
   "cell_type": "code",
   "execution_count": 2,
   "id": "510a2c50",
   "metadata": {},
   "outputs": [],
   "source": [
    "import pandas as pd\n",
    "import numpy as np"
   ]
  },
  {
   "cell_type": "markdown",
   "id": "82f0d846",
   "metadata": {},
   "source": [
    "Install Pandas\n",
    "\n",
    "pip install pandas\n",
    "\n",
    "Import pandas"
   ]
  },
  {
   "cell_type": "markdown",
   "id": "5927c3a4",
   "metadata": {},
   "source": [
    "Read the Data"
   ]
  },
  {
   "cell_type": "markdown",
   "id": "3fe66496",
   "metadata": {},
   "source": [
    "File Handling\n",
    "\n",
    "```\n",
    "try:\n",
    "    data = pd.read_csv('path_of_file')\n",
    "except FileNotFoundError as e:\n",
    "    print(\"File not found\", e)\n",
    "```"
   ]
  },
  {
   "cell_type": "code",
   "execution_count": 3,
   "id": "d1e8e807",
   "metadata": {},
   "outputs": [
    {
     "data": {
      "text/html": [
       "<div>\n",
       "<style scoped>\n",
       "    .dataframe tbody tr th:only-of-type {\n",
       "        vertical-align: middle;\n",
       "    }\n",
       "\n",
       "    .dataframe tbody tr th {\n",
       "        vertical-align: top;\n",
       "    }\n",
       "\n",
       "    .dataframe thead th {\n",
       "        text-align: right;\n",
       "    }\n",
       "</style>\n",
       "<table border=\"1\" class=\"dataframe\">\n",
       "  <thead>\n",
       "    <tr style=\"text-align: right;\">\n",
       "      <th></th>\n",
       "      <th>PassengerId</th>\n",
       "      <th>Survived</th>\n",
       "      <th>Pclass</th>\n",
       "      <th>Name</th>\n",
       "      <th>Sex</th>\n",
       "      <th>Age</th>\n",
       "      <th>SibSp</th>\n",
       "      <th>Parch</th>\n",
       "      <th>Ticket</th>\n",
       "      <th>Fare</th>\n",
       "      <th>Cabin</th>\n",
       "      <th>Embarked</th>\n",
       "    </tr>\n",
       "  </thead>\n",
       "  <tbody>\n",
       "    <tr>\n",
       "      <th>0</th>\n",
       "      <td>892</td>\n",
       "      <td>0</td>\n",
       "      <td>3</td>\n",
       "      <td>Kelly, Mr. James</td>\n",
       "      <td>male</td>\n",
       "      <td>34.5</td>\n",
       "      <td>0</td>\n",
       "      <td>0</td>\n",
       "      <td>330911</td>\n",
       "      <td>7.8292</td>\n",
       "      <td>NaN</td>\n",
       "      <td>Q</td>\n",
       "    </tr>\n",
       "    <tr>\n",
       "      <th>1</th>\n",
       "      <td>893</td>\n",
       "      <td>1</td>\n",
       "      <td>3</td>\n",
       "      <td>Wilkes, Mrs. James (Ellen Needs)</td>\n",
       "      <td>female</td>\n",
       "      <td>47.0</td>\n",
       "      <td>1</td>\n",
       "      <td>0</td>\n",
       "      <td>363272</td>\n",
       "      <td>7.0000</td>\n",
       "      <td>NaN</td>\n",
       "      <td>S</td>\n",
       "    </tr>\n",
       "    <tr>\n",
       "      <th>2</th>\n",
       "      <td>894</td>\n",
       "      <td>0</td>\n",
       "      <td>2</td>\n",
       "      <td>Myles, Mr. Thomas Francis</td>\n",
       "      <td>male</td>\n",
       "      <td>62.0</td>\n",
       "      <td>0</td>\n",
       "      <td>0</td>\n",
       "      <td>240276</td>\n",
       "      <td>9.6875</td>\n",
       "      <td>NaN</td>\n",
       "      <td>Q</td>\n",
       "    </tr>\n",
       "    <tr>\n",
       "      <th>3</th>\n",
       "      <td>895</td>\n",
       "      <td>0</td>\n",
       "      <td>3</td>\n",
       "      <td>Wirz, Mr. Albert</td>\n",
       "      <td>male</td>\n",
       "      <td>27.0</td>\n",
       "      <td>0</td>\n",
       "      <td>0</td>\n",
       "      <td>315154</td>\n",
       "      <td>8.6625</td>\n",
       "      <td>NaN</td>\n",
       "      <td>S</td>\n",
       "    </tr>\n",
       "    <tr>\n",
       "      <th>4</th>\n",
       "      <td>896</td>\n",
       "      <td>1</td>\n",
       "      <td>3</td>\n",
       "      <td>Hirvonen, Mrs. Alexander (Helga E Lindqvist)</td>\n",
       "      <td>female</td>\n",
       "      <td>22.0</td>\n",
       "      <td>1</td>\n",
       "      <td>1</td>\n",
       "      <td>3101298</td>\n",
       "      <td>12.2875</td>\n",
       "      <td>NaN</td>\n",
       "      <td>S</td>\n",
       "    </tr>\n",
       "    <tr>\n",
       "      <th>...</th>\n",
       "      <td>...</td>\n",
       "      <td>...</td>\n",
       "      <td>...</td>\n",
       "      <td>...</td>\n",
       "      <td>...</td>\n",
       "      <td>...</td>\n",
       "      <td>...</td>\n",
       "      <td>...</td>\n",
       "      <td>...</td>\n",
       "      <td>...</td>\n",
       "      <td>...</td>\n",
       "      <td>...</td>\n",
       "    </tr>\n",
       "    <tr>\n",
       "      <th>413</th>\n",
       "      <td>1305</td>\n",
       "      <td>0</td>\n",
       "      <td>3</td>\n",
       "      <td>Spector, Mr. Woolf</td>\n",
       "      <td>male</td>\n",
       "      <td>NaN</td>\n",
       "      <td>0</td>\n",
       "      <td>0</td>\n",
       "      <td>A.5. 3236</td>\n",
       "      <td>8.0500</td>\n",
       "      <td>NaN</td>\n",
       "      <td>S</td>\n",
       "    </tr>\n",
       "    <tr>\n",
       "      <th>414</th>\n",
       "      <td>1306</td>\n",
       "      <td>1</td>\n",
       "      <td>1</td>\n",
       "      <td>Oliva y Ocana, Dona. Fermina</td>\n",
       "      <td>female</td>\n",
       "      <td>39.0</td>\n",
       "      <td>0</td>\n",
       "      <td>0</td>\n",
       "      <td>PC 17758</td>\n",
       "      <td>108.9000</td>\n",
       "      <td>C105</td>\n",
       "      <td>C</td>\n",
       "    </tr>\n",
       "    <tr>\n",
       "      <th>415</th>\n",
       "      <td>1307</td>\n",
       "      <td>0</td>\n",
       "      <td>3</td>\n",
       "      <td>Saether, Mr. Simon Sivertsen</td>\n",
       "      <td>male</td>\n",
       "      <td>38.5</td>\n",
       "      <td>0</td>\n",
       "      <td>0</td>\n",
       "      <td>SOTON/O.Q. 3101262</td>\n",
       "      <td>7.2500</td>\n",
       "      <td>NaN</td>\n",
       "      <td>S</td>\n",
       "    </tr>\n",
       "    <tr>\n",
       "      <th>416</th>\n",
       "      <td>1308</td>\n",
       "      <td>0</td>\n",
       "      <td>3</td>\n",
       "      <td>Ware, Mr. Frederick</td>\n",
       "      <td>male</td>\n",
       "      <td>NaN</td>\n",
       "      <td>0</td>\n",
       "      <td>0</td>\n",
       "      <td>359309</td>\n",
       "      <td>8.0500</td>\n",
       "      <td>NaN</td>\n",
       "      <td>S</td>\n",
       "    </tr>\n",
       "    <tr>\n",
       "      <th>417</th>\n",
       "      <td>1309</td>\n",
       "      <td>0</td>\n",
       "      <td>3</td>\n",
       "      <td>Peter, Master. Michael J</td>\n",
       "      <td>male</td>\n",
       "      <td>NaN</td>\n",
       "      <td>1</td>\n",
       "      <td>1</td>\n",
       "      <td>2668</td>\n",
       "      <td>22.3583</td>\n",
       "      <td>NaN</td>\n",
       "      <td>C</td>\n",
       "    </tr>\n",
       "  </tbody>\n",
       "</table>\n",
       "<p>418 rows × 12 columns</p>\n",
       "</div>"
      ],
      "text/plain": [
       "     PassengerId  Survived  Pclass  \\\n",
       "0            892         0       3   \n",
       "1            893         1       3   \n",
       "2            894         0       2   \n",
       "3            895         0       3   \n",
       "4            896         1       3   \n",
       "..           ...       ...     ...   \n",
       "413         1305         0       3   \n",
       "414         1306         1       1   \n",
       "415         1307         0       3   \n",
       "416         1308         0       3   \n",
       "417         1309         0       3   \n",
       "\n",
       "                                             Name     Sex   Age  SibSp  Parch  \\\n",
       "0                                Kelly, Mr. James    male  34.5      0      0   \n",
       "1                Wilkes, Mrs. James (Ellen Needs)  female  47.0      1      0   \n",
       "2                       Myles, Mr. Thomas Francis    male  62.0      0      0   \n",
       "3                                Wirz, Mr. Albert    male  27.0      0      0   \n",
       "4    Hirvonen, Mrs. Alexander (Helga E Lindqvist)  female  22.0      1      1   \n",
       "..                                            ...     ...   ...    ...    ...   \n",
       "413                            Spector, Mr. Woolf    male   NaN      0      0   \n",
       "414                  Oliva y Ocana, Dona. Fermina  female  39.0      0      0   \n",
       "415                  Saether, Mr. Simon Sivertsen    male  38.5      0      0   \n",
       "416                           Ware, Mr. Frederick    male   NaN      0      0   \n",
       "417                      Peter, Master. Michael J    male   NaN      1      1   \n",
       "\n",
       "                 Ticket      Fare Cabin Embarked  \n",
       "0                330911    7.8292   NaN        Q  \n",
       "1                363272    7.0000   NaN        S  \n",
       "2                240276    9.6875   NaN        Q  \n",
       "3                315154    8.6625   NaN        S  \n",
       "4               3101298   12.2875   NaN        S  \n",
       "..                  ...       ...   ...      ...  \n",
       "413           A.5. 3236    8.0500   NaN        S  \n",
       "414            PC 17758  108.9000  C105        C  \n",
       "415  SOTON/O.Q. 3101262    7.2500   NaN        S  \n",
       "416              359309    8.0500   NaN        S  \n",
       "417                2668   22.3583   NaN        C  \n",
       "\n",
       "[418 rows x 12 columns]"
      ]
     },
     "execution_count": 3,
     "metadata": {},
     "output_type": "execute_result"
    }
   ],
   "source": [
    "data = pd.read_csv('dataset_lyst1747557373435.csv')\n",
    "data"
   ]
  },
  {
   "cell_type": "markdown",
   "id": "59f3b229",
   "metadata": {},
   "source": [
    "Diplay the top 5 records in the data"
   ]
  },
  {
   "cell_type": "code",
   "execution_count": 4,
   "id": "4d14efe9",
   "metadata": {},
   "outputs": [
    {
     "data": {
      "text/html": [
       "<div>\n",
       "<style scoped>\n",
       "    .dataframe tbody tr th:only-of-type {\n",
       "        vertical-align: middle;\n",
       "    }\n",
       "\n",
       "    .dataframe tbody tr th {\n",
       "        vertical-align: top;\n",
       "    }\n",
       "\n",
       "    .dataframe thead th {\n",
       "        text-align: right;\n",
       "    }\n",
       "</style>\n",
       "<table border=\"1\" class=\"dataframe\">\n",
       "  <thead>\n",
       "    <tr style=\"text-align: right;\">\n",
       "      <th></th>\n",
       "      <th>PassengerId</th>\n",
       "      <th>Survived</th>\n",
       "      <th>Pclass</th>\n",
       "      <th>Name</th>\n",
       "      <th>Sex</th>\n",
       "      <th>Age</th>\n",
       "      <th>SibSp</th>\n",
       "      <th>Parch</th>\n",
       "      <th>Ticket</th>\n",
       "      <th>Fare</th>\n",
       "      <th>Cabin</th>\n",
       "      <th>Embarked</th>\n",
       "    </tr>\n",
       "  </thead>\n",
       "  <tbody>\n",
       "    <tr>\n",
       "      <th>0</th>\n",
       "      <td>892</td>\n",
       "      <td>0</td>\n",
       "      <td>3</td>\n",
       "      <td>Kelly, Mr. James</td>\n",
       "      <td>male</td>\n",
       "      <td>34.5</td>\n",
       "      <td>0</td>\n",
       "      <td>0</td>\n",
       "      <td>330911</td>\n",
       "      <td>7.8292</td>\n",
       "      <td>NaN</td>\n",
       "      <td>Q</td>\n",
       "    </tr>\n",
       "    <tr>\n",
       "      <th>1</th>\n",
       "      <td>893</td>\n",
       "      <td>1</td>\n",
       "      <td>3</td>\n",
       "      <td>Wilkes, Mrs. James (Ellen Needs)</td>\n",
       "      <td>female</td>\n",
       "      <td>47.0</td>\n",
       "      <td>1</td>\n",
       "      <td>0</td>\n",
       "      <td>363272</td>\n",
       "      <td>7.0000</td>\n",
       "      <td>NaN</td>\n",
       "      <td>S</td>\n",
       "    </tr>\n",
       "    <tr>\n",
       "      <th>2</th>\n",
       "      <td>894</td>\n",
       "      <td>0</td>\n",
       "      <td>2</td>\n",
       "      <td>Myles, Mr. Thomas Francis</td>\n",
       "      <td>male</td>\n",
       "      <td>62.0</td>\n",
       "      <td>0</td>\n",
       "      <td>0</td>\n",
       "      <td>240276</td>\n",
       "      <td>9.6875</td>\n",
       "      <td>NaN</td>\n",
       "      <td>Q</td>\n",
       "    </tr>\n",
       "    <tr>\n",
       "      <th>3</th>\n",
       "      <td>895</td>\n",
       "      <td>0</td>\n",
       "      <td>3</td>\n",
       "      <td>Wirz, Mr. Albert</td>\n",
       "      <td>male</td>\n",
       "      <td>27.0</td>\n",
       "      <td>0</td>\n",
       "      <td>0</td>\n",
       "      <td>315154</td>\n",
       "      <td>8.6625</td>\n",
       "      <td>NaN</td>\n",
       "      <td>S</td>\n",
       "    </tr>\n",
       "    <tr>\n",
       "      <th>4</th>\n",
       "      <td>896</td>\n",
       "      <td>1</td>\n",
       "      <td>3</td>\n",
       "      <td>Hirvonen, Mrs. Alexander (Helga E Lindqvist)</td>\n",
       "      <td>female</td>\n",
       "      <td>22.0</td>\n",
       "      <td>1</td>\n",
       "      <td>1</td>\n",
       "      <td>3101298</td>\n",
       "      <td>12.2875</td>\n",
       "      <td>NaN</td>\n",
       "      <td>S</td>\n",
       "    </tr>\n",
       "    <tr>\n",
       "      <th>5</th>\n",
       "      <td>897</td>\n",
       "      <td>0</td>\n",
       "      <td>3</td>\n",
       "      <td>Svensson, Mr. Johan Cervin</td>\n",
       "      <td>male</td>\n",
       "      <td>14.0</td>\n",
       "      <td>0</td>\n",
       "      <td>0</td>\n",
       "      <td>7538</td>\n",
       "      <td>9.2250</td>\n",
       "      <td>NaN</td>\n",
       "      <td>S</td>\n",
       "    </tr>\n",
       "    <tr>\n",
       "      <th>6</th>\n",
       "      <td>898</td>\n",
       "      <td>1</td>\n",
       "      <td>3</td>\n",
       "      <td>Connolly, Miss. Kate</td>\n",
       "      <td>female</td>\n",
       "      <td>30.0</td>\n",
       "      <td>0</td>\n",
       "      <td>0</td>\n",
       "      <td>330972</td>\n",
       "      <td>7.6292</td>\n",
       "      <td>NaN</td>\n",
       "      <td>Q</td>\n",
       "    </tr>\n",
       "    <tr>\n",
       "      <th>7</th>\n",
       "      <td>899</td>\n",
       "      <td>0</td>\n",
       "      <td>2</td>\n",
       "      <td>Caldwell, Mr. Albert Francis</td>\n",
       "      <td>male</td>\n",
       "      <td>26.0</td>\n",
       "      <td>1</td>\n",
       "      <td>1</td>\n",
       "      <td>248738</td>\n",
       "      <td>29.0000</td>\n",
       "      <td>NaN</td>\n",
       "      <td>S</td>\n",
       "    </tr>\n",
       "    <tr>\n",
       "      <th>8</th>\n",
       "      <td>900</td>\n",
       "      <td>1</td>\n",
       "      <td>3</td>\n",
       "      <td>Abrahim, Mrs. Joseph (Sophie Halaut Easu)</td>\n",
       "      <td>female</td>\n",
       "      <td>18.0</td>\n",
       "      <td>0</td>\n",
       "      <td>0</td>\n",
       "      <td>2657</td>\n",
       "      <td>7.2292</td>\n",
       "      <td>NaN</td>\n",
       "      <td>C</td>\n",
       "    </tr>\n",
       "    <tr>\n",
       "      <th>9</th>\n",
       "      <td>901</td>\n",
       "      <td>0</td>\n",
       "      <td>3</td>\n",
       "      <td>Davies, Mr. John Samuel</td>\n",
       "      <td>male</td>\n",
       "      <td>21.0</td>\n",
       "      <td>2</td>\n",
       "      <td>0</td>\n",
       "      <td>A/4 48871</td>\n",
       "      <td>24.1500</td>\n",
       "      <td>NaN</td>\n",
       "      <td>S</td>\n",
       "    </tr>\n",
       "    <tr>\n",
       "      <th>10</th>\n",
       "      <td>902</td>\n",
       "      <td>0</td>\n",
       "      <td>3</td>\n",
       "      <td>Ilieff, Mr. Ylio</td>\n",
       "      <td>male</td>\n",
       "      <td>NaN</td>\n",
       "      <td>0</td>\n",
       "      <td>0</td>\n",
       "      <td>349220</td>\n",
       "      <td>7.8958</td>\n",
       "      <td>NaN</td>\n",
       "      <td>S</td>\n",
       "    </tr>\n",
       "    <tr>\n",
       "      <th>11</th>\n",
       "      <td>903</td>\n",
       "      <td>0</td>\n",
       "      <td>1</td>\n",
       "      <td>Jones, Mr. Charles Cresson</td>\n",
       "      <td>male</td>\n",
       "      <td>46.0</td>\n",
       "      <td>0</td>\n",
       "      <td>0</td>\n",
       "      <td>694</td>\n",
       "      <td>26.0000</td>\n",
       "      <td>NaN</td>\n",
       "      <td>S</td>\n",
       "    </tr>\n",
       "    <tr>\n",
       "      <th>12</th>\n",
       "      <td>904</td>\n",
       "      <td>1</td>\n",
       "      <td>1</td>\n",
       "      <td>Snyder, Mrs. John Pillsbury (Nelle Stevenson)</td>\n",
       "      <td>female</td>\n",
       "      <td>23.0</td>\n",
       "      <td>1</td>\n",
       "      <td>0</td>\n",
       "      <td>21228</td>\n",
       "      <td>82.2667</td>\n",
       "      <td>B45</td>\n",
       "      <td>S</td>\n",
       "    </tr>\n",
       "    <tr>\n",
       "      <th>13</th>\n",
       "      <td>905</td>\n",
       "      <td>0</td>\n",
       "      <td>2</td>\n",
       "      <td>Howard, Mr. Benjamin</td>\n",
       "      <td>male</td>\n",
       "      <td>63.0</td>\n",
       "      <td>1</td>\n",
       "      <td>0</td>\n",
       "      <td>24065</td>\n",
       "      <td>26.0000</td>\n",
       "      <td>NaN</td>\n",
       "      <td>S</td>\n",
       "    </tr>\n",
       "    <tr>\n",
       "      <th>14</th>\n",
       "      <td>906</td>\n",
       "      <td>1</td>\n",
       "      <td>1</td>\n",
       "      <td>Chaffee, Mrs. Herbert Fuller (Carrie Constance...</td>\n",
       "      <td>female</td>\n",
       "      <td>47.0</td>\n",
       "      <td>1</td>\n",
       "      <td>0</td>\n",
       "      <td>W.E.P. 5734</td>\n",
       "      <td>61.1750</td>\n",
       "      <td>E31</td>\n",
       "      <td>S</td>\n",
       "    </tr>\n",
       "  </tbody>\n",
       "</table>\n",
       "</div>"
      ],
      "text/plain": [
       "    PassengerId  Survived  Pclass  \\\n",
       "0           892         0       3   \n",
       "1           893         1       3   \n",
       "2           894         0       2   \n",
       "3           895         0       3   \n",
       "4           896         1       3   \n",
       "5           897         0       3   \n",
       "6           898         1       3   \n",
       "7           899         0       2   \n",
       "8           900         1       3   \n",
       "9           901         0       3   \n",
       "10          902         0       3   \n",
       "11          903         0       1   \n",
       "12          904         1       1   \n",
       "13          905         0       2   \n",
       "14          906         1       1   \n",
       "\n",
       "                                                 Name     Sex   Age  SibSp  \\\n",
       "0                                    Kelly, Mr. James    male  34.5      0   \n",
       "1                    Wilkes, Mrs. James (Ellen Needs)  female  47.0      1   \n",
       "2                           Myles, Mr. Thomas Francis    male  62.0      0   \n",
       "3                                    Wirz, Mr. Albert    male  27.0      0   \n",
       "4        Hirvonen, Mrs. Alexander (Helga E Lindqvist)  female  22.0      1   \n",
       "5                          Svensson, Mr. Johan Cervin    male  14.0      0   \n",
       "6                                Connolly, Miss. Kate  female  30.0      0   \n",
       "7                        Caldwell, Mr. Albert Francis    male  26.0      1   \n",
       "8           Abrahim, Mrs. Joseph (Sophie Halaut Easu)  female  18.0      0   \n",
       "9                             Davies, Mr. John Samuel    male  21.0      2   \n",
       "10                                   Ilieff, Mr. Ylio    male   NaN      0   \n",
       "11                         Jones, Mr. Charles Cresson    male  46.0      0   \n",
       "12      Snyder, Mrs. John Pillsbury (Nelle Stevenson)  female  23.0      1   \n",
       "13                               Howard, Mr. Benjamin    male  63.0      1   \n",
       "14  Chaffee, Mrs. Herbert Fuller (Carrie Constance...  female  47.0      1   \n",
       "\n",
       "    Parch       Ticket     Fare Cabin Embarked  \n",
       "0       0       330911   7.8292   NaN        Q  \n",
       "1       0       363272   7.0000   NaN        S  \n",
       "2       0       240276   9.6875   NaN        Q  \n",
       "3       0       315154   8.6625   NaN        S  \n",
       "4       1      3101298  12.2875   NaN        S  \n",
       "5       0         7538   9.2250   NaN        S  \n",
       "6       0       330972   7.6292   NaN        Q  \n",
       "7       1       248738  29.0000   NaN        S  \n",
       "8       0         2657   7.2292   NaN        C  \n",
       "9       0    A/4 48871  24.1500   NaN        S  \n",
       "10      0       349220   7.8958   NaN        S  \n",
       "11      0          694  26.0000   NaN        S  \n",
       "12      0        21228  82.2667   B45        S  \n",
       "13      0        24065  26.0000   NaN        S  \n",
       "14      0  W.E.P. 5734  61.1750   E31        S  "
      ]
     },
     "execution_count": 4,
     "metadata": {},
     "output_type": "execute_result"
    }
   ],
   "source": [
    "data.head(15)"
   ]
  },
  {
   "cell_type": "markdown",
   "id": "9e1f757d",
   "metadata": {},
   "source": [
    "Data Structure : DataFrame"
   ]
  },
  {
   "cell_type": "code",
   "execution_count": 5,
   "id": "0f4d4a6d",
   "metadata": {},
   "outputs": [
    {
     "data": {
      "text/plain": [
       "pandas.core.frame.DataFrame"
      ]
     },
     "execution_count": 5,
     "metadata": {},
     "output_type": "execute_result"
    }
   ],
   "source": [
    "type(data)"
   ]
  },
  {
   "cell_type": "markdown",
   "id": "e39f245e",
   "metadata": {},
   "source": [
    "Display the last few records in the dataframe"
   ]
  },
  {
   "cell_type": "code",
   "execution_count": 6,
   "id": "da24f0f5",
   "metadata": {},
   "outputs": [
    {
     "data": {
      "text/html": [
       "<div>\n",
       "<style scoped>\n",
       "    .dataframe tbody tr th:only-of-type {\n",
       "        vertical-align: middle;\n",
       "    }\n",
       "\n",
       "    .dataframe tbody tr th {\n",
       "        vertical-align: top;\n",
       "    }\n",
       "\n",
       "    .dataframe thead th {\n",
       "        text-align: right;\n",
       "    }\n",
       "</style>\n",
       "<table border=\"1\" class=\"dataframe\">\n",
       "  <thead>\n",
       "    <tr style=\"text-align: right;\">\n",
       "      <th></th>\n",
       "      <th>PassengerId</th>\n",
       "      <th>Survived</th>\n",
       "      <th>Pclass</th>\n",
       "      <th>Name</th>\n",
       "      <th>Sex</th>\n",
       "      <th>Age</th>\n",
       "      <th>SibSp</th>\n",
       "      <th>Parch</th>\n",
       "      <th>Ticket</th>\n",
       "      <th>Fare</th>\n",
       "      <th>Cabin</th>\n",
       "      <th>Embarked</th>\n",
       "    </tr>\n",
       "  </thead>\n",
       "  <tbody>\n",
       "    <tr>\n",
       "      <th>413</th>\n",
       "      <td>1305</td>\n",
       "      <td>0</td>\n",
       "      <td>3</td>\n",
       "      <td>Spector, Mr. Woolf</td>\n",
       "      <td>male</td>\n",
       "      <td>NaN</td>\n",
       "      <td>0</td>\n",
       "      <td>0</td>\n",
       "      <td>A.5. 3236</td>\n",
       "      <td>8.0500</td>\n",
       "      <td>NaN</td>\n",
       "      <td>S</td>\n",
       "    </tr>\n",
       "    <tr>\n",
       "      <th>414</th>\n",
       "      <td>1306</td>\n",
       "      <td>1</td>\n",
       "      <td>1</td>\n",
       "      <td>Oliva y Ocana, Dona. Fermina</td>\n",
       "      <td>female</td>\n",
       "      <td>39.0</td>\n",
       "      <td>0</td>\n",
       "      <td>0</td>\n",
       "      <td>PC 17758</td>\n",
       "      <td>108.9000</td>\n",
       "      <td>C105</td>\n",
       "      <td>C</td>\n",
       "    </tr>\n",
       "    <tr>\n",
       "      <th>415</th>\n",
       "      <td>1307</td>\n",
       "      <td>0</td>\n",
       "      <td>3</td>\n",
       "      <td>Saether, Mr. Simon Sivertsen</td>\n",
       "      <td>male</td>\n",
       "      <td>38.5</td>\n",
       "      <td>0</td>\n",
       "      <td>0</td>\n",
       "      <td>SOTON/O.Q. 3101262</td>\n",
       "      <td>7.2500</td>\n",
       "      <td>NaN</td>\n",
       "      <td>S</td>\n",
       "    </tr>\n",
       "    <tr>\n",
       "      <th>416</th>\n",
       "      <td>1308</td>\n",
       "      <td>0</td>\n",
       "      <td>3</td>\n",
       "      <td>Ware, Mr. Frederick</td>\n",
       "      <td>male</td>\n",
       "      <td>NaN</td>\n",
       "      <td>0</td>\n",
       "      <td>0</td>\n",
       "      <td>359309</td>\n",
       "      <td>8.0500</td>\n",
       "      <td>NaN</td>\n",
       "      <td>S</td>\n",
       "    </tr>\n",
       "    <tr>\n",
       "      <th>417</th>\n",
       "      <td>1309</td>\n",
       "      <td>0</td>\n",
       "      <td>3</td>\n",
       "      <td>Peter, Master. Michael J</td>\n",
       "      <td>male</td>\n",
       "      <td>NaN</td>\n",
       "      <td>1</td>\n",
       "      <td>1</td>\n",
       "      <td>2668</td>\n",
       "      <td>22.3583</td>\n",
       "      <td>NaN</td>\n",
       "      <td>C</td>\n",
       "    </tr>\n",
       "  </tbody>\n",
       "</table>\n",
       "</div>"
      ],
      "text/plain": [
       "     PassengerId  Survived  Pclass                          Name     Sex  \\\n",
       "413         1305         0       3            Spector, Mr. Woolf    male   \n",
       "414         1306         1       1  Oliva y Ocana, Dona. Fermina  female   \n",
       "415         1307         0       3  Saether, Mr. Simon Sivertsen    male   \n",
       "416         1308         0       3           Ware, Mr. Frederick    male   \n",
       "417         1309         0       3      Peter, Master. Michael J    male   \n",
       "\n",
       "      Age  SibSp  Parch              Ticket      Fare Cabin Embarked  \n",
       "413   NaN      0      0           A.5. 3236    8.0500   NaN        S  \n",
       "414  39.0      0      0            PC 17758  108.9000  C105        C  \n",
       "415  38.5      0      0  SOTON/O.Q. 3101262    7.2500   NaN        S  \n",
       "416   NaN      0      0              359309    8.0500   NaN        S  \n",
       "417   NaN      1      1                2668   22.3583   NaN        C  "
      ]
     },
     "execution_count": 6,
     "metadata": {},
     "output_type": "execute_result"
    }
   ],
   "source": [
    "data.tail() "
   ]
  },
  {
   "cell_type": "code",
   "execution_count": 7,
   "id": "33168f72",
   "metadata": {},
   "outputs": [
    {
     "data": {
      "text/html": [
       "<div>\n",
       "<style scoped>\n",
       "    .dataframe tbody tr th:only-of-type {\n",
       "        vertical-align: middle;\n",
       "    }\n",
       "\n",
       "    .dataframe tbody tr th {\n",
       "        vertical-align: top;\n",
       "    }\n",
       "\n",
       "    .dataframe thead th {\n",
       "        text-align: right;\n",
       "    }\n",
       "</style>\n",
       "<table border=\"1\" class=\"dataframe\">\n",
       "  <thead>\n",
       "    <tr style=\"text-align: right;\">\n",
       "      <th></th>\n",
       "      <th>PassengerId</th>\n",
       "      <th>Survived</th>\n",
       "      <th>Pclass</th>\n",
       "      <th>Name</th>\n",
       "      <th>Sex</th>\n",
       "      <th>Age</th>\n",
       "      <th>SibSp</th>\n",
       "      <th>Parch</th>\n",
       "      <th>Ticket</th>\n",
       "      <th>Fare</th>\n",
       "      <th>Cabin</th>\n",
       "      <th>Embarked</th>\n",
       "    </tr>\n",
       "  </thead>\n",
       "  <tbody>\n",
       "    <tr>\n",
       "      <th>403</th>\n",
       "      <td>1295</td>\n",
       "      <td>0</td>\n",
       "      <td>1</td>\n",
       "      <td>Carrau, Mr. Jose Pedro</td>\n",
       "      <td>male</td>\n",
       "      <td>17.0</td>\n",
       "      <td>0</td>\n",
       "      <td>0</td>\n",
       "      <td>113059</td>\n",
       "      <td>47.1000</td>\n",
       "      <td>NaN</td>\n",
       "      <td>S</td>\n",
       "    </tr>\n",
       "    <tr>\n",
       "      <th>404</th>\n",
       "      <td>1296</td>\n",
       "      <td>0</td>\n",
       "      <td>1</td>\n",
       "      <td>Frauenthal, Mr. Isaac Gerald</td>\n",
       "      <td>male</td>\n",
       "      <td>43.0</td>\n",
       "      <td>1</td>\n",
       "      <td>0</td>\n",
       "      <td>17765</td>\n",
       "      <td>27.7208</td>\n",
       "      <td>D40</td>\n",
       "      <td>C</td>\n",
       "    </tr>\n",
       "    <tr>\n",
       "      <th>405</th>\n",
       "      <td>1297</td>\n",
       "      <td>0</td>\n",
       "      <td>2</td>\n",
       "      <td>Nourney, Mr. Alfred (Baron von Drachstedt\")\"</td>\n",
       "      <td>male</td>\n",
       "      <td>20.0</td>\n",
       "      <td>0</td>\n",
       "      <td>0</td>\n",
       "      <td>SC/PARIS 2166</td>\n",
       "      <td>13.8625</td>\n",
       "      <td>D38</td>\n",
       "      <td>C</td>\n",
       "    </tr>\n",
       "    <tr>\n",
       "      <th>406</th>\n",
       "      <td>1298</td>\n",
       "      <td>0</td>\n",
       "      <td>2</td>\n",
       "      <td>Ware, Mr. William Jeffery</td>\n",
       "      <td>male</td>\n",
       "      <td>23.0</td>\n",
       "      <td>1</td>\n",
       "      <td>0</td>\n",
       "      <td>28666</td>\n",
       "      <td>10.5000</td>\n",
       "      <td>NaN</td>\n",
       "      <td>S</td>\n",
       "    </tr>\n",
       "    <tr>\n",
       "      <th>407</th>\n",
       "      <td>1299</td>\n",
       "      <td>0</td>\n",
       "      <td>1</td>\n",
       "      <td>Widener, Mr. George Dunton</td>\n",
       "      <td>male</td>\n",
       "      <td>50.0</td>\n",
       "      <td>1</td>\n",
       "      <td>1</td>\n",
       "      <td>113503</td>\n",
       "      <td>211.5000</td>\n",
       "      <td>C80</td>\n",
       "      <td>C</td>\n",
       "    </tr>\n",
       "    <tr>\n",
       "      <th>408</th>\n",
       "      <td>1300</td>\n",
       "      <td>1</td>\n",
       "      <td>3</td>\n",
       "      <td>Riordan, Miss. Johanna Hannah\"\"</td>\n",
       "      <td>female</td>\n",
       "      <td>NaN</td>\n",
       "      <td>0</td>\n",
       "      <td>0</td>\n",
       "      <td>334915</td>\n",
       "      <td>7.7208</td>\n",
       "      <td>NaN</td>\n",
       "      <td>Q</td>\n",
       "    </tr>\n",
       "    <tr>\n",
       "      <th>409</th>\n",
       "      <td>1301</td>\n",
       "      <td>1</td>\n",
       "      <td>3</td>\n",
       "      <td>Peacock, Miss. Treasteall</td>\n",
       "      <td>female</td>\n",
       "      <td>3.0</td>\n",
       "      <td>1</td>\n",
       "      <td>1</td>\n",
       "      <td>SOTON/O.Q. 3101315</td>\n",
       "      <td>13.7750</td>\n",
       "      <td>NaN</td>\n",
       "      <td>S</td>\n",
       "    </tr>\n",
       "    <tr>\n",
       "      <th>410</th>\n",
       "      <td>1302</td>\n",
       "      <td>1</td>\n",
       "      <td>3</td>\n",
       "      <td>Naughton, Miss. Hannah</td>\n",
       "      <td>female</td>\n",
       "      <td>NaN</td>\n",
       "      <td>0</td>\n",
       "      <td>0</td>\n",
       "      <td>365237</td>\n",
       "      <td>7.7500</td>\n",
       "      <td>NaN</td>\n",
       "      <td>Q</td>\n",
       "    </tr>\n",
       "    <tr>\n",
       "      <th>411</th>\n",
       "      <td>1303</td>\n",
       "      <td>1</td>\n",
       "      <td>1</td>\n",
       "      <td>Minahan, Mrs. William Edward (Lillian E Thorpe)</td>\n",
       "      <td>female</td>\n",
       "      <td>37.0</td>\n",
       "      <td>1</td>\n",
       "      <td>0</td>\n",
       "      <td>19928</td>\n",
       "      <td>90.0000</td>\n",
       "      <td>C78</td>\n",
       "      <td>Q</td>\n",
       "    </tr>\n",
       "    <tr>\n",
       "      <th>412</th>\n",
       "      <td>1304</td>\n",
       "      <td>1</td>\n",
       "      <td>3</td>\n",
       "      <td>Henriksson, Miss. Jenny Lovisa</td>\n",
       "      <td>female</td>\n",
       "      <td>28.0</td>\n",
       "      <td>0</td>\n",
       "      <td>0</td>\n",
       "      <td>347086</td>\n",
       "      <td>7.7750</td>\n",
       "      <td>NaN</td>\n",
       "      <td>S</td>\n",
       "    </tr>\n",
       "    <tr>\n",
       "      <th>413</th>\n",
       "      <td>1305</td>\n",
       "      <td>0</td>\n",
       "      <td>3</td>\n",
       "      <td>Spector, Mr. Woolf</td>\n",
       "      <td>male</td>\n",
       "      <td>NaN</td>\n",
       "      <td>0</td>\n",
       "      <td>0</td>\n",
       "      <td>A.5. 3236</td>\n",
       "      <td>8.0500</td>\n",
       "      <td>NaN</td>\n",
       "      <td>S</td>\n",
       "    </tr>\n",
       "    <tr>\n",
       "      <th>414</th>\n",
       "      <td>1306</td>\n",
       "      <td>1</td>\n",
       "      <td>1</td>\n",
       "      <td>Oliva y Ocana, Dona. Fermina</td>\n",
       "      <td>female</td>\n",
       "      <td>39.0</td>\n",
       "      <td>0</td>\n",
       "      <td>0</td>\n",
       "      <td>PC 17758</td>\n",
       "      <td>108.9000</td>\n",
       "      <td>C105</td>\n",
       "      <td>C</td>\n",
       "    </tr>\n",
       "    <tr>\n",
       "      <th>415</th>\n",
       "      <td>1307</td>\n",
       "      <td>0</td>\n",
       "      <td>3</td>\n",
       "      <td>Saether, Mr. Simon Sivertsen</td>\n",
       "      <td>male</td>\n",
       "      <td>38.5</td>\n",
       "      <td>0</td>\n",
       "      <td>0</td>\n",
       "      <td>SOTON/O.Q. 3101262</td>\n",
       "      <td>7.2500</td>\n",
       "      <td>NaN</td>\n",
       "      <td>S</td>\n",
       "    </tr>\n",
       "    <tr>\n",
       "      <th>416</th>\n",
       "      <td>1308</td>\n",
       "      <td>0</td>\n",
       "      <td>3</td>\n",
       "      <td>Ware, Mr. Frederick</td>\n",
       "      <td>male</td>\n",
       "      <td>NaN</td>\n",
       "      <td>0</td>\n",
       "      <td>0</td>\n",
       "      <td>359309</td>\n",
       "      <td>8.0500</td>\n",
       "      <td>NaN</td>\n",
       "      <td>S</td>\n",
       "    </tr>\n",
       "    <tr>\n",
       "      <th>417</th>\n",
       "      <td>1309</td>\n",
       "      <td>0</td>\n",
       "      <td>3</td>\n",
       "      <td>Peter, Master. Michael J</td>\n",
       "      <td>male</td>\n",
       "      <td>NaN</td>\n",
       "      <td>1</td>\n",
       "      <td>1</td>\n",
       "      <td>2668</td>\n",
       "      <td>22.3583</td>\n",
       "      <td>NaN</td>\n",
       "      <td>C</td>\n",
       "    </tr>\n",
       "  </tbody>\n",
       "</table>\n",
       "</div>"
      ],
      "text/plain": [
       "     PassengerId  Survived  Pclass  \\\n",
       "403         1295         0       1   \n",
       "404         1296         0       1   \n",
       "405         1297         0       2   \n",
       "406         1298         0       2   \n",
       "407         1299         0       1   \n",
       "408         1300         1       3   \n",
       "409         1301         1       3   \n",
       "410         1302         1       3   \n",
       "411         1303         1       1   \n",
       "412         1304         1       3   \n",
       "413         1305         0       3   \n",
       "414         1306         1       1   \n",
       "415         1307         0       3   \n",
       "416         1308         0       3   \n",
       "417         1309         0       3   \n",
       "\n",
       "                                                Name     Sex   Age  SibSp  \\\n",
       "403                           Carrau, Mr. Jose Pedro    male  17.0      0   \n",
       "404                     Frauenthal, Mr. Isaac Gerald    male  43.0      1   \n",
       "405     Nourney, Mr. Alfred (Baron von Drachstedt\")\"    male  20.0      0   \n",
       "406                        Ware, Mr. William Jeffery    male  23.0      1   \n",
       "407                       Widener, Mr. George Dunton    male  50.0      1   \n",
       "408                  Riordan, Miss. Johanna Hannah\"\"  female   NaN      0   \n",
       "409                        Peacock, Miss. Treasteall  female   3.0      1   \n",
       "410                           Naughton, Miss. Hannah  female   NaN      0   \n",
       "411  Minahan, Mrs. William Edward (Lillian E Thorpe)  female  37.0      1   \n",
       "412                   Henriksson, Miss. Jenny Lovisa  female  28.0      0   \n",
       "413                               Spector, Mr. Woolf    male   NaN      0   \n",
       "414                     Oliva y Ocana, Dona. Fermina  female  39.0      0   \n",
       "415                     Saether, Mr. Simon Sivertsen    male  38.5      0   \n",
       "416                              Ware, Mr. Frederick    male   NaN      0   \n",
       "417                         Peter, Master. Michael J    male   NaN      1   \n",
       "\n",
       "     Parch              Ticket      Fare Cabin Embarked  \n",
       "403      0              113059   47.1000   NaN        S  \n",
       "404      0               17765   27.7208   D40        C  \n",
       "405      0       SC/PARIS 2166   13.8625   D38        C  \n",
       "406      0               28666   10.5000   NaN        S  \n",
       "407      1              113503  211.5000   C80        C  \n",
       "408      0              334915    7.7208   NaN        Q  \n",
       "409      1  SOTON/O.Q. 3101315   13.7750   NaN        S  \n",
       "410      0              365237    7.7500   NaN        Q  \n",
       "411      0               19928   90.0000   C78        Q  \n",
       "412      0              347086    7.7750   NaN        S  \n",
       "413      0           A.5. 3236    8.0500   NaN        S  \n",
       "414      0            PC 17758  108.9000  C105        C  \n",
       "415      0  SOTON/O.Q. 3101262    7.2500   NaN        S  \n",
       "416      0              359309    8.0500   NaN        S  \n",
       "417      1                2668   22.3583   NaN        C  "
      ]
     },
     "execution_count": 7,
     "metadata": {},
     "output_type": "execute_result"
    }
   ],
   "source": [
    "data.tail(15)"
   ]
  },
  {
   "cell_type": "code",
   "execution_count": 8,
   "id": "63a1661b",
   "metadata": {},
   "outputs": [
    {
     "data": {
      "text/plain": [
       "0       892\n",
       "1       893\n",
       "2       894\n",
       "3       895\n",
       "4       896\n",
       "       ... \n",
       "413    1305\n",
       "414    1306\n",
       "415    1307\n",
       "416    1308\n",
       "417    1309\n",
       "Name: PassengerId, Length: 418, dtype: int64"
      ]
     },
     "execution_count": 8,
     "metadata": {},
     "output_type": "execute_result"
    }
   ],
   "source": [
    "data['PassengerId']"
   ]
  },
  {
   "cell_type": "code",
   "execution_count": 9,
   "id": "62183895",
   "metadata": {},
   "outputs": [
    {
     "data": {
      "text/plain": [
       "pandas.core.series.Series"
      ]
     },
     "execution_count": 9,
     "metadata": {},
     "output_type": "execute_result"
    }
   ],
   "source": [
    "type(data['PassengerId'])"
   ]
  },
  {
   "cell_type": "markdown",
   "id": "9d23fdae",
   "metadata": {},
   "source": [
    "Series in Depth: It's a one dimensional array-like structure in Pandas that can hold a sequence of vakue of any data type . Each value in a Series is linked with a associated label, known as the index. You can also customize the index labels in the series."
   ]
  },
  {
   "cell_type": "markdown",
   "id": "0db014d9",
   "metadata": {},
   "source": [
    "Create a series from scalar value with the custom index"
   ]
  },
  {
   "cell_type": "code",
   "execution_count": 10,
   "id": "e7629dff",
   "metadata": {},
   "outputs": [
    {
     "name": "stdout",
     "output_type": "stream",
     "text": [
      "a    10\n",
      "b    10\n",
      "c    10\n",
      "d    10\n",
      "e    10\n",
      "f    10\n",
      "dtype: int64\n"
     ]
    }
   ],
   "source": [
    "series_scalar = pd.Series(10, index=['a', 'b', 'c', 'd', 'e', 'f'])\n",
    "print(series_scalar)"
   ]
  },
  {
   "cell_type": "code",
   "execution_count": 11,
   "id": "fc0ca186",
   "metadata": {},
   "outputs": [
    {
     "data": {
      "text/plain": [
       "np.int64(10)"
      ]
     },
     "execution_count": 11,
     "metadata": {},
     "output_type": "execute_result"
    }
   ],
   "source": [
    "series_scalar['e']"
   ]
  },
  {
   "cell_type": "code",
   "execution_count": 12,
   "id": "e5969761",
   "metadata": {},
   "outputs": [
    {
     "name": "stdout",
     "output_type": "stream",
     "text": [
      "0    10\n",
      "1    20\n",
      "2    30\n",
      "3    40\n",
      "4    50\n",
      "5    60\n",
      "6    70\n",
      "dtype: int64\n"
     ]
    }
   ],
   "source": [
    "data = [10, 20, 30, 40, 50, 60, 70]\n",
    "series_list = pd.Series(data)\n",
    "print(series_list)"
   ]
  },
  {
   "cell_type": "code",
   "execution_count": 13,
   "id": "9577cd9e",
   "metadata": {},
   "outputs": [
    {
     "name": "stdout",
     "output_type": "stream",
     "text": [
      "a    10\n",
      "b    20\n",
      "c    30\n",
      "d    40\n",
      "e    50\n",
      "f    60\n",
      "dtype: int64\n"
     ]
    }
   ],
   "source": [
    "import numpy as np\n",
    "data_array = np.array([10, 20, 30, 40, 50, 60])\n",
    "series_custom_array = pd.Series(data_array, index=['a', 'b', 'c', 'd', 'e', 'f'])\n",
    "print(series_custom_array)"
   ]
  },
  {
   "cell_type": "code",
   "execution_count": 14,
   "id": "afe5572a",
   "metadata": {},
   "outputs": [
    {
     "data": {
      "text/plain": [
       "a    10\n",
       "b    20\n",
       "c    30\n",
       "dtype: int64"
      ]
     },
     "execution_count": 14,
     "metadata": {},
     "output_type": "execute_result"
    }
   ],
   "source": [
    "data_dict = {'a': 10, 'b': 20, 'c': 30}\n",
    "series_dict = pd.Series(data_dict)\n",
    "series_dict"
   ]
  },
  {
   "cell_type": "markdown",
   "id": "bab69516",
   "metadata": {},
   "source": [
    "Slicing"
   ]
  },
  {
   "cell_type": "code",
   "execution_count": 15,
   "id": "8fc83ec3",
   "metadata": {},
   "outputs": [
    {
     "data": {
      "text/plain": [
       "b    20\n",
       "c    30\n",
       "dtype: int64"
      ]
     },
     "execution_count": 15,
     "metadata": {},
     "output_type": "execute_result"
    }
   ],
   "source": [
    "series_dict[1:3]"
   ]
  },
  {
   "cell_type": "code",
   "execution_count": 16,
   "id": "3858c4d1",
   "metadata": {},
   "outputs": [
    {
     "data": {
      "text/plain": [
       "b    20\n",
       "c    30\n",
       "dtype: int64"
      ]
     },
     "execution_count": 16,
     "metadata": {},
     "output_type": "execute_result"
    }
   ],
   "source": [
    "series_dict['b':'c']"
   ]
  },
  {
   "cell_type": "markdown",
   "id": "b5f0f170",
   "metadata": {},
   "source": [
    "Attribute in Series Data Structure"
   ]
  },
  {
   "cell_type": "code",
   "execution_count": 17,
   "id": "63cdee7c",
   "metadata": {},
   "outputs": [
    {
     "name": "stdout",
     "output_type": "stream",
     "text": [
      "India     New Delhi \n",
      "USA       Washington\n",
      "UK            London\n",
      "France         Paris\n",
      "dtype: object\n"
     ]
    }
   ],
   "source": [
    "data = ['New Delhi ', 'Washington', 'London', 'Paris']\n",
    "index = ['India', 'USA', 'UK', 'France']\n",
    "\n",
    "series_capital_country = pd.Series(data, index=index)\n",
    "print(series_capital_country)"
   ]
  },
  {
   "cell_type": "code",
   "execution_count": 18,
   "id": "0bd4b0b6",
   "metadata": {},
   "outputs": [
    {
     "name": "stdout",
     "output_type": "stream",
     "text": [
      "Index of the series_capital_country\n",
      "Index(['India', 'USA', 'UK', 'France'], dtype='object')\n"
     ]
    }
   ],
   "source": [
    "print(\"Index of the series_capital_country\")\n",
    "print(series_capital_country.index)"
   ]
  },
  {
   "cell_type": "code",
   "execution_count": 19,
   "id": "7a65e9fc",
   "metadata": {},
   "outputs": [
    {
     "name": "stdout",
     "output_type": "stream",
     "text": [
      "Values of the series_capital_country\n",
      "['New Delhi ' 'Washington' 'London' 'Paris']\n"
     ]
    }
   ],
   "source": [
    "print(\"Values of the series_capital_country\")\n",
    "print(series_capital_country.values)"
   ]
  },
  {
   "cell_type": "markdown",
   "id": "36897969",
   "metadata": {},
   "source": [
    "Dtype is data type of each element in that type of data structure"
   ]
  },
  {
   "cell_type": "code",
   "execution_count": 20,
   "id": "4e4b8499",
   "metadata": {},
   "outputs": [
    {
     "name": "stdout",
     "output_type": "stream",
     "text": [
      "Data type of the series_capital_country\n",
      "object\n"
     ]
    }
   ],
   "source": [
    "print(\"Data type of the series_capital_country\")\n",
    "print(series_capital_country.dtype)"
   ]
  },
  {
   "cell_type": "code",
   "execution_count": 21,
   "id": "635e3f43",
   "metadata": {},
   "outputs": [
    {
     "name": "stdout",
     "output_type": "stream",
     "text": [
      "Shape of the series_capital_country\n",
      "(4,)\n"
     ]
    }
   ],
   "source": [
    "print(\"Shape of the series_capital_country\")\n",
    "print(series_capital_country.shape)"
   ]
  },
  {
   "cell_type": "code",
   "execution_count": 22,
   "id": "78649798",
   "metadata": {},
   "outputs": [
    {
     "name": "stdout",
     "output_type": "stream",
     "text": [
      "Size of the series_capital_country\n",
      "4\n"
     ]
    }
   ],
   "source": [
    "print(\"Size of the series_capital_country\")\n",
    "print(series_capital_country.size)"
   ]
  },
  {
   "cell_type": "code",
   "execution_count": 23,
   "id": "4012e3ba",
   "metadata": {},
   "outputs": [
    {
     "name": "stdout",
     "output_type": "stream",
     "text": [
      "Is series_capital_country empty ?\n",
      "False\n"
     ]
    }
   ],
   "source": [
    "print(\"Is series_capital_country empty ?\")\n",
    "print(series_capital_country.empty)"
   ]
  },
  {
   "cell_type": "code",
   "execution_count": 24,
   "id": "960d1a3b",
   "metadata": {},
   "outputs": [
    {
     "name": "stdout",
     "output_type": "stream",
     "text": [
      "Is series_capital_country NaN?\n",
      "False\n"
     ]
    }
   ],
   "source": [
    "print(\"Is series_capital_country NaN?\")\n",
    "print(series_capital_country.hasnans)"
   ]
  },
  {
   "cell_type": "code",
   "execution_count": 25,
   "id": "4418f1c4",
   "metadata": {},
   "outputs": [
    {
     "name": "stdout",
     "output_type": "stream",
     "text": [
      "Is series_capital_country contains unique elements?\n",
      "True\n"
     ]
    }
   ],
   "source": [
    "print(\"Is series_capital_country contains unique elements?\")\n",
    "print(series_capital_country.is_unique)"
   ]
  },
  {
   "cell_type": "code",
   "execution_count": 26,
   "id": "31bf950f",
   "metadata": {},
   "outputs": [
    {
     "name": "stdout",
     "output_type": "stream",
     "text": [
      "Dimensions of the series_capital_country\n",
      "1\n"
     ]
    }
   ],
   "source": [
    "print(\"Dimensions of the series_capital_country\")\n",
    "print(series_capital_country.ndim)"
   ]
  },
  {
   "cell_type": "code",
   "execution_count": 27,
   "id": "7532912e",
   "metadata": {},
   "outputs": [
    {
     "name": "stdout",
     "output_type": "stream",
     "text": [
      "Series([], dtype: object)\n"
     ]
    }
   ],
   "source": [
    "empty_series = pd.Series()\n",
    "print(empty_series)"
   ]
  },
  {
   "cell_type": "code",
   "execution_count": 28,
   "id": "db4e0ff9",
   "metadata": {},
   "outputs": [
    {
     "name": "stdout",
     "output_type": "stream",
     "text": [
      "Is empty_series empty?\n",
      "True\n"
     ]
    }
   ],
   "source": [
    "print(\"Is empty_series empty?\")\n",
    "print(empty_series.empty)"
   ]
  },
  {
   "cell_type": "markdown",
   "id": "6f491f7d",
   "metadata": {},
   "source": [
    "Methods in Series Data Structure"
   ]
  },
  {
   "cell_type": "code",
   "execution_count": 29,
   "id": "ff8bd5cc",
   "metadata": {},
   "outputs": [
    {
     "data": {
      "text/plain": [
       "India    New Delhi \n",
       "USA      Washington\n",
       "dtype: object"
      ]
     },
     "execution_count": 29,
     "metadata": {},
     "output_type": "execute_result"
    }
   ],
   "source": [
    "series_capital_country.head(2)"
   ]
  },
  {
   "cell_type": "code",
   "execution_count": 30,
   "id": "ef0459ba",
   "metadata": {},
   "outputs": [
    {
     "data": {
      "text/plain": [
       "UK        London\n",
       "France     Paris\n",
       "dtype: object"
      ]
     },
     "execution_count": 30,
     "metadata": {},
     "output_type": "execute_result"
    }
   ],
   "source": [
    "series_capital_country.tail(2)"
   ]
  },
  {
   "cell_type": "code",
   "execution_count": 31,
   "id": "9ee5cd28",
   "metadata": {},
   "outputs": [
    {
     "name": "stdout",
     "output_type": "stream",
     "text": [
      "Ram        85\n",
      "Priya      60\n",
      "Rashmi     74\n",
      "Vidushi    66\n",
      "Mohit      89\n",
      "Karan      91\n",
      "dtype: int64\n"
     ]
    }
   ],
   "source": [
    "marks = [85, 60, 74, 66, 89, 91]\n",
    "students = ['Ram', 'Priya', 'Rashmi', 'Vidushi', 'Mohit', 'Karan']\n",
    "\n",
    "series_students = pd.Series(marks, index=students)\n",
    "print(series_students)\n"
   ]
  },
  {
   "cell_type": "markdown",
   "id": "9f360d58",
   "metadata": {},
   "source": [
    "To get the descriptive statistics of the given data"
   ]
  },
  {
   "cell_type": "code",
   "execution_count": 32,
   "id": "2285ddf2",
   "metadata": {},
   "outputs": [
    {
     "data": {
      "text/plain": [
       "count     6.000000\n",
       "mean     77.500000\n",
       "std      12.817956\n",
       "min      60.000000\n",
       "25%      68.000000\n",
       "50%      79.500000\n",
       "75%      88.000000\n",
       "max      91.000000\n",
       "dtype: float64"
      ]
     },
     "execution_count": 32,
     "metadata": {},
     "output_type": "execute_result"
    }
   ],
   "source": [
    "series_students.describe()"
   ]
  },
  {
   "cell_type": "markdown",
   "id": "fdaf7a74",
   "metadata": {},
   "source": [
    "Value_counts()\n"
   ]
  },
  {
   "cell_type": "code",
   "execution_count": 33,
   "id": "154b8818",
   "metadata": {},
   "outputs": [
    {
     "data": {
      "text/plain": [
       "85    1\n",
       "60    1\n",
       "74    1\n",
       "66    1\n",
       "89    1\n",
       "91    1\n",
       "Name: count, dtype: int64"
      ]
     },
     "execution_count": 33,
     "metadata": {},
     "output_type": "execute_result"
    }
   ],
   "source": [
    "series_students.value_counts()"
   ]
  },
  {
   "cell_type": "markdown",
   "id": "55864b57",
   "metadata": {},
   "source": [
    "sort_value()"
   ]
  },
  {
   "cell_type": "code",
   "execution_count": 34,
   "id": "a79f5c89",
   "metadata": {},
   "outputs": [
    {
     "data": {
      "text/plain": [
       "Priya      60\n",
       "Vidushi    66\n",
       "Rashmi     74\n",
       "Ram        85\n",
       "Mohit      89\n",
       "Karan      91\n",
       "dtype: int64"
      ]
     },
     "execution_count": 34,
     "metadata": {},
     "output_type": "execute_result"
    }
   ],
   "source": [
    "series_students.sort_values()"
   ]
  },
  {
   "cell_type": "markdown",
   "id": "77c2b568",
   "metadata": {},
   "source": [
    "drop()"
   ]
  },
  {
   "cell_type": "code",
   "execution_count": 35,
   "id": "e4be1233",
   "metadata": {},
   "outputs": [
    {
     "data": {
      "text/plain": [
       "Ram        85\n",
       "Priya      60\n",
       "Rashmi     74\n",
       "Vidushi    66\n",
       "Mohit      89\n",
       "dtype: int64"
      ]
     },
     "execution_count": 35,
     "metadata": {},
     "output_type": "execute_result"
    }
   ],
   "source": [
    "series_students.drop('Karan')"
   ]
  },
  {
   "cell_type": "code",
   "execution_count": 36,
   "id": "88691f66",
   "metadata": {},
   "outputs": [
    {
     "data": {
      "text/plain": [
       "Ram        85\n",
       "Priya      60\n",
       "Rashmi     74\n",
       "Vidushi    66\n",
       "Mohit      89\n",
       "Karan      91\n",
       "dtype: int64"
      ]
     },
     "execution_count": 36,
     "metadata": {},
     "output_type": "execute_result"
    }
   ],
   "source": [
    "series_students"
   ]
  },
  {
   "cell_type": "code",
   "execution_count": 37,
   "id": "8f40aff0",
   "metadata": {},
   "outputs": [],
   "source": [
    "series_students.drop('Karan', inplace=True)\n"
   ]
  },
  {
   "cell_type": "code",
   "execution_count": 38,
   "id": "c3efddee",
   "metadata": {},
   "outputs": [
    {
     "data": {
      "text/plain": [
       "Ram        85\n",
       "Priya      60\n",
       "Rashmi     74\n",
       "Vidushi    66\n",
       "Mohit      89\n",
       "dtype: int64"
      ]
     },
     "execution_count": 38,
     "metadata": {},
     "output_type": "execute_result"
    }
   ],
   "source": [
    "series_students"
   ]
  },
  {
   "cell_type": "markdown",
   "id": "ea959070",
   "metadata": {},
   "source": [
    "isnull => \n",
    "detect the missing values"
   ]
  },
  {
   "cell_type": "code",
   "execution_count": 39,
   "id": "57d6132c",
   "metadata": {},
   "outputs": [
    {
     "name": "stdout",
     "output_type": "stream",
     "text": [
      "Ram        False\n",
      "Priya      False\n",
      "Rashmi     False\n",
      "Vidushi    False\n",
      "Mohit      False\n",
      "dtype: bool\n"
     ]
    }
   ],
   "source": [
    "print(series_students.isnull())"
   ]
  },
  {
   "cell_type": "code",
   "execution_count": 40,
   "id": "8932e2f6",
   "metadata": {},
   "outputs": [
    {
     "name": "stdout",
     "output_type": "stream",
     "text": [
      "0\n"
     ]
    }
   ],
   "source": [
    "print(series_students.isnull().sum())"
   ]
  },
  {
   "cell_type": "code",
   "execution_count": 41,
   "id": "16286736",
   "metadata": {},
   "outputs": [
    {
     "data": {
      "text/plain": [
       "Ram        85\n",
       "Priya      60\n",
       "Rashmi     74\n",
       "Vidushi    66\n",
       "Mohit      89\n",
       "dtype: int64"
      ]
     },
     "execution_count": 41,
     "metadata": {},
     "output_type": "execute_result"
    }
   ],
   "source": [
    "series_students"
   ]
  },
  {
   "cell_type": "code",
   "execution_count": 42,
   "id": "3a99272d",
   "metadata": {},
   "outputs": [],
   "source": [
    "series_students['Karan'] = 89"
   ]
  },
  {
   "cell_type": "code",
   "execution_count": 43,
   "id": "bc99a394",
   "metadata": {},
   "outputs": [
    {
     "data": {
      "text/plain": [
       "Ram        85\n",
       "Priya      60\n",
       "Rashmi     74\n",
       "Vidushi    66\n",
       "Mohit      89\n",
       "Karan      89\n",
       "dtype: int64"
      ]
     },
     "execution_count": 43,
     "metadata": {},
     "output_type": "execute_result"
    }
   ],
   "source": [
    "series_students"
   ]
  },
  {
   "cell_type": "markdown",
   "id": "ce55e571",
   "metadata": {},
   "source": [
    "Task: Mathematical Operations on Series\n",
    "\n",
    "1. Addition of two Series\n",
    "2. Subtraction of two Series\n",
    "3. Multiplication of two Series\n",
    "4. Division of two Series\n"
   ]
  },
  {
   "cell_type": "markdown",
   "id": "120110f6",
   "metadata": {},
   "source": [
    "Task : \n",
    "Simulate the same approach for a dataframe and you need to cover all the attributes and methods for the dataframe."
   ]
  },
  {
   "cell_type": "code",
   "execution_count": 44,
   "id": "c9fc7ffb",
   "metadata": {},
   "outputs": [
    {
     "name": "stdout",
     "output_type": "stream",
     "text": [
      "a    10\n",
      "b    20\n",
      "c    30\n",
      "d    40\n",
      "e    50\n",
      "dtype: int64\n",
      "a     70.0\n",
      "b     90.0\n",
      "c      NaN\n",
      "d      NaN\n",
      "e    150.0\n",
      "h      NaN\n",
      "i      NaN\n",
      "dtype: float64\n"
     ]
    }
   ],
   "source": [
    "series_1 = pd.Series([10, 20, 30, 40, 50], index=['a', 'b', 'c', 'd', 'e'])\n",
    "series_2 = pd.Series([60, 70, 30, 90,100], index=['a', 'b', 'h', 'i', 'e'])\n",
    "\n",
    "add_series = series_1 + series_2\n",
    "print(series_1)\n",
    "print(add_series)"
   ]
  },
  {
   "cell_type": "code",
   "execution_count": 45,
   "id": "c833a749",
   "metadata": {},
   "outputs": [
    {
     "data": {
      "text/plain": [
       "a   -50.0\n",
       "b   -50.0\n",
       "c     NaN\n",
       "d     NaN\n",
       "e   -50.0\n",
       "h     NaN\n",
       "i     NaN\n",
       "dtype: float64"
      ]
     },
     "execution_count": 45,
     "metadata": {},
     "output_type": "execute_result"
    }
   ],
   "source": [
    "sub_series = series_1 - series_2\n",
    "sub_series"
   ]
  },
  {
   "cell_type": "code",
   "execution_count": 46,
   "id": "198773ce",
   "metadata": {},
   "outputs": [
    {
     "data": {
      "text/plain": [
       "a     600.0\n",
       "b    1400.0\n",
       "c       NaN\n",
       "d       NaN\n",
       "e    5000.0\n",
       "h       NaN\n",
       "i       NaN\n",
       "dtype: float64"
      ]
     },
     "execution_count": 46,
     "metadata": {},
     "output_type": "execute_result"
    }
   ],
   "source": [
    "mul_series = series_1 * series_2\n",
    "mul_series"
   ]
  },
  {
   "cell_type": "code",
   "execution_count": 47,
   "id": "ef72feb8",
   "metadata": {},
   "outputs": [
    {
     "data": {
      "text/plain": [
       "a    0.166667\n",
       "b    0.285714\n",
       "c         NaN\n",
       "d         NaN\n",
       "e    0.500000\n",
       "h         NaN\n",
       "i         NaN\n",
       "dtype: float64"
      ]
     },
     "execution_count": 47,
     "metadata": {},
     "output_type": "execute_result"
    }
   ],
   "source": [
    "divide_series = series_1 / series_2\n",
    "divide_series"
   ]
  },
  {
   "cell_type": "markdown",
   "id": "42c060af",
   "metadata": {},
   "source": [
    "DataFrame"
   ]
  },
  {
   "cell_type": "markdown",
   "id": "5c05ffc9",
   "metadata": {},
   "source": [
    "Read the data"
   ]
  },
  {
   "cell_type": "code",
   "execution_count": 50,
   "id": "d291b6ed",
   "metadata": {},
   "outputs": [
    {
     "data": {
      "text/html": [
       "<div>\n",
       "<style scoped>\n",
       "    .dataframe tbody tr th:only-of-type {\n",
       "        vertical-align: middle;\n",
       "    }\n",
       "\n",
       "    .dataframe tbody tr th {\n",
       "        vertical-align: top;\n",
       "    }\n",
       "\n",
       "    .dataframe thead th {\n",
       "        text-align: right;\n",
       "    }\n",
       "</style>\n",
       "<table border=\"1\" class=\"dataframe\">\n",
       "  <thead>\n",
       "    <tr style=\"text-align: right;\">\n",
       "      <th></th>\n",
       "      <th>id</th>\n",
       "      <th>first_name</th>\n",
       "      <th>last_name</th>\n",
       "      <th>email</th>\n",
       "      <th>gender</th>\n",
       "      <th>street_num</th>\n",
       "      <th>street_name</th>\n",
       "      <th>street_suffix</th>\n",
       "      <th>city</th>\n",
       "      <th>state</th>\n",
       "      <th>postcode</th>\n",
       "    </tr>\n",
       "  </thead>\n",
       "  <tbody>\n",
       "    <tr>\n",
       "      <th>0</th>\n",
       "      <td>1</td>\n",
       "      <td>Romain</td>\n",
       "      <td>Southcott</td>\n",
       "      <td>rsouthcott0@clickbank.net</td>\n",
       "      <td>Male</td>\n",
       "      <td>1.0</td>\n",
       "      <td>Trailsway</td>\n",
       "      <td>Road</td>\n",
       "      <td>San Diego</td>\n",
       "      <td>California</td>\n",
       "      <td>92127.0</td>\n",
       "    </tr>\n",
       "    <tr>\n",
       "      <th>1</th>\n",
       "      <td>2</td>\n",
       "      <td>Cosimo</td>\n",
       "      <td>Molyneaux</td>\n",
       "      <td>cmolyneaux1@wiley.com</td>\n",
       "      <td>Male</td>\n",
       "      <td>NaN</td>\n",
       "      <td>NaN</td>\n",
       "      <td>NaN</td>\n",
       "      <td>El Paso</td>\n",
       "      <td>Texas</td>\n",
       "      <td>NaN</td>\n",
       "    </tr>\n",
       "    <tr>\n",
       "      <th>2</th>\n",
       "      <td>3</td>\n",
       "      <td>Bambi</td>\n",
       "      <td>Westrip</td>\n",
       "      <td>bwestrip2@symantec.com</td>\n",
       "      <td>Female</td>\n",
       "      <td>4057.0</td>\n",
       "      <td>Arkansas</td>\n",
       "      <td>Circle</td>\n",
       "      <td>San Antonio</td>\n",
       "      <td>Texas</td>\n",
       "      <td>78220.0</td>\n",
       "    </tr>\n",
       "    <tr>\n",
       "      <th>3</th>\n",
       "      <td>4</td>\n",
       "      <td>Roarke</td>\n",
       "      <td>Pankettman</td>\n",
       "      <td>rpankettman3@wiley.com</td>\n",
       "      <td>Male</td>\n",
       "      <td>74.0</td>\n",
       "      <td>Debs</td>\n",
       "      <td>Point</td>\n",
       "      <td>Memphis</td>\n",
       "      <td>Tennessee</td>\n",
       "      <td>38150.0</td>\n",
       "    </tr>\n",
       "    <tr>\n",
       "      <th>4</th>\n",
       "      <td>5</td>\n",
       "      <td>Mikaela</td>\n",
       "      <td>Althorpe</td>\n",
       "      <td>malthorpe4@51.la</td>\n",
       "      <td>NaN</td>\n",
       "      <td>NaN</td>\n",
       "      <td>2nd</td>\n",
       "      <td>Drive</td>\n",
       "      <td>NaN</td>\n",
       "      <td>NaN</td>\n",
       "      <td>83732.0</td>\n",
       "    </tr>\n",
       "  </tbody>\n",
       "</table>\n",
       "</div>"
      ],
      "text/plain": [
       "   id first_name   last_name                      email  gender  street_num  \\\n",
       "0   1     Romain   Southcott  rsouthcott0@clickbank.net    Male         1.0   \n",
       "1   2     Cosimo   Molyneaux      cmolyneaux1@wiley.com    Male         NaN   \n",
       "2   3      Bambi     Westrip     bwestrip2@symantec.com  Female      4057.0   \n",
       "3   4     Roarke  Pankettman     rpankettman3@wiley.com    Male        74.0   \n",
       "4   5    Mikaela    Althorpe           malthorpe4@51.la     NaN         NaN   \n",
       "\n",
       "  street_name street_suffix         city       state  postcode  \n",
       "0   Trailsway          Road    San Diego  California   92127.0  \n",
       "1         NaN           NaN      El Paso       Texas       NaN  \n",
       "2    Arkansas        Circle  San Antonio       Texas   78220.0  \n",
       "3        Debs         Point      Memphis   Tennessee   38150.0  \n",
       "4         2nd         Drive          NaN         NaN   83732.0  "
      ]
     },
     "execution_count": 50,
     "metadata": {},
     "output_type": "execute_result"
    }
   ],
   "source": [
    "data = pd.read_excel('customers_lyst1748071473851.xlsx')\n",
    "data.head()"
   ]
  },
  {
   "cell_type": "markdown",
   "id": "4679ceb4",
   "metadata": {},
   "source": [
    "Summary of the dataframe information"
   ]
  },
  {
   "cell_type": "code",
   "execution_count": 51,
   "id": "ca90b382",
   "metadata": {},
   "outputs": [
    {
     "name": "stdout",
     "output_type": "stream",
     "text": [
      "<class 'pandas.core.frame.DataFrame'>\n",
      "RangeIndex: 1000 entries, 0 to 999\n",
      "Data columns (total 11 columns):\n",
      " #   Column         Non-Null Count  Dtype  \n",
      "---  ------         --------------  -----  \n",
      " 0   id             1000 non-null   int64  \n",
      " 1   first_name     1000 non-null   object \n",
      " 2   last_name      1000 non-null   object \n",
      " 3   email          878 non-null    object \n",
      " 4   gender         957 non-null    object \n",
      " 5   street_num     738 non-null    float64\n",
      " 6   street_name    963 non-null    object \n",
      " 7   street_suffix  963 non-null    object \n",
      " 8   city           921 non-null    object \n",
      " 9   state          920 non-null    object \n",
      " 10  postcode       843 non-null    float64\n",
      "dtypes: float64(2), int64(1), object(8)\n",
      "memory usage: 86.1+ KB\n"
     ]
    }
   ],
   "source": [
    "data.info()"
   ]
  },
  {
   "cell_type": "markdown",
   "id": "8379445b",
   "metadata": {},
   "source": [
    "Add a new column named  as 'Country' and the value inside that is 'USA' in the above dataframe"
   ]
  },
  {
   "cell_type": "code",
   "execution_count": 52,
   "id": "c3970d73",
   "metadata": {},
   "outputs": [],
   "source": [
    "data['Country'] = 'USA'"
   ]
  },
  {
   "cell_type": "code",
   "execution_count": 53,
   "id": "ab6f34b4",
   "metadata": {},
   "outputs": [
    {
     "data": {
      "text/html": [
       "<div>\n",
       "<style scoped>\n",
       "    .dataframe tbody tr th:only-of-type {\n",
       "        vertical-align: middle;\n",
       "    }\n",
       "\n",
       "    .dataframe tbody tr th {\n",
       "        vertical-align: top;\n",
       "    }\n",
       "\n",
       "    .dataframe thead th {\n",
       "        text-align: right;\n",
       "    }\n",
       "</style>\n",
       "<table border=\"1\" class=\"dataframe\">\n",
       "  <thead>\n",
       "    <tr style=\"text-align: right;\">\n",
       "      <th></th>\n",
       "      <th>id</th>\n",
       "      <th>first_name</th>\n",
       "      <th>last_name</th>\n",
       "      <th>email</th>\n",
       "      <th>gender</th>\n",
       "      <th>street_num</th>\n",
       "      <th>street_name</th>\n",
       "      <th>street_suffix</th>\n",
       "      <th>city</th>\n",
       "      <th>state</th>\n",
       "      <th>postcode</th>\n",
       "      <th>Country</th>\n",
       "    </tr>\n",
       "  </thead>\n",
       "  <tbody>\n",
       "    <tr>\n",
       "      <th>0</th>\n",
       "      <td>1</td>\n",
       "      <td>Romain</td>\n",
       "      <td>Southcott</td>\n",
       "      <td>rsouthcott0@clickbank.net</td>\n",
       "      <td>Male</td>\n",
       "      <td>1.0</td>\n",
       "      <td>Trailsway</td>\n",
       "      <td>Road</td>\n",
       "      <td>San Diego</td>\n",
       "      <td>California</td>\n",
       "      <td>92127.0</td>\n",
       "      <td>USA</td>\n",
       "    </tr>\n",
       "    <tr>\n",
       "      <th>1</th>\n",
       "      <td>2</td>\n",
       "      <td>Cosimo</td>\n",
       "      <td>Molyneaux</td>\n",
       "      <td>cmolyneaux1@wiley.com</td>\n",
       "      <td>Male</td>\n",
       "      <td>NaN</td>\n",
       "      <td>NaN</td>\n",
       "      <td>NaN</td>\n",
       "      <td>El Paso</td>\n",
       "      <td>Texas</td>\n",
       "      <td>NaN</td>\n",
       "      <td>USA</td>\n",
       "    </tr>\n",
       "    <tr>\n",
       "      <th>2</th>\n",
       "      <td>3</td>\n",
       "      <td>Bambi</td>\n",
       "      <td>Westrip</td>\n",
       "      <td>bwestrip2@symantec.com</td>\n",
       "      <td>Female</td>\n",
       "      <td>4057.0</td>\n",
       "      <td>Arkansas</td>\n",
       "      <td>Circle</td>\n",
       "      <td>San Antonio</td>\n",
       "      <td>Texas</td>\n",
       "      <td>78220.0</td>\n",
       "      <td>USA</td>\n",
       "    </tr>\n",
       "    <tr>\n",
       "      <th>3</th>\n",
       "      <td>4</td>\n",
       "      <td>Roarke</td>\n",
       "      <td>Pankettman</td>\n",
       "      <td>rpankettman3@wiley.com</td>\n",
       "      <td>Male</td>\n",
       "      <td>74.0</td>\n",
       "      <td>Debs</td>\n",
       "      <td>Point</td>\n",
       "      <td>Memphis</td>\n",
       "      <td>Tennessee</td>\n",
       "      <td>38150.0</td>\n",
       "      <td>USA</td>\n",
       "    </tr>\n",
       "    <tr>\n",
       "      <th>4</th>\n",
       "      <td>5</td>\n",
       "      <td>Mikaela</td>\n",
       "      <td>Althorpe</td>\n",
       "      <td>malthorpe4@51.la</td>\n",
       "      <td>NaN</td>\n",
       "      <td>NaN</td>\n",
       "      <td>2nd</td>\n",
       "      <td>Drive</td>\n",
       "      <td>NaN</td>\n",
       "      <td>NaN</td>\n",
       "      <td>83732.0</td>\n",
       "      <td>USA</td>\n",
       "    </tr>\n",
       "  </tbody>\n",
       "</table>\n",
       "</div>"
      ],
      "text/plain": [
       "   id first_name   last_name                      email  gender  street_num  \\\n",
       "0   1     Romain   Southcott  rsouthcott0@clickbank.net    Male         1.0   \n",
       "1   2     Cosimo   Molyneaux      cmolyneaux1@wiley.com    Male         NaN   \n",
       "2   3      Bambi     Westrip     bwestrip2@symantec.com  Female      4057.0   \n",
       "3   4     Roarke  Pankettman     rpankettman3@wiley.com    Male        74.0   \n",
       "4   5    Mikaela    Althorpe           malthorpe4@51.la     NaN         NaN   \n",
       "\n",
       "  street_name street_suffix         city       state  postcode Country  \n",
       "0   Trailsway          Road    San Diego  California   92127.0     USA  \n",
       "1         NaN           NaN      El Paso       Texas       NaN     USA  \n",
       "2    Arkansas        Circle  San Antonio       Texas   78220.0     USA  \n",
       "3        Debs         Point      Memphis   Tennessee   38150.0     USA  \n",
       "4         2nd         Drive          NaN         NaN   83732.0     USA  "
      ]
     },
     "execution_count": 53,
     "metadata": {},
     "output_type": "execute_result"
    }
   ],
   "source": [
    "data.head()"
   ]
  },
  {
   "cell_type": "code",
   "execution_count": 54,
   "id": "b302d904",
   "metadata": {},
   "outputs": [
    {
     "ename": "ValueError",
     "evalue": "Length of values (3) does not match length of index (1000)",
     "output_type": "error",
     "traceback": [
      "\u001b[31m---------------------------------------------------------------------------\u001b[39m",
      "\u001b[31mValueError\u001b[39m                                Traceback (most recent call last)",
      "\u001b[36mCell\u001b[39m\u001b[36m \u001b[39m\u001b[32mIn[54]\u001b[39m\u001b[32m, line 2\u001b[39m\n\u001b[32m      1\u001b[39m membership_status = [\u001b[33m'\u001b[39m\u001b[33mGold\u001b[39m\u001b[33m'\u001b[39m, \u001b[33m'\u001b[39m\u001b[33mSilver\u001b[39m\u001b[33m'\u001b[39m, \u001b[33m'\u001b[39m\u001b[33mBronze\u001b[39m\u001b[33m'\u001b[39m]\n\u001b[32m----> \u001b[39m\u001b[32m2\u001b[39m \u001b[43mdata\u001b[49m\u001b[43m[\u001b[49m\u001b[33;43m'\u001b[39;49m\u001b[33;43mmembership_status\u001b[39;49m\u001b[33;43m'\u001b[39;49m\u001b[43m]\u001b[49m = membership_status\n\u001b[32m      3\u001b[39m data.head()\n",
      "\u001b[36mFile \u001b[39m\u001b[32mc:\\Desktop\\Data-Science-Cohort\\.venv\\Lib\\site-packages\\pandas\\core\\frame.py:4311\u001b[39m, in \u001b[36mDataFrame.__setitem__\u001b[39m\u001b[34m(self, key, value)\u001b[39m\n\u001b[32m   4308\u001b[39m     \u001b[38;5;28mself\u001b[39m._setitem_array([key], value)\n\u001b[32m   4309\u001b[39m \u001b[38;5;28;01melse\u001b[39;00m:\n\u001b[32m   4310\u001b[39m     \u001b[38;5;66;03m# set column\u001b[39;00m\n\u001b[32m-> \u001b[39m\u001b[32m4311\u001b[39m     \u001b[38;5;28;43mself\u001b[39;49m\u001b[43m.\u001b[49m\u001b[43m_set_item\u001b[49m\u001b[43m(\u001b[49m\u001b[43mkey\u001b[49m\u001b[43m,\u001b[49m\u001b[43m \u001b[49m\u001b[43mvalue\u001b[49m\u001b[43m)\u001b[49m\n",
      "\u001b[36mFile \u001b[39m\u001b[32mc:\\Desktop\\Data-Science-Cohort\\.venv\\Lib\\site-packages\\pandas\\core\\frame.py:4524\u001b[39m, in \u001b[36mDataFrame._set_item\u001b[39m\u001b[34m(self, key, value)\u001b[39m\n\u001b[32m   4514\u001b[39m \u001b[38;5;28;01mdef\u001b[39;00m\u001b[38;5;250m \u001b[39m\u001b[34m_set_item\u001b[39m(\u001b[38;5;28mself\u001b[39m, key, value) -> \u001b[38;5;28;01mNone\u001b[39;00m:\n\u001b[32m   4515\u001b[39m \u001b[38;5;250m    \u001b[39m\u001b[33;03m\"\"\"\u001b[39;00m\n\u001b[32m   4516\u001b[39m \u001b[33;03m    Add series to DataFrame in specified column.\u001b[39;00m\n\u001b[32m   4517\u001b[39m \n\u001b[32m   (...)\u001b[39m\u001b[32m   4522\u001b[39m \u001b[33;03m    ensure homogeneity.\u001b[39;00m\n\u001b[32m   4523\u001b[39m \u001b[33;03m    \"\"\"\u001b[39;00m\n\u001b[32m-> \u001b[39m\u001b[32m4524\u001b[39m     value, refs = \u001b[38;5;28;43mself\u001b[39;49m\u001b[43m.\u001b[49m\u001b[43m_sanitize_column\u001b[49m\u001b[43m(\u001b[49m\u001b[43mvalue\u001b[49m\u001b[43m)\u001b[49m\n\u001b[32m   4526\u001b[39m     \u001b[38;5;28;01mif\u001b[39;00m (\n\u001b[32m   4527\u001b[39m         key \u001b[38;5;129;01min\u001b[39;00m \u001b[38;5;28mself\u001b[39m.columns\n\u001b[32m   4528\u001b[39m         \u001b[38;5;129;01mand\u001b[39;00m value.ndim == \u001b[32m1\u001b[39m\n\u001b[32m   4529\u001b[39m         \u001b[38;5;129;01mand\u001b[39;00m \u001b[38;5;129;01mnot\u001b[39;00m \u001b[38;5;28misinstance\u001b[39m(value.dtype, ExtensionDtype)\n\u001b[32m   4530\u001b[39m     ):\n\u001b[32m   4531\u001b[39m         \u001b[38;5;66;03m# broadcast across multiple columns if necessary\u001b[39;00m\n\u001b[32m   4532\u001b[39m         \u001b[38;5;28;01mif\u001b[39;00m \u001b[38;5;129;01mnot\u001b[39;00m \u001b[38;5;28mself\u001b[39m.columns.is_unique \u001b[38;5;129;01mor\u001b[39;00m \u001b[38;5;28misinstance\u001b[39m(\u001b[38;5;28mself\u001b[39m.columns, MultiIndex):\n",
      "\u001b[36mFile \u001b[39m\u001b[32mc:\\Desktop\\Data-Science-Cohort\\.venv\\Lib\\site-packages\\pandas\\core\\frame.py:5266\u001b[39m, in \u001b[36mDataFrame._sanitize_column\u001b[39m\u001b[34m(self, value)\u001b[39m\n\u001b[32m   5263\u001b[39m     \u001b[38;5;28;01mreturn\u001b[39;00m _reindex_for_setitem(value, \u001b[38;5;28mself\u001b[39m.index)\n\u001b[32m   5265\u001b[39m \u001b[38;5;28;01mif\u001b[39;00m is_list_like(value):\n\u001b[32m-> \u001b[39m\u001b[32m5266\u001b[39m     \u001b[43mcom\u001b[49m\u001b[43m.\u001b[49m\u001b[43mrequire_length_match\u001b[49m\u001b[43m(\u001b[49m\u001b[43mvalue\u001b[49m\u001b[43m,\u001b[49m\u001b[43m \u001b[49m\u001b[38;5;28;43mself\u001b[39;49m\u001b[43m.\u001b[49m\u001b[43mindex\u001b[49m\u001b[43m)\u001b[49m\n\u001b[32m   5267\u001b[39m arr = sanitize_array(value, \u001b[38;5;28mself\u001b[39m.index, copy=\u001b[38;5;28;01mTrue\u001b[39;00m, allow_2d=\u001b[38;5;28;01mTrue\u001b[39;00m)\n\u001b[32m   5268\u001b[39m \u001b[38;5;28;01mif\u001b[39;00m (\n\u001b[32m   5269\u001b[39m     \u001b[38;5;28misinstance\u001b[39m(value, Index)\n\u001b[32m   5270\u001b[39m     \u001b[38;5;129;01mand\u001b[39;00m value.dtype == \u001b[33m\"\u001b[39m\u001b[33mobject\u001b[39m\u001b[33m\"\u001b[39m\n\u001b[32m   (...)\u001b[39m\u001b[32m   5273\u001b[39m     \u001b[38;5;66;03m# TODO: Remove kludge in sanitize_array for string mode when enforcing\u001b[39;00m\n\u001b[32m   5274\u001b[39m     \u001b[38;5;66;03m# this deprecation\u001b[39;00m\n",
      "\u001b[36mFile \u001b[39m\u001b[32mc:\\Desktop\\Data-Science-Cohort\\.venv\\Lib\\site-packages\\pandas\\core\\common.py:573\u001b[39m, in \u001b[36mrequire_length_match\u001b[39m\u001b[34m(data, index)\u001b[39m\n\u001b[32m    569\u001b[39m \u001b[38;5;250m\u001b[39m\u001b[33;03m\"\"\"\u001b[39;00m\n\u001b[32m    570\u001b[39m \u001b[33;03mCheck the length of data matches the length of the index.\u001b[39;00m\n\u001b[32m    571\u001b[39m \u001b[33;03m\"\"\"\u001b[39;00m\n\u001b[32m    572\u001b[39m \u001b[38;5;28;01mif\u001b[39;00m \u001b[38;5;28mlen\u001b[39m(data) != \u001b[38;5;28mlen\u001b[39m(index):\n\u001b[32m--> \u001b[39m\u001b[32m573\u001b[39m     \u001b[38;5;28;01mraise\u001b[39;00m \u001b[38;5;167;01mValueError\u001b[39;00m(\n\u001b[32m    574\u001b[39m         \u001b[33m\"\u001b[39m\u001b[33mLength of values \u001b[39m\u001b[33m\"\u001b[39m\n\u001b[32m    575\u001b[39m         \u001b[33mf\u001b[39m\u001b[33m\"\u001b[39m\u001b[33m(\u001b[39m\u001b[38;5;132;01m{\u001b[39;00m\u001b[38;5;28mlen\u001b[39m(data)\u001b[38;5;132;01m}\u001b[39;00m\u001b[33m) \u001b[39m\u001b[33m\"\u001b[39m\n\u001b[32m    576\u001b[39m         \u001b[33m\"\u001b[39m\u001b[33mdoes not match length of index \u001b[39m\u001b[33m\"\u001b[39m\n\u001b[32m    577\u001b[39m         \u001b[33mf\u001b[39m\u001b[33m\"\u001b[39m\u001b[33m(\u001b[39m\u001b[38;5;132;01m{\u001b[39;00m\u001b[38;5;28mlen\u001b[39m(index)\u001b[38;5;132;01m}\u001b[39;00m\u001b[33m)\u001b[39m\u001b[33m\"\u001b[39m\n\u001b[32m    578\u001b[39m     )\n",
      "\u001b[31mValueError\u001b[39m: Length of values (3) does not match length of index (1000)"
     ]
    }
   ],
   "source": [
    "membership_status = ['Gold', 'Silver', 'Bronze']\n",
    "data['membership_status'] = membership_status\n",
    "data.head()"
   ]
  },
  {
   "cell_type": "markdown",
   "id": "2acd7ae2",
   "metadata": {},
   "source": [
    "Create a new column 'Full Name'  which is composed of firstName and the LastName"
   ]
  },
  {
   "cell_type": "code",
   "execution_count": 55,
   "id": "eda48096",
   "metadata": {},
   "outputs": [
    {
     "data": {
      "text/html": [
       "<div>\n",
       "<style scoped>\n",
       "    .dataframe tbody tr th:only-of-type {\n",
       "        vertical-align: middle;\n",
       "    }\n",
       "\n",
       "    .dataframe tbody tr th {\n",
       "        vertical-align: top;\n",
       "    }\n",
       "\n",
       "    .dataframe thead th {\n",
       "        text-align: right;\n",
       "    }\n",
       "</style>\n",
       "<table border=\"1\" class=\"dataframe\">\n",
       "  <thead>\n",
       "    <tr style=\"text-align: right;\">\n",
       "      <th></th>\n",
       "      <th>id</th>\n",
       "      <th>first_name</th>\n",
       "      <th>last_name</th>\n",
       "      <th>email</th>\n",
       "      <th>gender</th>\n",
       "      <th>street_num</th>\n",
       "      <th>street_name</th>\n",
       "      <th>street_suffix</th>\n",
       "      <th>city</th>\n",
       "      <th>state</th>\n",
       "      <th>postcode</th>\n",
       "      <th>Country</th>\n",
       "      <th>full_name</th>\n",
       "    </tr>\n",
       "  </thead>\n",
       "  <tbody>\n",
       "    <tr>\n",
       "      <th>0</th>\n",
       "      <td>1</td>\n",
       "      <td>Romain</td>\n",
       "      <td>Southcott</td>\n",
       "      <td>rsouthcott0@clickbank.net</td>\n",
       "      <td>Male</td>\n",
       "      <td>1.0</td>\n",
       "      <td>Trailsway</td>\n",
       "      <td>Road</td>\n",
       "      <td>San Diego</td>\n",
       "      <td>California</td>\n",
       "      <td>92127.0</td>\n",
       "      <td>USA</td>\n",
       "      <td>Romain Southcott</td>\n",
       "    </tr>\n",
       "    <tr>\n",
       "      <th>1</th>\n",
       "      <td>2</td>\n",
       "      <td>Cosimo</td>\n",
       "      <td>Molyneaux</td>\n",
       "      <td>cmolyneaux1@wiley.com</td>\n",
       "      <td>Male</td>\n",
       "      <td>NaN</td>\n",
       "      <td>NaN</td>\n",
       "      <td>NaN</td>\n",
       "      <td>El Paso</td>\n",
       "      <td>Texas</td>\n",
       "      <td>NaN</td>\n",
       "      <td>USA</td>\n",
       "      <td>Cosimo Molyneaux</td>\n",
       "    </tr>\n",
       "    <tr>\n",
       "      <th>2</th>\n",
       "      <td>3</td>\n",
       "      <td>Bambi</td>\n",
       "      <td>Westrip</td>\n",
       "      <td>bwestrip2@symantec.com</td>\n",
       "      <td>Female</td>\n",
       "      <td>4057.0</td>\n",
       "      <td>Arkansas</td>\n",
       "      <td>Circle</td>\n",
       "      <td>San Antonio</td>\n",
       "      <td>Texas</td>\n",
       "      <td>78220.0</td>\n",
       "      <td>USA</td>\n",
       "      <td>Bambi Westrip</td>\n",
       "    </tr>\n",
       "    <tr>\n",
       "      <th>3</th>\n",
       "      <td>4</td>\n",
       "      <td>Roarke</td>\n",
       "      <td>Pankettman</td>\n",
       "      <td>rpankettman3@wiley.com</td>\n",
       "      <td>Male</td>\n",
       "      <td>74.0</td>\n",
       "      <td>Debs</td>\n",
       "      <td>Point</td>\n",
       "      <td>Memphis</td>\n",
       "      <td>Tennessee</td>\n",
       "      <td>38150.0</td>\n",
       "      <td>USA</td>\n",
       "      <td>Roarke Pankettman</td>\n",
       "    </tr>\n",
       "    <tr>\n",
       "      <th>4</th>\n",
       "      <td>5</td>\n",
       "      <td>Mikaela</td>\n",
       "      <td>Althorpe</td>\n",
       "      <td>malthorpe4@51.la</td>\n",
       "      <td>NaN</td>\n",
       "      <td>NaN</td>\n",
       "      <td>2nd</td>\n",
       "      <td>Drive</td>\n",
       "      <td>NaN</td>\n",
       "      <td>NaN</td>\n",
       "      <td>83732.0</td>\n",
       "      <td>USA</td>\n",
       "      <td>Mikaela Althorpe</td>\n",
       "    </tr>\n",
       "  </tbody>\n",
       "</table>\n",
       "</div>"
      ],
      "text/plain": [
       "   id first_name   last_name                      email  gender  street_num  \\\n",
       "0   1     Romain   Southcott  rsouthcott0@clickbank.net    Male         1.0   \n",
       "1   2     Cosimo   Molyneaux      cmolyneaux1@wiley.com    Male         NaN   \n",
       "2   3      Bambi     Westrip     bwestrip2@symantec.com  Female      4057.0   \n",
       "3   4     Roarke  Pankettman     rpankettman3@wiley.com    Male        74.0   \n",
       "4   5    Mikaela    Althorpe           malthorpe4@51.la     NaN         NaN   \n",
       "\n",
       "  street_name street_suffix         city       state  postcode Country  \\\n",
       "0   Trailsway          Road    San Diego  California   92127.0     USA   \n",
       "1         NaN           NaN      El Paso       Texas       NaN     USA   \n",
       "2    Arkansas        Circle  San Antonio       Texas   78220.0     USA   \n",
       "3        Debs         Point      Memphis   Tennessee   38150.0     USA   \n",
       "4         2nd         Drive          NaN         NaN   83732.0     USA   \n",
       "\n",
       "           full_name  \n",
       "0   Romain Southcott  \n",
       "1   Cosimo Molyneaux  \n",
       "2      Bambi Westrip  \n",
       "3  Roarke Pankettman  \n",
       "4   Mikaela Althorpe  "
      ]
     },
     "execution_count": 55,
     "metadata": {},
     "output_type": "execute_result"
    }
   ],
   "source": [
    "data['full_name'] = data['first_name'] + ' ' + data['last_name']\n",
    "data.head()"
   ]
  },
  {
   "cell_type": "markdown",
   "id": "4cd18f65",
   "metadata": {},
   "source": [
    "Access the rows in a given dataframe: .loc() vs .iloc()"
   ]
  },
  {
   "cell_type": "code",
   "execution_count": 56,
   "id": "f48b03e9",
   "metadata": {},
   "outputs": [
    {
     "data": {
      "text/html": [
       "<div>\n",
       "<style scoped>\n",
       "    .dataframe tbody tr th:only-of-type {\n",
       "        vertical-align: middle;\n",
       "    }\n",
       "\n",
       "    .dataframe tbody tr th {\n",
       "        vertical-align: top;\n",
       "    }\n",
       "\n",
       "    .dataframe thead th {\n",
       "        text-align: right;\n",
       "    }\n",
       "</style>\n",
       "<table border=\"1\" class=\"dataframe\">\n",
       "  <thead>\n",
       "    <tr style=\"text-align: right;\">\n",
       "      <th></th>\n",
       "      <th>Name</th>\n",
       "      <th>Age</th>\n",
       "      <th>City</th>\n",
       "    </tr>\n",
       "  </thead>\n",
       "  <tbody>\n",
       "    <tr>\n",
       "      <th>a</th>\n",
       "      <td>Akash</td>\n",
       "      <td>23</td>\n",
       "      <td>Delhi</td>\n",
       "    </tr>\n",
       "    <tr>\n",
       "      <th>b</th>\n",
       "      <td>Amir</td>\n",
       "      <td>34</td>\n",
       "      <td>Bengaluru</td>\n",
       "    </tr>\n",
       "    <tr>\n",
       "      <th>c</th>\n",
       "      <td>Abhishek</td>\n",
       "      <td>25</td>\n",
       "      <td>Haryana</td>\n",
       "    </tr>\n",
       "    <tr>\n",
       "      <th>d</th>\n",
       "      <td>Nehal</td>\n",
       "      <td>27</td>\n",
       "      <td>Noida</td>\n",
       "    </tr>\n",
       "    <tr>\n",
       "      <th>e</th>\n",
       "      <td>Abhijeet</td>\n",
       "      <td>36</td>\n",
       "      <td>Pune</td>\n",
       "    </tr>\n",
       "  </tbody>\n",
       "</table>\n",
       "</div>"
      ],
      "text/plain": [
       "       Name  Age       City\n",
       "a     Akash   23      Delhi\n",
       "b      Amir   34  Bengaluru\n",
       "c  Abhishek   25    Haryana\n",
       "d     Nehal   27      Noida\n",
       "e  Abhijeet   36       Pune"
      ]
     },
     "execution_count": 56,
     "metadata": {},
     "output_type": "execute_result"
    }
   ],
   "source": [
    "dataframe_demo = {\n",
    "    'Name' : ['Akash', 'Amir', 'Abhishek', 'Nehal', 'Abhijeet'],\n",
    "    'Age' : [23, 34, 25, 27, 36],\n",
    "    'City' : ['Delhi', 'Bengaluru', 'Haryana', 'Noida', 'Pune']\n",
    "}\n",
    "\n",
    "dataframe_demo = pd.DataFrame(dataframe_demo, index=['a', 'b', 'c', 'd', 'e'])\n",
    "dataframe_demo"
   ]
  },
  {
   "cell_type": "code",
   "execution_count": 57,
   "id": "53317fb8",
   "metadata": {},
   "outputs": [
    {
     "data": {
      "text/plain": [
       "Name         Amir\n",
       "Age            34\n",
       "City    Bengaluru\n",
       "Name: b, dtype: object"
      ]
     },
     "execution_count": 57,
     "metadata": {},
     "output_type": "execute_result"
    }
   ],
   "source": [
    "dataframe_demo.loc['b']\n"
   ]
  },
  {
   "cell_type": "code",
   "execution_count": 58,
   "id": "7ff3553b",
   "metadata": {},
   "outputs": [
    {
     "data": {
      "text/html": [
       "<div>\n",
       "<style scoped>\n",
       "    .dataframe tbody tr th:only-of-type {\n",
       "        vertical-align: middle;\n",
       "    }\n",
       "\n",
       "    .dataframe tbody tr th {\n",
       "        vertical-align: top;\n",
       "    }\n",
       "\n",
       "    .dataframe thead th {\n",
       "        text-align: right;\n",
       "    }\n",
       "</style>\n",
       "<table border=\"1\" class=\"dataframe\">\n",
       "  <thead>\n",
       "    <tr style=\"text-align: right;\">\n",
       "      <th></th>\n",
       "      <th>Name</th>\n",
       "      <th>Age</th>\n",
       "      <th>City</th>\n",
       "    </tr>\n",
       "  </thead>\n",
       "  <tbody>\n",
       "    <tr>\n",
       "      <th>b</th>\n",
       "      <td>Amir</td>\n",
       "      <td>34</td>\n",
       "      <td>Bengaluru</td>\n",
       "    </tr>\n",
       "    <tr>\n",
       "      <th>c</th>\n",
       "      <td>Abhishek</td>\n",
       "      <td>25</td>\n",
       "      <td>Haryana</td>\n",
       "    </tr>\n",
       "    <tr>\n",
       "      <th>d</th>\n",
       "      <td>Nehal</td>\n",
       "      <td>27</td>\n",
       "      <td>Noida</td>\n",
       "    </tr>\n",
       "  </tbody>\n",
       "</table>\n",
       "</div>"
      ],
      "text/plain": [
       "       Name  Age       City\n",
       "b      Amir   34  Bengaluru\n",
       "c  Abhishek   25    Haryana\n",
       "d     Nehal   27      Noida"
      ]
     },
     "execution_count": 58,
     "metadata": {},
     "output_type": "execute_result"
    }
   ],
   "source": [
    "dataframe_demo.loc['b':'d']"
   ]
  },
  {
   "cell_type": "code",
   "execution_count": 59,
   "id": "b94ee241",
   "metadata": {},
   "outputs": [
    {
     "data": {
      "text/plain": [
       "Name         Amir\n",
       "Age            34\n",
       "City    Bengaluru\n",
       "Name: b, dtype: object"
      ]
     },
     "execution_count": 59,
     "metadata": {},
     "output_type": "execute_result"
    }
   ],
   "source": [
    "dataframe_demo.iloc[1]"
   ]
  },
  {
   "cell_type": "code",
   "execution_count": 63,
   "id": "fc1c4693",
   "metadata": {},
   "outputs": [
    {
     "data": {
      "text/html": [
       "<div>\n",
       "<style scoped>\n",
       "    .dataframe tbody tr th:only-of-type {\n",
       "        vertical-align: middle;\n",
       "    }\n",
       "\n",
       "    .dataframe tbody tr th {\n",
       "        vertical-align: top;\n",
       "    }\n",
       "\n",
       "    .dataframe thead th {\n",
       "        text-align: right;\n",
       "    }\n",
       "</style>\n",
       "<table border=\"1\" class=\"dataframe\">\n",
       "  <thead>\n",
       "    <tr style=\"text-align: right;\">\n",
       "      <th></th>\n",
       "      <th>Name</th>\n",
       "      <th>Age</th>\n",
       "      <th>City</th>\n",
       "    </tr>\n",
       "  </thead>\n",
       "  <tbody>\n",
       "    <tr>\n",
       "      <th>b</th>\n",
       "      <td>Amir</td>\n",
       "      <td>34</td>\n",
       "      <td>Bengaluru</td>\n",
       "    </tr>\n",
       "    <tr>\n",
       "      <th>c</th>\n",
       "      <td>Abhishek</td>\n",
       "      <td>25</td>\n",
       "      <td>Haryana</td>\n",
       "    </tr>\n",
       "    <tr>\n",
       "      <th>d</th>\n",
       "      <td>Nehal</td>\n",
       "      <td>27</td>\n",
       "      <td>Noida</td>\n",
       "    </tr>\n",
       "  </tbody>\n",
       "</table>\n",
       "</div>"
      ],
      "text/plain": [
       "       Name  Age       City\n",
       "b      Amir   34  Bengaluru\n",
       "c  Abhishek   25    Haryana\n",
       "d     Nehal   27      Noida"
      ]
     },
     "execution_count": 63,
     "metadata": {},
     "output_type": "execute_result"
    }
   ],
   "source": [
    "dataframe_demo.iloc[1:4]"
   ]
  },
  {
   "cell_type": "code",
   "execution_count": 64,
   "id": "52ecca7b",
   "metadata": {},
   "outputs": [
    {
     "ename": "KeyError",
     "evalue": "0",
     "output_type": "error",
     "traceback": [
      "\u001b[31m---------------------------------------------------------------------------\u001b[39m",
      "\u001b[31mKeyError\u001b[39m                                  Traceback (most recent call last)",
      "\u001b[36mFile \u001b[39m\u001b[32mc:\\Desktop\\Data-Science-Cohort\\.venv\\Lib\\site-packages\\pandas\\core\\indexes\\base.py:3805\u001b[39m, in \u001b[36mIndex.get_loc\u001b[39m\u001b[34m(self, key)\u001b[39m\n\u001b[32m   3804\u001b[39m \u001b[38;5;28;01mtry\u001b[39;00m:\n\u001b[32m-> \u001b[39m\u001b[32m3805\u001b[39m     \u001b[38;5;28;01mreturn\u001b[39;00m \u001b[38;5;28;43mself\u001b[39;49m\u001b[43m.\u001b[49m\u001b[43m_engine\u001b[49m\u001b[43m.\u001b[49m\u001b[43mget_loc\u001b[49m\u001b[43m(\u001b[49m\u001b[43mcasted_key\u001b[49m\u001b[43m)\u001b[49m\n\u001b[32m   3806\u001b[39m \u001b[38;5;28;01mexcept\u001b[39;00m \u001b[38;5;167;01mKeyError\u001b[39;00m \u001b[38;5;28;01mas\u001b[39;00m err:\n",
      "\u001b[36mFile \u001b[39m\u001b[32mindex.pyx:167\u001b[39m, in \u001b[36mpandas._libs.index.IndexEngine.get_loc\u001b[39m\u001b[34m()\u001b[39m\n",
      "\u001b[36mFile \u001b[39m\u001b[32mindex.pyx:196\u001b[39m, in \u001b[36mpandas._libs.index.IndexEngine.get_loc\u001b[39m\u001b[34m()\u001b[39m\n",
      "\u001b[36mFile \u001b[39m\u001b[32mpandas\\\\_libs\\\\hashtable_class_helper.pxi:7081\u001b[39m, in \u001b[36mpandas._libs.hashtable.PyObjectHashTable.get_item\u001b[39m\u001b[34m()\u001b[39m\n",
      "\u001b[36mFile \u001b[39m\u001b[32mpandas\\\\_libs\\\\hashtable_class_helper.pxi:7089\u001b[39m, in \u001b[36mpandas._libs.hashtable.PyObjectHashTable.get_item\u001b[39m\u001b[34m()\u001b[39m\n",
      "\u001b[31mKeyError\u001b[39m: 0",
      "\nThe above exception was the direct cause of the following exception:\n",
      "\u001b[31mKeyError\u001b[39m                                  Traceback (most recent call last)",
      "\u001b[36mCell\u001b[39m\u001b[36m \u001b[39m\u001b[32mIn[64]\u001b[39m\u001b[32m, line 1\u001b[39m\n\u001b[32m----> \u001b[39m\u001b[32m1\u001b[39m \u001b[43mdataframe_demo\u001b[49m\u001b[43m.\u001b[49m\u001b[43mloc\u001b[49m\u001b[43m[\u001b[49m\u001b[32;43m0\u001b[39;49m\u001b[43m]\u001b[49m\n",
      "\u001b[36mFile \u001b[39m\u001b[32mc:\\Desktop\\Data-Science-Cohort\\.venv\\Lib\\site-packages\\pandas\\core\\indexing.py:1191\u001b[39m, in \u001b[36m_LocationIndexer.__getitem__\u001b[39m\u001b[34m(self, key)\u001b[39m\n\u001b[32m   1189\u001b[39m maybe_callable = com.apply_if_callable(key, \u001b[38;5;28mself\u001b[39m.obj)\n\u001b[32m   1190\u001b[39m maybe_callable = \u001b[38;5;28mself\u001b[39m._check_deprecated_callable_usage(key, maybe_callable)\n\u001b[32m-> \u001b[39m\u001b[32m1191\u001b[39m \u001b[38;5;28;01mreturn\u001b[39;00m \u001b[38;5;28;43mself\u001b[39;49m\u001b[43m.\u001b[49m\u001b[43m_getitem_axis\u001b[49m\u001b[43m(\u001b[49m\u001b[43mmaybe_callable\u001b[49m\u001b[43m,\u001b[49m\u001b[43m \u001b[49m\u001b[43maxis\u001b[49m\u001b[43m=\u001b[49m\u001b[43maxis\u001b[49m\u001b[43m)\u001b[49m\n",
      "\u001b[36mFile \u001b[39m\u001b[32mc:\\Desktop\\Data-Science-Cohort\\.venv\\Lib\\site-packages\\pandas\\core\\indexing.py:1431\u001b[39m, in \u001b[36m_LocIndexer._getitem_axis\u001b[39m\u001b[34m(self, key, axis)\u001b[39m\n\u001b[32m   1429\u001b[39m \u001b[38;5;66;03m# fall thru to straight lookup\u001b[39;00m\n\u001b[32m   1430\u001b[39m \u001b[38;5;28mself\u001b[39m._validate_key(key, axis)\n\u001b[32m-> \u001b[39m\u001b[32m1431\u001b[39m \u001b[38;5;28;01mreturn\u001b[39;00m \u001b[38;5;28;43mself\u001b[39;49m\u001b[43m.\u001b[49m\u001b[43m_get_label\u001b[49m\u001b[43m(\u001b[49m\u001b[43mkey\u001b[49m\u001b[43m,\u001b[49m\u001b[43m \u001b[49m\u001b[43maxis\u001b[49m\u001b[43m=\u001b[49m\u001b[43maxis\u001b[49m\u001b[43m)\u001b[49m\n",
      "\u001b[36mFile \u001b[39m\u001b[32mc:\\Desktop\\Data-Science-Cohort\\.venv\\Lib\\site-packages\\pandas\\core\\indexing.py:1381\u001b[39m, in \u001b[36m_LocIndexer._get_label\u001b[39m\u001b[34m(self, label, axis)\u001b[39m\n\u001b[32m   1379\u001b[39m \u001b[38;5;28;01mdef\u001b[39;00m\u001b[38;5;250m \u001b[39m\u001b[34m_get_label\u001b[39m(\u001b[38;5;28mself\u001b[39m, label, axis: AxisInt):\n\u001b[32m   1380\u001b[39m     \u001b[38;5;66;03m# GH#5567 this will fail if the label is not present in the axis.\u001b[39;00m\n\u001b[32m-> \u001b[39m\u001b[32m1381\u001b[39m     \u001b[38;5;28;01mreturn\u001b[39;00m \u001b[38;5;28;43mself\u001b[39;49m\u001b[43m.\u001b[49m\u001b[43mobj\u001b[49m\u001b[43m.\u001b[49m\u001b[43mxs\u001b[49m\u001b[43m(\u001b[49m\u001b[43mlabel\u001b[49m\u001b[43m,\u001b[49m\u001b[43m \u001b[49m\u001b[43maxis\u001b[49m\u001b[43m=\u001b[49m\u001b[43maxis\u001b[49m\u001b[43m)\u001b[49m\n",
      "\u001b[36mFile \u001b[39m\u001b[32mc:\\Desktop\\Data-Science-Cohort\\.venv\\Lib\\site-packages\\pandas\\core\\generic.py:4301\u001b[39m, in \u001b[36mNDFrame.xs\u001b[39m\u001b[34m(self, key, axis, level, drop_level)\u001b[39m\n\u001b[32m   4299\u001b[39m             new_index = index[loc]\n\u001b[32m   4300\u001b[39m \u001b[38;5;28;01melse\u001b[39;00m:\n\u001b[32m-> \u001b[39m\u001b[32m4301\u001b[39m     loc = \u001b[43mindex\u001b[49m\u001b[43m.\u001b[49m\u001b[43mget_loc\u001b[49m\u001b[43m(\u001b[49m\u001b[43mkey\u001b[49m\u001b[43m)\u001b[49m\n\u001b[32m   4303\u001b[39m     \u001b[38;5;28;01mif\u001b[39;00m \u001b[38;5;28misinstance\u001b[39m(loc, np.ndarray):\n\u001b[32m   4304\u001b[39m         \u001b[38;5;28;01mif\u001b[39;00m loc.dtype == np.bool_:\n",
      "\u001b[36mFile \u001b[39m\u001b[32mc:\\Desktop\\Data-Science-Cohort\\.venv\\Lib\\site-packages\\pandas\\core\\indexes\\base.py:3812\u001b[39m, in \u001b[36mIndex.get_loc\u001b[39m\u001b[34m(self, key)\u001b[39m\n\u001b[32m   3807\u001b[39m     \u001b[38;5;28;01mif\u001b[39;00m \u001b[38;5;28misinstance\u001b[39m(casted_key, \u001b[38;5;28mslice\u001b[39m) \u001b[38;5;129;01mor\u001b[39;00m (\n\u001b[32m   3808\u001b[39m         \u001b[38;5;28misinstance\u001b[39m(casted_key, abc.Iterable)\n\u001b[32m   3809\u001b[39m         \u001b[38;5;129;01mand\u001b[39;00m \u001b[38;5;28many\u001b[39m(\u001b[38;5;28misinstance\u001b[39m(x, \u001b[38;5;28mslice\u001b[39m) \u001b[38;5;28;01mfor\u001b[39;00m x \u001b[38;5;129;01min\u001b[39;00m casted_key)\n\u001b[32m   3810\u001b[39m     ):\n\u001b[32m   3811\u001b[39m         \u001b[38;5;28;01mraise\u001b[39;00m InvalidIndexError(key)\n\u001b[32m-> \u001b[39m\u001b[32m3812\u001b[39m     \u001b[38;5;28;01mraise\u001b[39;00m \u001b[38;5;167;01mKeyError\u001b[39;00m(key) \u001b[38;5;28;01mfrom\u001b[39;00m\u001b[38;5;250m \u001b[39m\u001b[34;01merr\u001b[39;00m\n\u001b[32m   3813\u001b[39m \u001b[38;5;28;01mexcept\u001b[39;00m \u001b[38;5;167;01mTypeError\u001b[39;00m:\n\u001b[32m   3814\u001b[39m     \u001b[38;5;66;03m# If we have a listlike key, _check_indexing_error will raise\u001b[39;00m\n\u001b[32m   3815\u001b[39m     \u001b[38;5;66;03m#  InvalidIndexError. Otherwise we fall through and re-raise\u001b[39;00m\n\u001b[32m   3816\u001b[39m     \u001b[38;5;66;03m#  the TypeError.\u001b[39;00m\n\u001b[32m   3817\u001b[39m     \u001b[38;5;28mself\u001b[39m._check_indexing_error(key)\n",
      "\u001b[31mKeyError\u001b[39m: 0"
     ]
    }
   ],
   "source": [
    "dataframe_demo.loc[0]"
   ]
  },
  {
   "cell_type": "code",
   "execution_count": 66,
   "id": "bc6c5a54",
   "metadata": {},
   "outputs": [
    {
     "data": {
      "text/html": [
       "<div>\n",
       "<style scoped>\n",
       "    .dataframe tbody tr th:only-of-type {\n",
       "        vertical-align: middle;\n",
       "    }\n",
       "\n",
       "    .dataframe tbody tr th {\n",
       "        vertical-align: top;\n",
       "    }\n",
       "\n",
       "    .dataframe thead th {\n",
       "        text-align: right;\n",
       "    }\n",
       "</style>\n",
       "<table border=\"1\" class=\"dataframe\">\n",
       "  <thead>\n",
       "    <tr style=\"text-align: right;\">\n",
       "      <th></th>\n",
       "      <th>Name</th>\n",
       "      <th>Age</th>\n",
       "      <th>City</th>\n",
       "    </tr>\n",
       "  </thead>\n",
       "  <tbody>\n",
       "    <tr>\n",
       "      <th>0</th>\n",
       "      <td>Akash</td>\n",
       "      <td>23</td>\n",
       "      <td>Delhi</td>\n",
       "    </tr>\n",
       "    <tr>\n",
       "      <th>1</th>\n",
       "      <td>Amir</td>\n",
       "      <td>34</td>\n",
       "      <td>Bengaluru</td>\n",
       "    </tr>\n",
       "    <tr>\n",
       "      <th>2</th>\n",
       "      <td>Abhishek</td>\n",
       "      <td>25</td>\n",
       "      <td>Haryana</td>\n",
       "    </tr>\n",
       "    <tr>\n",
       "      <th>3</th>\n",
       "      <td>Nehal</td>\n",
       "      <td>27</td>\n",
       "      <td>Noida</td>\n",
       "    </tr>\n",
       "    <tr>\n",
       "      <th>4</th>\n",
       "      <td>Abhijeet</td>\n",
       "      <td>36</td>\n",
       "      <td>Pune</td>\n",
       "    </tr>\n",
       "  </tbody>\n",
       "</table>\n",
       "</div>"
      ],
      "text/plain": [
       "       Name  Age       City\n",
       "0     Akash   23      Delhi\n",
       "1      Amir   34  Bengaluru\n",
       "2  Abhishek   25    Haryana\n",
       "3     Nehal   27      Noida\n",
       "4  Abhijeet   36       Pune"
      ]
     },
     "execution_count": 66,
     "metadata": {},
     "output_type": "execute_result"
    }
   ],
   "source": [
    "dataframe_demo_v1 = {\n",
    "    'Name' : ['Akash', 'Amir', 'Abhishek', 'Nehal', 'Abhijeet'],\n",
    "    'Age' : [23, 34, 25, 27, 36],\n",
    "    'City' : ['Delhi', 'Bengaluru', 'Haryana', 'Noida', 'Pune']\n",
    "}\n",
    "\n",
    "dataframe_demo_v1 = pd.DataFrame(dataframe_demo_v1)\n",
    "dataframe_demo_v1"
   ]
  },
  {
   "cell_type": "code",
   "execution_count": 67,
   "id": "171c8544",
   "metadata": {},
   "outputs": [
    {
     "data": {
      "text/plain": [
       "Name    Akash\n",
       "Age        23\n",
       "City    Delhi\n",
       "Name: 0, dtype: object"
      ]
     },
     "execution_count": 67,
     "metadata": {},
     "output_type": "execute_result"
    }
   ],
   "source": [
    "dataframe_demo_v1.loc[0]"
   ]
  },
  {
   "cell_type": "code",
   "execution_count": 68,
   "id": "67964577",
   "metadata": {},
   "outputs": [
    {
     "data": {
      "text/plain": [
       "Name    Akash\n",
       "Age        23\n",
       "City    Delhi\n",
       "Name: 0, dtype: object"
      ]
     },
     "execution_count": 68,
     "metadata": {},
     "output_type": "execute_result"
    }
   ],
   "source": [
    "dataframe_demo_v1.iloc[0]"
   ]
  },
  {
   "cell_type": "code",
   "execution_count": 69,
   "id": "12cc4968",
   "metadata": {},
   "outputs": [
    {
     "data": {
      "text/html": [
       "<div>\n",
       "<style scoped>\n",
       "    .dataframe tbody tr th:only-of-type {\n",
       "        vertical-align: middle;\n",
       "    }\n",
       "\n",
       "    .dataframe tbody tr th {\n",
       "        vertical-align: top;\n",
       "    }\n",
       "\n",
       "    .dataframe thead th {\n",
       "        text-align: right;\n",
       "    }\n",
       "</style>\n",
       "<table border=\"1\" class=\"dataframe\">\n",
       "  <thead>\n",
       "    <tr style=\"text-align: right;\">\n",
       "      <th></th>\n",
       "      <th>id</th>\n",
       "      <th>first_name</th>\n",
       "      <th>last_name</th>\n",
       "      <th>email</th>\n",
       "      <th>gender</th>\n",
       "      <th>street_num</th>\n",
       "      <th>street_name</th>\n",
       "      <th>street_suffix</th>\n",
       "      <th>city</th>\n",
       "      <th>state</th>\n",
       "      <th>postcode</th>\n",
       "      <th>Country</th>\n",
       "      <th>full_name</th>\n",
       "    </tr>\n",
       "  </thead>\n",
       "  <tbody>\n",
       "    <tr>\n",
       "      <th>0</th>\n",
       "      <td>1</td>\n",
       "      <td>Romain</td>\n",
       "      <td>Southcott</td>\n",
       "      <td>rsouthcott0@clickbank.net</td>\n",
       "      <td>Male</td>\n",
       "      <td>1.0</td>\n",
       "      <td>Trailsway</td>\n",
       "      <td>Road</td>\n",
       "      <td>San Diego</td>\n",
       "      <td>California</td>\n",
       "      <td>92127.0</td>\n",
       "      <td>USA</td>\n",
       "      <td>Romain Southcott</td>\n",
       "    </tr>\n",
       "    <tr>\n",
       "      <th>1</th>\n",
       "      <td>2</td>\n",
       "      <td>Cosimo</td>\n",
       "      <td>Molyneaux</td>\n",
       "      <td>cmolyneaux1@wiley.com</td>\n",
       "      <td>Male</td>\n",
       "      <td>NaN</td>\n",
       "      <td>NaN</td>\n",
       "      <td>NaN</td>\n",
       "      <td>El Paso</td>\n",
       "      <td>Texas</td>\n",
       "      <td>NaN</td>\n",
       "      <td>USA</td>\n",
       "      <td>Cosimo Molyneaux</td>\n",
       "    </tr>\n",
       "    <tr>\n",
       "      <th>2</th>\n",
       "      <td>3</td>\n",
       "      <td>Bambi</td>\n",
       "      <td>Westrip</td>\n",
       "      <td>bwestrip2@symantec.com</td>\n",
       "      <td>Female</td>\n",
       "      <td>4057.0</td>\n",
       "      <td>Arkansas</td>\n",
       "      <td>Circle</td>\n",
       "      <td>San Antonio</td>\n",
       "      <td>Texas</td>\n",
       "      <td>78220.0</td>\n",
       "      <td>USA</td>\n",
       "      <td>Bambi Westrip</td>\n",
       "    </tr>\n",
       "    <tr>\n",
       "      <th>3</th>\n",
       "      <td>4</td>\n",
       "      <td>Roarke</td>\n",
       "      <td>Pankettman</td>\n",
       "      <td>rpankettman3@wiley.com</td>\n",
       "      <td>Male</td>\n",
       "      <td>74.0</td>\n",
       "      <td>Debs</td>\n",
       "      <td>Point</td>\n",
       "      <td>Memphis</td>\n",
       "      <td>Tennessee</td>\n",
       "      <td>38150.0</td>\n",
       "      <td>USA</td>\n",
       "      <td>Roarke Pankettman</td>\n",
       "    </tr>\n",
       "    <tr>\n",
       "      <th>4</th>\n",
       "      <td>5</td>\n",
       "      <td>Mikaela</td>\n",
       "      <td>Althorpe</td>\n",
       "      <td>malthorpe4@51.la</td>\n",
       "      <td>NaN</td>\n",
       "      <td>NaN</td>\n",
       "      <td>2nd</td>\n",
       "      <td>Drive</td>\n",
       "      <td>NaN</td>\n",
       "      <td>NaN</td>\n",
       "      <td>83732.0</td>\n",
       "      <td>USA</td>\n",
       "      <td>Mikaela Althorpe</td>\n",
       "    </tr>\n",
       "  </tbody>\n",
       "</table>\n",
       "</div>"
      ],
      "text/plain": [
       "   id first_name   last_name                      email  gender  street_num  \\\n",
       "0   1     Romain   Southcott  rsouthcott0@clickbank.net    Male         1.0   \n",
       "1   2     Cosimo   Molyneaux      cmolyneaux1@wiley.com    Male         NaN   \n",
       "2   3      Bambi     Westrip     bwestrip2@symantec.com  Female      4057.0   \n",
       "3   4     Roarke  Pankettman     rpankettman3@wiley.com    Male        74.0   \n",
       "4   5    Mikaela    Althorpe           malthorpe4@51.la     NaN         NaN   \n",
       "\n",
       "  street_name street_suffix         city       state  postcode Country  \\\n",
       "0   Trailsway          Road    San Diego  California   92127.0     USA   \n",
       "1         NaN           NaN      El Paso       Texas       NaN     USA   \n",
       "2    Arkansas        Circle  San Antonio       Texas   78220.0     USA   \n",
       "3        Debs         Point      Memphis   Tennessee   38150.0     USA   \n",
       "4         2nd         Drive          NaN         NaN   83732.0     USA   \n",
       "\n",
       "           full_name  \n",
       "0   Romain Southcott  \n",
       "1   Cosimo Molyneaux  \n",
       "2      Bambi Westrip  \n",
       "3  Roarke Pankettman  \n",
       "4   Mikaela Althorpe  "
      ]
     },
     "execution_count": 69,
     "metadata": {},
     "output_type": "execute_result"
    }
   ],
   "source": [
    "data.head()"
   ]
  },
  {
   "cell_type": "code",
   "execution_count": 71,
   "id": "5e439249",
   "metadata": {},
   "outputs": [
    {
     "data": {
      "text/plain": [
       "(1000, 13)"
      ]
     },
     "execution_count": 71,
     "metadata": {},
     "output_type": "execute_result"
    }
   ],
   "source": [
    "data.shape"
   ]
  },
  {
   "cell_type": "markdown",
   "id": "2cf5c32c",
   "metadata": {},
   "source": [
    "Accesss the details od the id's of the customers from 5000 to 5004"
   ]
  },
  {
   "cell_type": "code",
   "execution_count": 75,
   "id": "fdbbbefa",
   "metadata": {},
   "outputs": [
    {
     "data": {
      "text/html": [
       "<div>\n",
       "<style scoped>\n",
       "    .dataframe tbody tr th:only-of-type {\n",
       "        vertical-align: middle;\n",
       "    }\n",
       "\n",
       "    .dataframe tbody tr th {\n",
       "        vertical-align: top;\n",
       "    }\n",
       "\n",
       "    .dataframe thead th {\n",
       "        text-align: right;\n",
       "    }\n",
       "</style>\n",
       "<table border=\"1\" class=\"dataframe\">\n",
       "  <thead>\n",
       "    <tr style=\"text-align: right;\">\n",
       "      <th></th>\n",
       "      <th>id</th>\n",
       "      <th>first_name</th>\n",
       "      <th>last_name</th>\n",
       "      <th>email</th>\n",
       "      <th>gender</th>\n",
       "      <th>street_num</th>\n",
       "      <th>street_name</th>\n",
       "      <th>street_suffix</th>\n",
       "      <th>city</th>\n",
       "      <th>state</th>\n",
       "      <th>postcode</th>\n",
       "      <th>Country</th>\n",
       "      <th>full_name</th>\n",
       "    </tr>\n",
       "  </thead>\n",
       "  <tbody>\n",
       "  </tbody>\n",
       "</table>\n",
       "</div>"
      ],
      "text/plain": [
       "Empty DataFrame\n",
       "Columns: [id, first_name, last_name, email, gender, street_num, street_name, street_suffix, city, state, postcode, Country, full_name]\n",
       "Index: []"
      ]
     },
     "execution_count": 75,
     "metadata": {},
     "output_type": "execute_result"
    }
   ],
   "source": [
    "df = data.loc['5000':'5004']\n",
    "df"
   ]
  },
  {
   "cell_type": "markdown",
   "id": "60db4fc2",
   "metadata": {},
   "source": [
    "Accesss the details od the id's of the customers from 5000 to 5004"
   ]
  },
  {
   "cell_type": "code",
   "execution_count": 83,
   "id": "29ac1cfc",
   "metadata": {},
   "outputs": [
    {
     "data": {
      "text/html": [
       "<div>\n",
       "<style scoped>\n",
       "    .dataframe tbody tr th:only-of-type {\n",
       "        vertical-align: middle;\n",
       "    }\n",
       "\n",
       "    .dataframe tbody tr th {\n",
       "        vertical-align: top;\n",
       "    }\n",
       "\n",
       "    .dataframe thead th {\n",
       "        text-align: right;\n",
       "    }\n",
       "</style>\n",
       "<table border=\"1\" class=\"dataframe\">\n",
       "  <thead>\n",
       "    <tr style=\"text-align: right;\">\n",
       "      <th></th>\n",
       "      <th>id</th>\n",
       "      <th>first_name</th>\n",
       "      <th>last_name</th>\n",
       "      <th>email</th>\n",
       "      <th>gender</th>\n",
       "      <th>street_num</th>\n",
       "      <th>street_name</th>\n",
       "      <th>street_suffix</th>\n",
       "      <th>city</th>\n",
       "      <th>state</th>\n",
       "      <th>postcode</th>\n",
       "      <th>Country</th>\n",
       "      <th>full_name</th>\n",
       "    </tr>\n",
       "  </thead>\n",
       "  <tbody>\n",
       "    <tr>\n",
       "      <th>499</th>\n",
       "      <td>500</td>\n",
       "      <td>Carolann</td>\n",
       "      <td>Balcock</td>\n",
       "      <td>cbalcockdv@alexa.com</td>\n",
       "      <td>Female</td>\n",
       "      <td>NaN</td>\n",
       "      <td>Stone Corner</td>\n",
       "      <td>Pass</td>\n",
       "      <td>El Paso</td>\n",
       "      <td>Texas</td>\n",
       "      <td>79916.0</td>\n",
       "      <td>USA</td>\n",
       "      <td>Carolann Balcock</td>\n",
       "    </tr>\n",
       "    <tr>\n",
       "      <th>500</th>\n",
       "      <td>501</td>\n",
       "      <td>Elliot</td>\n",
       "      <td>Polycote</td>\n",
       "      <td>epolycotedw@infoseek.co.jp</td>\n",
       "      <td>Male</td>\n",
       "      <td>NaN</td>\n",
       "      <td>Prentice</td>\n",
       "      <td>Drive</td>\n",
       "      <td>Hartford</td>\n",
       "      <td>Connecticut</td>\n",
       "      <td>NaN</td>\n",
       "      <td>USA</td>\n",
       "      <td>Elliot Polycote</td>\n",
       "    </tr>\n",
       "    <tr>\n",
       "      <th>501</th>\n",
       "      <td>502</td>\n",
       "      <td>Shirline</td>\n",
       "      <td>Halpin</td>\n",
       "      <td>shalpindx@moonfruit.com</td>\n",
       "      <td>NaN</td>\n",
       "      <td>76640.0</td>\n",
       "      <td>Buell</td>\n",
       "      <td>Circle</td>\n",
       "      <td>Dallas</td>\n",
       "      <td>Texas</td>\n",
       "      <td>75216.0</td>\n",
       "      <td>USA</td>\n",
       "      <td>Shirline Halpin</td>\n",
       "    </tr>\n",
       "    <tr>\n",
       "      <th>502</th>\n",
       "      <td>503</td>\n",
       "      <td>Darcy</td>\n",
       "      <td>Cruddace</td>\n",
       "      <td>NaN</td>\n",
       "      <td>NaN</td>\n",
       "      <td>NaN</td>\n",
       "      <td>Ridgeview</td>\n",
       "      <td>Court</td>\n",
       "      <td>Utica</td>\n",
       "      <td>New York</td>\n",
       "      <td>13505.0</td>\n",
       "      <td>USA</td>\n",
       "      <td>Darcy Cruddace</td>\n",
       "    </tr>\n",
       "    <tr>\n",
       "      <th>503</th>\n",
       "      <td>504</td>\n",
       "      <td>Toiboid</td>\n",
       "      <td>Bentzen</td>\n",
       "      <td>tbentzendz@freewebs.com</td>\n",
       "      <td>Male</td>\n",
       "      <td>913.0</td>\n",
       "      <td>2nd</td>\n",
       "      <td>Trail</td>\n",
       "      <td>White Plains</td>\n",
       "      <td>New York</td>\n",
       "      <td>10606.0</td>\n",
       "      <td>USA</td>\n",
       "      <td>Toiboid Bentzen</td>\n",
       "    </tr>\n",
       "  </tbody>\n",
       "</table>\n",
       "</div>"
      ],
      "text/plain": [
       "      id first_name last_name                       email  gender  street_num  \\\n",
       "499  500   Carolann   Balcock        cbalcockdv@alexa.com  Female         NaN   \n",
       "500  501     Elliot  Polycote  epolycotedw@infoseek.co.jp    Male         NaN   \n",
       "501  502   Shirline    Halpin     shalpindx@moonfruit.com     NaN     76640.0   \n",
       "502  503      Darcy  Cruddace                         NaN     NaN         NaN   \n",
       "503  504    Toiboid   Bentzen     tbentzendz@freewebs.com    Male       913.0   \n",
       "\n",
       "      street_name street_suffix          city        state  postcode Country  \\\n",
       "499  Stone Corner          Pass       El Paso        Texas   79916.0     USA   \n",
       "500      Prentice         Drive      Hartford  Connecticut       NaN     USA   \n",
       "501         Buell        Circle        Dallas        Texas   75216.0     USA   \n",
       "502     Ridgeview         Court         Utica     New York   13505.0     USA   \n",
       "503           2nd         Trail  White Plains     New York   10606.0     USA   \n",
       "\n",
       "            full_name  \n",
       "499  Carolann Balcock  \n",
       "500   Elliot Polycote  \n",
       "501   Shirline Halpin  \n",
       "502    Darcy Cruddace  \n",
       "503   Toiboid Bentzen  "
      ]
     },
     "execution_count": 83,
     "metadata": {},
     "output_type": "execute_result"
    }
   ],
   "source": [
    "data[(data['id']>= 500) & (data['id'] <= 504)]\n"
   ]
  },
  {
   "cell_type": "code",
   "execution_count": 86,
   "id": "5c195124",
   "metadata": {},
   "outputs": [
    {
     "data": {
      "text/html": [
       "<div>\n",
       "<style scoped>\n",
       "    .dataframe tbody tr th:only-of-type {\n",
       "        vertical-align: middle;\n",
       "    }\n",
       "\n",
       "    .dataframe tbody tr th {\n",
       "        vertical-align: top;\n",
       "    }\n",
       "\n",
       "    .dataframe thead th {\n",
       "        text-align: right;\n",
       "    }\n",
       "</style>\n",
       "<table border=\"1\" class=\"dataframe\">\n",
       "  <thead>\n",
       "    <tr style=\"text-align: right;\">\n",
       "      <th></th>\n",
       "      <th>id</th>\n",
       "      <th>first_name</th>\n",
       "      <th>last_name</th>\n",
       "      <th>email</th>\n",
       "      <th>gender</th>\n",
       "      <th>street_num</th>\n",
       "      <th>street_name</th>\n",
       "      <th>street_suffix</th>\n",
       "      <th>city</th>\n",
       "      <th>state</th>\n",
       "      <th>postcode</th>\n",
       "      <th>Country</th>\n",
       "      <th>full_name</th>\n",
       "    </tr>\n",
       "  </thead>\n",
       "  <tbody>\n",
       "    <tr>\n",
       "      <th>500</th>\n",
       "      <td>501</td>\n",
       "      <td>Elliot</td>\n",
       "      <td>Polycote</td>\n",
       "      <td>epolycotedw@infoseek.co.jp</td>\n",
       "      <td>Male</td>\n",
       "      <td>NaN</td>\n",
       "      <td>Prentice</td>\n",
       "      <td>Drive</td>\n",
       "      <td>Hartford</td>\n",
       "      <td>Connecticut</td>\n",
       "      <td>NaN</td>\n",
       "      <td>USA</td>\n",
       "      <td>Elliot Polycote</td>\n",
       "    </tr>\n",
       "    <tr>\n",
       "      <th>501</th>\n",
       "      <td>502</td>\n",
       "      <td>Shirline</td>\n",
       "      <td>Halpin</td>\n",
       "      <td>shalpindx@moonfruit.com</td>\n",
       "      <td>NaN</td>\n",
       "      <td>76640.0</td>\n",
       "      <td>Buell</td>\n",
       "      <td>Circle</td>\n",
       "      <td>Dallas</td>\n",
       "      <td>Texas</td>\n",
       "      <td>75216.0</td>\n",
       "      <td>USA</td>\n",
       "      <td>Shirline Halpin</td>\n",
       "    </tr>\n",
       "    <tr>\n",
       "      <th>502</th>\n",
       "      <td>503</td>\n",
       "      <td>Darcy</td>\n",
       "      <td>Cruddace</td>\n",
       "      <td>NaN</td>\n",
       "      <td>NaN</td>\n",
       "      <td>NaN</td>\n",
       "      <td>Ridgeview</td>\n",
       "      <td>Court</td>\n",
       "      <td>Utica</td>\n",
       "      <td>New York</td>\n",
       "      <td>13505.0</td>\n",
       "      <td>USA</td>\n",
       "      <td>Darcy Cruddace</td>\n",
       "    </tr>\n",
       "    <tr>\n",
       "      <th>503</th>\n",
       "      <td>504</td>\n",
       "      <td>Toiboid</td>\n",
       "      <td>Bentzen</td>\n",
       "      <td>tbentzendz@freewebs.com</td>\n",
       "      <td>Male</td>\n",
       "      <td>913.0</td>\n",
       "      <td>2nd</td>\n",
       "      <td>Trail</td>\n",
       "      <td>White Plains</td>\n",
       "      <td>New York</td>\n",
       "      <td>10606.0</td>\n",
       "      <td>USA</td>\n",
       "      <td>Toiboid Bentzen</td>\n",
       "    </tr>\n",
       "    <tr>\n",
       "      <th>504</th>\n",
       "      <td>505</td>\n",
       "      <td>Paxon</td>\n",
       "      <td>Corris</td>\n",
       "      <td>pcorrise0@behance.net</td>\n",
       "      <td>Male</td>\n",
       "      <td>8362.0</td>\n",
       "      <td>Eliot</td>\n",
       "      <td>Way</td>\n",
       "      <td>Des Moines</td>\n",
       "      <td>Iowa</td>\n",
       "      <td>50362.0</td>\n",
       "      <td>USA</td>\n",
       "      <td>Paxon Corris</td>\n",
       "    </tr>\n",
       "  </tbody>\n",
       "</table>\n",
       "</div>"
      ],
      "text/plain": [
       "      id first_name last_name                       email gender  street_num  \\\n",
       "500  501     Elliot  Polycote  epolycotedw@infoseek.co.jp   Male         NaN   \n",
       "501  502   Shirline    Halpin     shalpindx@moonfruit.com    NaN     76640.0   \n",
       "502  503      Darcy  Cruddace                         NaN    NaN         NaN   \n",
       "503  504    Toiboid   Bentzen     tbentzendz@freewebs.com   Male       913.0   \n",
       "504  505      Paxon    Corris       pcorrise0@behance.net   Male      8362.0   \n",
       "\n",
       "    street_name street_suffix          city        state  postcode Country  \\\n",
       "500    Prentice         Drive      Hartford  Connecticut       NaN     USA   \n",
       "501       Buell        Circle        Dallas        Texas   75216.0     USA   \n",
       "502   Ridgeview         Court         Utica     New York   13505.0     USA   \n",
       "503         2nd         Trail  White Plains     New York   10606.0     USA   \n",
       "504       Eliot           Way    Des Moines         Iowa   50362.0     USA   \n",
       "\n",
       "           full_name  \n",
       "500  Elliot Polycote  \n",
       "501  Shirline Halpin  \n",
       "502   Darcy Cruddace  \n",
       "503  Toiboid Bentzen  \n",
       "504     Paxon Corris  "
      ]
     },
     "execution_count": 86,
     "metadata": {},
     "output_type": "execute_result"
    }
   ],
   "source": [
    "data.loc[500:504]"
   ]
  },
  {
   "cell_type": "code",
   "execution_count": 88,
   "id": "5369c911",
   "metadata": {},
   "outputs": [
    {
     "data": {
      "text/html": [
       "<div>\n",
       "<style scoped>\n",
       "    .dataframe tbody tr th:only-of-type {\n",
       "        vertical-align: middle;\n",
       "    }\n",
       "\n",
       "    .dataframe tbody tr th {\n",
       "        vertical-align: top;\n",
       "    }\n",
       "\n",
       "    .dataframe thead th {\n",
       "        text-align: right;\n",
       "    }\n",
       "</style>\n",
       "<table border=\"1\" class=\"dataframe\">\n",
       "  <thead>\n",
       "    <tr style=\"text-align: right;\">\n",
       "      <th></th>\n",
       "      <th>id</th>\n",
       "      <th>first_name</th>\n",
       "      <th>last_name</th>\n",
       "      <th>email</th>\n",
       "      <th>gender</th>\n",
       "      <th>street_num</th>\n",
       "      <th>street_name</th>\n",
       "      <th>street_suffix</th>\n",
       "      <th>city</th>\n",
       "      <th>state</th>\n",
       "      <th>postcode</th>\n",
       "      <th>Country</th>\n",
       "      <th>full_name</th>\n",
       "    </tr>\n",
       "  </thead>\n",
       "  <tbody>\n",
       "    <tr>\n",
       "      <th>500</th>\n",
       "      <td>501</td>\n",
       "      <td>Elliot</td>\n",
       "      <td>Polycote</td>\n",
       "      <td>epolycotedw@infoseek.co.jp</td>\n",
       "      <td>Male</td>\n",
       "      <td>NaN</td>\n",
       "      <td>Prentice</td>\n",
       "      <td>Drive</td>\n",
       "      <td>Hartford</td>\n",
       "      <td>Connecticut</td>\n",
       "      <td>NaN</td>\n",
       "      <td>USA</td>\n",
       "      <td>Elliot Polycote</td>\n",
       "    </tr>\n",
       "    <tr>\n",
       "      <th>501</th>\n",
       "      <td>502</td>\n",
       "      <td>Shirline</td>\n",
       "      <td>Halpin</td>\n",
       "      <td>shalpindx@moonfruit.com</td>\n",
       "      <td>NaN</td>\n",
       "      <td>76640.0</td>\n",
       "      <td>Buell</td>\n",
       "      <td>Circle</td>\n",
       "      <td>Dallas</td>\n",
       "      <td>Texas</td>\n",
       "      <td>75216.0</td>\n",
       "      <td>USA</td>\n",
       "      <td>Shirline Halpin</td>\n",
       "    </tr>\n",
       "    <tr>\n",
       "      <th>502</th>\n",
       "      <td>503</td>\n",
       "      <td>Darcy</td>\n",
       "      <td>Cruddace</td>\n",
       "      <td>NaN</td>\n",
       "      <td>NaN</td>\n",
       "      <td>NaN</td>\n",
       "      <td>Ridgeview</td>\n",
       "      <td>Court</td>\n",
       "      <td>Utica</td>\n",
       "      <td>New York</td>\n",
       "      <td>13505.0</td>\n",
       "      <td>USA</td>\n",
       "      <td>Darcy Cruddace</td>\n",
       "    </tr>\n",
       "    <tr>\n",
       "      <th>503</th>\n",
       "      <td>504</td>\n",
       "      <td>Toiboid</td>\n",
       "      <td>Bentzen</td>\n",
       "      <td>tbentzendz@freewebs.com</td>\n",
       "      <td>Male</td>\n",
       "      <td>913.0</td>\n",
       "      <td>2nd</td>\n",
       "      <td>Trail</td>\n",
       "      <td>White Plains</td>\n",
       "      <td>New York</td>\n",
       "      <td>10606.0</td>\n",
       "      <td>USA</td>\n",
       "      <td>Toiboid Bentzen</td>\n",
       "    </tr>\n",
       "  </tbody>\n",
       "</table>\n",
       "</div>"
      ],
      "text/plain": [
       "      id first_name last_name                       email gender  street_num  \\\n",
       "500  501     Elliot  Polycote  epolycotedw@infoseek.co.jp   Male         NaN   \n",
       "501  502   Shirline    Halpin     shalpindx@moonfruit.com    NaN     76640.0   \n",
       "502  503      Darcy  Cruddace                         NaN    NaN         NaN   \n",
       "503  504    Toiboid   Bentzen     tbentzendz@freewebs.com   Male       913.0   \n",
       "\n",
       "    street_name street_suffix          city        state  postcode Country  \\\n",
       "500    Prentice         Drive      Hartford  Connecticut       NaN     USA   \n",
       "501       Buell        Circle        Dallas        Texas   75216.0     USA   \n",
       "502   Ridgeview         Court         Utica     New York   13505.0     USA   \n",
       "503         2nd         Trail  White Plains     New York   10606.0     USA   \n",
       "\n",
       "           full_name  \n",
       "500  Elliot Polycote  \n",
       "501  Shirline Halpin  \n",
       "502   Darcy Cruddace  \n",
       "503  Toiboid Bentzen  "
      ]
     },
     "execution_count": 88,
     "metadata": {},
     "output_type": "execute_result"
    }
   ],
   "source": [
    "data.iloc[500:504]"
   ]
  },
  {
   "cell_type": "markdown",
   "id": "37be333a",
   "metadata": {},
   "source": [
    "delete the column"
   ]
  },
  {
   "cell_type": "code",
   "execution_count": 90,
   "id": "8ef1531b",
   "metadata": {},
   "outputs": [
    {
     "data": {
      "text/html": [
       "<div>\n",
       "<style scoped>\n",
       "    .dataframe tbody tr th:only-of-type {\n",
       "        vertical-align: middle;\n",
       "    }\n",
       "\n",
       "    .dataframe tbody tr th {\n",
       "        vertical-align: top;\n",
       "    }\n",
       "\n",
       "    .dataframe thead th {\n",
       "        text-align: right;\n",
       "    }\n",
       "</style>\n",
       "<table border=\"1\" class=\"dataframe\">\n",
       "  <thead>\n",
       "    <tr style=\"text-align: right;\">\n",
       "      <th></th>\n",
       "      <th>id</th>\n",
       "      <th>first_name</th>\n",
       "      <th>last_name</th>\n",
       "      <th>email</th>\n",
       "      <th>gender</th>\n",
       "      <th>street_num</th>\n",
       "      <th>street_name</th>\n",
       "      <th>street_suffix</th>\n",
       "      <th>city</th>\n",
       "      <th>state</th>\n",
       "      <th>postcode</th>\n",
       "      <th>full_name</th>\n",
       "    </tr>\n",
       "  </thead>\n",
       "  <tbody>\n",
       "    <tr>\n",
       "      <th>0</th>\n",
       "      <td>1</td>\n",
       "      <td>Romain</td>\n",
       "      <td>Southcott</td>\n",
       "      <td>rsouthcott0@clickbank.net</td>\n",
       "      <td>Male</td>\n",
       "      <td>1.0</td>\n",
       "      <td>Trailsway</td>\n",
       "      <td>Road</td>\n",
       "      <td>San Diego</td>\n",
       "      <td>California</td>\n",
       "      <td>92127.0</td>\n",
       "      <td>Romain Southcott</td>\n",
       "    </tr>\n",
       "    <tr>\n",
       "      <th>1</th>\n",
       "      <td>2</td>\n",
       "      <td>Cosimo</td>\n",
       "      <td>Molyneaux</td>\n",
       "      <td>cmolyneaux1@wiley.com</td>\n",
       "      <td>Male</td>\n",
       "      <td>NaN</td>\n",
       "      <td>NaN</td>\n",
       "      <td>NaN</td>\n",
       "      <td>El Paso</td>\n",
       "      <td>Texas</td>\n",
       "      <td>NaN</td>\n",
       "      <td>Cosimo Molyneaux</td>\n",
       "    </tr>\n",
       "    <tr>\n",
       "      <th>2</th>\n",
       "      <td>3</td>\n",
       "      <td>Bambi</td>\n",
       "      <td>Westrip</td>\n",
       "      <td>bwestrip2@symantec.com</td>\n",
       "      <td>Female</td>\n",
       "      <td>4057.0</td>\n",
       "      <td>Arkansas</td>\n",
       "      <td>Circle</td>\n",
       "      <td>San Antonio</td>\n",
       "      <td>Texas</td>\n",
       "      <td>78220.0</td>\n",
       "      <td>Bambi Westrip</td>\n",
       "    </tr>\n",
       "    <tr>\n",
       "      <th>3</th>\n",
       "      <td>4</td>\n",
       "      <td>Roarke</td>\n",
       "      <td>Pankettman</td>\n",
       "      <td>rpankettman3@wiley.com</td>\n",
       "      <td>Male</td>\n",
       "      <td>74.0</td>\n",
       "      <td>Debs</td>\n",
       "      <td>Point</td>\n",
       "      <td>Memphis</td>\n",
       "      <td>Tennessee</td>\n",
       "      <td>38150.0</td>\n",
       "      <td>Roarke Pankettman</td>\n",
       "    </tr>\n",
       "    <tr>\n",
       "      <th>4</th>\n",
       "      <td>5</td>\n",
       "      <td>Mikaela</td>\n",
       "      <td>Althorpe</td>\n",
       "      <td>malthorpe4@51.la</td>\n",
       "      <td>NaN</td>\n",
       "      <td>NaN</td>\n",
       "      <td>2nd</td>\n",
       "      <td>Drive</td>\n",
       "      <td>NaN</td>\n",
       "      <td>NaN</td>\n",
       "      <td>83732.0</td>\n",
       "      <td>Mikaela Althorpe</td>\n",
       "    </tr>\n",
       "  </tbody>\n",
       "</table>\n",
       "</div>"
      ],
      "text/plain": [
       "   id first_name   last_name                      email  gender  street_num  \\\n",
       "0   1     Romain   Southcott  rsouthcott0@clickbank.net    Male         1.0   \n",
       "1   2     Cosimo   Molyneaux      cmolyneaux1@wiley.com    Male         NaN   \n",
       "2   3      Bambi     Westrip     bwestrip2@symantec.com  Female      4057.0   \n",
       "3   4     Roarke  Pankettman     rpankettman3@wiley.com    Male        74.0   \n",
       "4   5    Mikaela    Althorpe           malthorpe4@51.la     NaN         NaN   \n",
       "\n",
       "  street_name street_suffix         city       state  postcode  \\\n",
       "0   Trailsway          Road    San Diego  California   92127.0   \n",
       "1         NaN           NaN      El Paso       Texas       NaN   \n",
       "2    Arkansas        Circle  San Antonio       Texas   78220.0   \n",
       "3        Debs         Point      Memphis   Tennessee   38150.0   \n",
       "4         2nd         Drive          NaN         NaN   83732.0   \n",
       "\n",
       "           full_name  \n",
       "0   Romain Southcott  \n",
       "1   Cosimo Molyneaux  \n",
       "2      Bambi Westrip  \n",
       "3  Roarke Pankettman  \n",
       "4   Mikaela Althorpe  "
      ]
     },
     "execution_count": 90,
     "metadata": {},
     "output_type": "execute_result"
    }
   ],
   "source": [
    "data.drop(columns=['Country'], inplace=True)\n",
    "data.head()"
   ]
  },
  {
   "cell_type": "markdown",
   "id": "50a1b8d5",
   "metadata": {},
   "source": [
    "Rename the roe index with custom index.\n",
    "\n",
    "'0' - 'firstCustomer'\n",
    "\n",
    "'1' - 'SecondCustomer'"
   ]
  },
  {
   "cell_type": "code",
   "execution_count": 92,
   "id": "0f9ab404",
   "metadata": {},
   "outputs": [
    {
     "data": {
      "text/html": [
       "<div>\n",
       "<style scoped>\n",
       "    .dataframe tbody tr th:only-of-type {\n",
       "        vertical-align: middle;\n",
       "    }\n",
       "\n",
       "    .dataframe tbody tr th {\n",
       "        vertical-align: top;\n",
       "    }\n",
       "\n",
       "    .dataframe thead th {\n",
       "        text-align: right;\n",
       "    }\n",
       "</style>\n",
       "<table border=\"1\" class=\"dataframe\">\n",
       "  <thead>\n",
       "    <tr style=\"text-align: right;\">\n",
       "      <th></th>\n",
       "      <th>id</th>\n",
       "      <th>first_name</th>\n",
       "      <th>last_name</th>\n",
       "      <th>email</th>\n",
       "      <th>gender</th>\n",
       "      <th>street_num</th>\n",
       "      <th>street_name</th>\n",
       "      <th>street_suffix</th>\n",
       "      <th>city</th>\n",
       "      <th>state</th>\n",
       "      <th>postcode</th>\n",
       "      <th>full_name</th>\n",
       "    </tr>\n",
       "  </thead>\n",
       "  <tbody>\n",
       "    <tr>\n",
       "      <th>firstCustomer</th>\n",
       "      <td>1</td>\n",
       "      <td>Romain</td>\n",
       "      <td>Southcott</td>\n",
       "      <td>rsouthcott0@clickbank.net</td>\n",
       "      <td>Male</td>\n",
       "      <td>1.0</td>\n",
       "      <td>Trailsway</td>\n",
       "      <td>Road</td>\n",
       "      <td>San Diego</td>\n",
       "      <td>California</td>\n",
       "      <td>92127.0</td>\n",
       "      <td>Romain Southcott</td>\n",
       "    </tr>\n",
       "    <tr>\n",
       "      <th>secondCustomer</th>\n",
       "      <td>2</td>\n",
       "      <td>Cosimo</td>\n",
       "      <td>Molyneaux</td>\n",
       "      <td>cmolyneaux1@wiley.com</td>\n",
       "      <td>Male</td>\n",
       "      <td>NaN</td>\n",
       "      <td>NaN</td>\n",
       "      <td>NaN</td>\n",
       "      <td>El Paso</td>\n",
       "      <td>Texas</td>\n",
       "      <td>NaN</td>\n",
       "      <td>Cosimo Molyneaux</td>\n",
       "    </tr>\n",
       "    <tr>\n",
       "      <th>2</th>\n",
       "      <td>3</td>\n",
       "      <td>Bambi</td>\n",
       "      <td>Westrip</td>\n",
       "      <td>bwestrip2@symantec.com</td>\n",
       "      <td>Female</td>\n",
       "      <td>4057.0</td>\n",
       "      <td>Arkansas</td>\n",
       "      <td>Circle</td>\n",
       "      <td>San Antonio</td>\n",
       "      <td>Texas</td>\n",
       "      <td>78220.0</td>\n",
       "      <td>Bambi Westrip</td>\n",
       "    </tr>\n",
       "    <tr>\n",
       "      <th>3</th>\n",
       "      <td>4</td>\n",
       "      <td>Roarke</td>\n",
       "      <td>Pankettman</td>\n",
       "      <td>rpankettman3@wiley.com</td>\n",
       "      <td>Male</td>\n",
       "      <td>74.0</td>\n",
       "      <td>Debs</td>\n",
       "      <td>Point</td>\n",
       "      <td>Memphis</td>\n",
       "      <td>Tennessee</td>\n",
       "      <td>38150.0</td>\n",
       "      <td>Roarke Pankettman</td>\n",
       "    </tr>\n",
       "    <tr>\n",
       "      <th>4</th>\n",
       "      <td>5</td>\n",
       "      <td>Mikaela</td>\n",
       "      <td>Althorpe</td>\n",
       "      <td>malthorpe4@51.la</td>\n",
       "      <td>NaN</td>\n",
       "      <td>NaN</td>\n",
       "      <td>2nd</td>\n",
       "      <td>Drive</td>\n",
       "      <td>NaN</td>\n",
       "      <td>NaN</td>\n",
       "      <td>83732.0</td>\n",
       "      <td>Mikaela Althorpe</td>\n",
       "    </tr>\n",
       "  </tbody>\n",
       "</table>\n",
       "</div>"
      ],
      "text/plain": [
       "                id first_name   last_name                      email  gender  \\\n",
       "firstCustomer    1     Romain   Southcott  rsouthcott0@clickbank.net    Male   \n",
       "secondCustomer   2     Cosimo   Molyneaux      cmolyneaux1@wiley.com    Male   \n",
       "2                3      Bambi     Westrip     bwestrip2@symantec.com  Female   \n",
       "3                4     Roarke  Pankettman     rpankettman3@wiley.com    Male   \n",
       "4                5    Mikaela    Althorpe           malthorpe4@51.la     NaN   \n",
       "\n",
       "                street_num street_name street_suffix         city       state  \\\n",
       "firstCustomer          1.0   Trailsway          Road    San Diego  California   \n",
       "secondCustomer         NaN         NaN           NaN      El Paso       Texas   \n",
       "2                   4057.0    Arkansas        Circle  San Antonio       Texas   \n",
       "3                     74.0        Debs         Point      Memphis   Tennessee   \n",
       "4                      NaN         2nd         Drive          NaN         NaN   \n",
       "\n",
       "                postcode          full_name  \n",
       "firstCustomer    92127.0   Romain Southcott  \n",
       "secondCustomer       NaN   Cosimo Molyneaux  \n",
       "2                78220.0      Bambi Westrip  \n",
       "3                38150.0  Roarke Pankettman  \n",
       "4                83732.0   Mikaela Althorpe  "
      ]
     },
     "execution_count": 92,
     "metadata": {},
     "output_type": "execute_result"
    }
   ],
   "source": [
    "rename_dict = {\n",
    "    0: 'firstCustomer',\n",
    "    1: 'secondCustomer'\n",
    "}\n",
    "data.rename(index=rename_dict, inplace=True)\n",
    "data.head()"
   ]
  },
  {
   "cell_type": "markdown",
   "id": "0be60327",
   "metadata": {},
   "source": [
    "Task - 2 : Can you rename the columns of street_num with the street_number and street_name with the stree_address."
   ]
  },
  {
   "cell_type": "code",
   "execution_count": 104,
   "id": "52c18ff9",
   "metadata": {},
   "outputs": [
    {
     "data": {
      "text/html": [
       "<div>\n",
       "<style scoped>\n",
       "    .dataframe tbody tr th:only-of-type {\n",
       "        vertical-align: middle;\n",
       "    }\n",
       "\n",
       "    .dataframe tbody tr th {\n",
       "        vertical-align: top;\n",
       "    }\n",
       "\n",
       "    .dataframe thead th {\n",
       "        text-align: right;\n",
       "    }\n",
       "</style>\n",
       "<table border=\"1\" class=\"dataframe\">\n",
       "  <thead>\n",
       "    <tr style=\"text-align: right;\">\n",
       "      <th></th>\n",
       "      <th>id</th>\n",
       "      <th>first_name</th>\n",
       "      <th>last_name</th>\n",
       "      <th>email</th>\n",
       "      <th>gender</th>\n",
       "      <th>street_number</th>\n",
       "      <th>street_address</th>\n",
       "      <th>street_suffix</th>\n",
       "      <th>city</th>\n",
       "      <th>state</th>\n",
       "      <th>postcode</th>\n",
       "      <th>full_name</th>\n",
       "    </tr>\n",
       "  </thead>\n",
       "  <tbody>\n",
       "    <tr>\n",
       "      <th>firstCustomer</th>\n",
       "      <td>1</td>\n",
       "      <td>Romain</td>\n",
       "      <td>Southcott</td>\n",
       "      <td>rsouthcott0@clickbank.net</td>\n",
       "      <td>Male</td>\n",
       "      <td>1.0</td>\n",
       "      <td>Trailsway</td>\n",
       "      <td>Road</td>\n",
       "      <td>San Diego</td>\n",
       "      <td>California</td>\n",
       "      <td>92127.0</td>\n",
       "      <td>Romain Southcott</td>\n",
       "    </tr>\n",
       "    <tr>\n",
       "      <th>secondCustomer</th>\n",
       "      <td>2</td>\n",
       "      <td>Cosimo</td>\n",
       "      <td>Molyneaux</td>\n",
       "      <td>cmolyneaux1@wiley.com</td>\n",
       "      <td>Male</td>\n",
       "      <td>NaN</td>\n",
       "      <td>NaN</td>\n",
       "      <td>NaN</td>\n",
       "      <td>El Paso</td>\n",
       "      <td>Texas</td>\n",
       "      <td>NaN</td>\n",
       "      <td>Cosimo Molyneaux</td>\n",
       "    </tr>\n",
       "    <tr>\n",
       "      <th>2</th>\n",
       "      <td>3</td>\n",
       "      <td>Bambi</td>\n",
       "      <td>Westrip</td>\n",
       "      <td>bwestrip2@symantec.com</td>\n",
       "      <td>Female</td>\n",
       "      <td>4057.0</td>\n",
       "      <td>Arkansas</td>\n",
       "      <td>Circle</td>\n",
       "      <td>San Antonio</td>\n",
       "      <td>Texas</td>\n",
       "      <td>78220.0</td>\n",
       "      <td>Bambi Westrip</td>\n",
       "    </tr>\n",
       "    <tr>\n",
       "      <th>3</th>\n",
       "      <td>4</td>\n",
       "      <td>Roarke</td>\n",
       "      <td>Pankettman</td>\n",
       "      <td>rpankettman3@wiley.com</td>\n",
       "      <td>Male</td>\n",
       "      <td>74.0</td>\n",
       "      <td>Debs</td>\n",
       "      <td>Point</td>\n",
       "      <td>Memphis</td>\n",
       "      <td>Tennessee</td>\n",
       "      <td>38150.0</td>\n",
       "      <td>Roarke Pankettman</td>\n",
       "    </tr>\n",
       "    <tr>\n",
       "      <th>4</th>\n",
       "      <td>5</td>\n",
       "      <td>Mikaela</td>\n",
       "      <td>Althorpe</td>\n",
       "      <td>malthorpe4@51.la</td>\n",
       "      <td>NaN</td>\n",
       "      <td>NaN</td>\n",
       "      <td>2nd</td>\n",
       "      <td>Drive</td>\n",
       "      <td>NaN</td>\n",
       "      <td>NaN</td>\n",
       "      <td>83732.0</td>\n",
       "      <td>Mikaela Althorpe</td>\n",
       "    </tr>\n",
       "  </tbody>\n",
       "</table>\n",
       "</div>"
      ],
      "text/plain": [
       "                id first_name   last_name                      email  gender  \\\n",
       "firstCustomer    1     Romain   Southcott  rsouthcott0@clickbank.net    Male   \n",
       "secondCustomer   2     Cosimo   Molyneaux      cmolyneaux1@wiley.com    Male   \n",
       "2                3      Bambi     Westrip     bwestrip2@symantec.com  Female   \n",
       "3                4     Roarke  Pankettman     rpankettman3@wiley.com    Male   \n",
       "4                5    Mikaela    Althorpe           malthorpe4@51.la     NaN   \n",
       "\n",
       "                street_number street_address street_suffix         city  \\\n",
       "firstCustomer             1.0      Trailsway          Road    San Diego   \n",
       "secondCustomer            NaN            NaN           NaN      El Paso   \n",
       "2                      4057.0       Arkansas        Circle  San Antonio   \n",
       "3                        74.0           Debs         Point      Memphis   \n",
       "4                         NaN            2nd         Drive          NaN   \n",
       "\n",
       "                     state  postcode          full_name  \n",
       "firstCustomer   California   92127.0   Romain Southcott  \n",
       "secondCustomer       Texas       NaN   Cosimo Molyneaux  \n",
       "2                    Texas   78220.0      Bambi Westrip  \n",
       "3                Tennessee   38150.0  Roarke Pankettman  \n",
       "4                      NaN   83732.0   Mikaela Althorpe  "
      ]
     },
     "execution_count": 104,
     "metadata": {},
     "output_type": "execute_result"
    }
   ],
   "source": [
    "rename_columns_name = {\n",
    "    'street_num' : 'street_number',\n",
    "    'street_name' : 'street_address'\n",
    "}\n",
    "data.rename(columns=rename_columns_name, inplace=True)\n",
    "data.head()"
   ]
  },
  {
   "cell_type": "code",
   "execution_count": 97,
   "id": "ceaa27cb",
   "metadata": {},
   "outputs": [
    {
     "data": {
      "text/html": [
       "<div>\n",
       "<style scoped>\n",
       "    .dataframe tbody tr th:only-of-type {\n",
       "        vertical-align: middle;\n",
       "    }\n",
       "\n",
       "    .dataframe tbody tr th {\n",
       "        vertical-align: top;\n",
       "    }\n",
       "\n",
       "    .dataframe thead th {\n",
       "        text-align: right;\n",
       "    }\n",
       "</style>\n",
       "<table border=\"1\" class=\"dataframe\">\n",
       "  <thead>\n",
       "    <tr style=\"text-align: right;\">\n",
       "      <th></th>\n",
       "      <th>id</th>\n",
       "      <th>first_name</th>\n",
       "      <th>last_name</th>\n",
       "      <th>email</th>\n",
       "      <th>gender</th>\n",
       "      <th>street_num</th>\n",
       "      <th>street_name</th>\n",
       "      <th>street_suffix</th>\n",
       "      <th>city</th>\n",
       "      <th>state</th>\n",
       "      <th>postcode</th>\n",
       "      <th>full_name</th>\n",
       "    </tr>\n",
       "  </thead>\n",
       "  <tbody>\n",
       "    <tr>\n",
       "      <th>firstCustomer</th>\n",
       "      <td>1</td>\n",
       "      <td>Romain</td>\n",
       "      <td>Southcott</td>\n",
       "      <td>rsouthcott0@clickbank.net</td>\n",
       "      <td>Male</td>\n",
       "      <td>1.0</td>\n",
       "      <td>Trailsway</td>\n",
       "      <td>Road</td>\n",
       "      <td>San Diego</td>\n",
       "      <td>California</td>\n",
       "      <td>92127.0</td>\n",
       "      <td>Romain Southcott</td>\n",
       "    </tr>\n",
       "    <tr>\n",
       "      <th>secondCustomer</th>\n",
       "      <td>2</td>\n",
       "      <td>Cosimo</td>\n",
       "      <td>Molyneaux</td>\n",
       "      <td>cmolyneaux1@wiley.com</td>\n",
       "      <td>Male</td>\n",
       "      <td>NaN</td>\n",
       "      <td>NaN</td>\n",
       "      <td>NaN</td>\n",
       "      <td>El Paso</td>\n",
       "      <td>Texas</td>\n",
       "      <td>NaN</td>\n",
       "      <td>Cosimo Molyneaux</td>\n",
       "    </tr>\n",
       "  </tbody>\n",
       "</table>\n",
       "</div>"
      ],
      "text/plain": [
       "                id first_name  last_name                      email gender  \\\n",
       "firstCustomer    1     Romain  Southcott  rsouthcott0@clickbank.net   Male   \n",
       "secondCustomer   2     Cosimo  Molyneaux      cmolyneaux1@wiley.com   Male   \n",
       "\n",
       "                street_num street_name street_suffix       city       state  \\\n",
       "firstCustomer          1.0   Trailsway          Road  San Diego  California   \n",
       "secondCustomer         NaN         NaN           NaN    El Paso       Texas   \n",
       "\n",
       "                postcode         full_name  \n",
       "firstCustomer    92127.0  Romain Southcott  \n",
       "secondCustomer       NaN  Cosimo Molyneaux  "
      ]
     },
     "execution_count": 97,
     "metadata": {},
     "output_type": "execute_result"
    }
   ],
   "source": [
    "data.loc['firstCustomer':'secondCustomer']"
   ]
  },
  {
   "cell_type": "code",
   "execution_count": 98,
   "id": "b3ef3765",
   "metadata": {},
   "outputs": [
    {
     "data": {
      "text/html": [
       "<div>\n",
       "<style scoped>\n",
       "    .dataframe tbody tr th:only-of-type {\n",
       "        vertical-align: middle;\n",
       "    }\n",
       "\n",
       "    .dataframe tbody tr th {\n",
       "        vertical-align: top;\n",
       "    }\n",
       "\n",
       "    .dataframe thead th {\n",
       "        text-align: right;\n",
       "    }\n",
       "</style>\n",
       "<table border=\"1\" class=\"dataframe\">\n",
       "  <thead>\n",
       "    <tr style=\"text-align: right;\">\n",
       "      <th></th>\n",
       "      <th>id</th>\n",
       "      <th>first_name</th>\n",
       "      <th>last_name</th>\n",
       "      <th>email</th>\n",
       "      <th>gender</th>\n",
       "      <th>street_num</th>\n",
       "      <th>street_name</th>\n",
       "      <th>street_suffix</th>\n",
       "      <th>city</th>\n",
       "      <th>state</th>\n",
       "      <th>postcode</th>\n",
       "      <th>full_name</th>\n",
       "    </tr>\n",
       "  </thead>\n",
       "  <tbody>\n",
       "    <tr>\n",
       "      <th>firstCustomer</th>\n",
       "      <td>1</td>\n",
       "      <td>Romain</td>\n",
       "      <td>Southcott</td>\n",
       "      <td>rsouthcott0@clickbank.net</td>\n",
       "      <td>Male</td>\n",
       "      <td>1.0</td>\n",
       "      <td>Trailsway</td>\n",
       "      <td>Road</td>\n",
       "      <td>San Diego</td>\n",
       "      <td>California</td>\n",
       "      <td>92127.0</td>\n",
       "      <td>Romain Southcott</td>\n",
       "    </tr>\n",
       "    <tr>\n",
       "      <th>secondCustomer</th>\n",
       "      <td>2</td>\n",
       "      <td>Cosimo</td>\n",
       "      <td>Molyneaux</td>\n",
       "      <td>cmolyneaux1@wiley.com</td>\n",
       "      <td>Male</td>\n",
       "      <td>NaN</td>\n",
       "      <td>NaN</td>\n",
       "      <td>NaN</td>\n",
       "      <td>El Paso</td>\n",
       "      <td>Texas</td>\n",
       "      <td>NaN</td>\n",
       "      <td>Cosimo Molyneaux</td>\n",
       "    </tr>\n",
       "  </tbody>\n",
       "</table>\n",
       "</div>"
      ],
      "text/plain": [
       "                id first_name  last_name                      email gender  \\\n",
       "firstCustomer    1     Romain  Southcott  rsouthcott0@clickbank.net   Male   \n",
       "secondCustomer   2     Cosimo  Molyneaux      cmolyneaux1@wiley.com   Male   \n",
       "\n",
       "                street_num street_name street_suffix       city       state  \\\n",
       "firstCustomer          1.0   Trailsway          Road  San Diego  California   \n",
       "secondCustomer         NaN         NaN           NaN    El Paso       Texas   \n",
       "\n",
       "                postcode         full_name  \n",
       "firstCustomer    92127.0  Romain Southcott  \n",
       "secondCustomer       NaN  Cosimo Molyneaux  "
      ]
     },
     "execution_count": 98,
     "metadata": {},
     "output_type": "execute_result"
    }
   ],
   "source": [
    "data.iloc[0:2]"
   ]
  },
  {
   "cell_type": "markdown",
   "id": "1804d7c1",
   "metadata": {},
   "source": [
    "Finding the unique values\n"
   ]
  },
  {
   "cell_type": "code",
   "execution_count": 99,
   "id": "02752f3f",
   "metadata": {},
   "outputs": [
    {
     "name": "stdout",
     "output_type": "stream",
     "text": [
      "['Male' 'Female' nan]\n"
     ]
    }
   ],
   "source": [
    "unique_gender = data['gender'].unique()\n",
    "print(unique_gender)"
   ]
  },
  {
   "cell_type": "markdown",
   "id": "d4e826ca",
   "metadata": {},
   "source": [
    "Counts of the unique value in the given column in a dataframe."
   ]
  },
  {
   "cell_type": "markdown",
   "id": "e928d368",
   "metadata": {},
   "source": [
    "Note: It will only return the non-null values as the count"
   ]
  },
  {
   "cell_type": "code",
   "execution_count": 105,
   "id": "5fa4e84d",
   "metadata": {},
   "outputs": [
    {
     "name": "stdout",
     "output_type": "stream",
     "text": [
      "2\n"
     ]
    }
   ],
   "source": [
    "count_unique_gender = data['gender'].nunique()\n",
    "print(count_unique_gender)"
   ]
  },
  {
   "cell_type": "code",
   "execution_count": 106,
   "id": "400f947f",
   "metadata": {},
   "outputs": [
    {
     "data": {
      "text/plain": [
       "gender\n",
       "Male      485\n",
       "Female    472\n",
       "Name: count, dtype: int64"
      ]
     },
     "execution_count": 106,
     "metadata": {},
     "output_type": "execute_result"
    }
   ],
   "source": [
    "data['gender'].value_counts()"
   ]
  },
  {
   "cell_type": "code",
   "execution_count": null,
   "id": "e1c14c1e",
   "metadata": {},
   "outputs": [],
   "source": []
  }
 ],
 "metadata": {
  "kernelspec": {
   "display_name": ".venv",
   "language": "python",
   "name": "python3"
  },
  "language_info": {
   "codemirror_mode": {
    "name": "ipython",
    "version": 3
   },
   "file_extension": ".py",
   "mimetype": "text/x-python",
   "name": "python",
   "nbconvert_exporter": "python",
   "pygments_lexer": "ipython3",
   "version": "3.13.1"
  }
 },
 "nbformat": 4,
 "nbformat_minor": 5
}
