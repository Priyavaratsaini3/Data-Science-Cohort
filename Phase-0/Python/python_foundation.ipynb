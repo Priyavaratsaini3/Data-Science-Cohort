{
 "cells": [
  {
   "cell_type": "markdown",
   "metadata": {
    "id": "Rf9dUfa75no7"
   },
   "source": [
    "print() function -> display the output to the screen"
   ]
  },
  {
   "cell_type": "code",
   "execution_count": 1,
   "metadata": {
    "colab": {
     "base_uri": "https://localhost:8080/"
    },
    "executionInfo": {
     "elapsed": 30,
     "status": "ok",
     "timestamp": 1745198044493,
     "user": {
      "displayName": "DÅRK GØD",
      "userId": "17000730542848302813"
     },
     "user_tz": -330
    },
    "id": "9qHbJC0vOmhj",
    "outputId": "34756c5a-55f4-4027-ce6f-20e768f79756"
   },
   "outputs": [
    {
     "name": "stdout",
     "output_type": "stream",
     "text": [
      "Hello World\n"
     ]
    }
   ],
   "source": [
    "print(\"Hello World\")"
   ]
  },
  {
   "cell_type": "markdown",
   "metadata": {
    "id": "9fH0tk3V65L-"
   },
   "source": [
    "By default, the print function uses 'end' parameter with a new line"
   ]
  },
  {
   "cell_type": "code",
   "execution_count": 2,
   "metadata": {
    "colab": {
     "base_uri": "https://localhost:8080/"
    },
    "executionInfo": {
     "elapsed": 161,
     "status": "ok",
     "timestamp": 1745198077145,
     "user": {
      "displayName": "DÅRK GØD",
      "userId": "17000730542848302813"
     },
     "user_tz": -330
    },
    "id": "qqBzEI4m54t1",
    "outputId": "36d7864d-4af5-492d-939d-4c42c8bedaca"
   },
   "outputs": [
    {
     "name": "stdout",
     "output_type": "stream",
     "text": [
      "Hello\n",
      "World\n"
     ]
    }
   ],
   "source": [
    "print(\"Hello\")\n",
    "print(\"World\")"
   ]
  },
  {
   "cell_type": "code",
   "execution_count": 5,
   "metadata": {
    "colab": {
     "base_uri": "https://localhost:8080/"
    },
    "executionInfo": {
     "elapsed": 32,
     "status": "ok",
     "timestamp": 1745198209326,
     "user": {
      "displayName": "DÅRK GØD",
      "userId": "17000730542848302813"
     },
     "user_tz": -330
    },
    "id": "c1EyzdlK6VEf",
    "outputId": "eabe6600-8ed1-4eb6-b116-30817498381f"
   },
   "outputs": [
    {
     "name": "stdout",
     "output_type": "stream",
     "text": [
      "Hello World\n"
     ]
    }
   ],
   "source": [
    "print(\"Hello\", end=\" \")\n",
    "print(\"World\")"
   ]
  },
  {
   "cell_type": "markdown",
   "metadata": {
    "id": "A6uZZooB7X7O"
   },
   "source": [
    "Print- Python-Programming"
   ]
  },
  {
   "cell_type": "code",
   "execution_count": 7,
   "metadata": {
    "colab": {
     "base_uri": "https://localhost:8080/"
    },
    "executionInfo": {
     "elapsed": 35,
     "status": "ok",
     "timestamp": 1745198343320,
     "user": {
      "displayName": "DÅRK GØD",
      "userId": "17000730542848302813"
     },
     "user_tz": -330
    },
    "id": "Gll99fOu6rr6",
    "outputId": "4dc31566-ab25-406b-e635-ac831b1afddc"
   },
   "outputs": [
    {
     "name": "stdout",
     "output_type": "stream",
     "text": [
      "Python-Programming\n"
     ]
    }
   ],
   "source": [
    "print(\"Python\", end=\"-\")\n",
    "print(\"Programming\")"
   ]
  },
  {
   "cell_type": "markdown",
   "metadata": {
    "id": "O06ChyGC7eL5"
   },
   "source": [
    "'sep' parameter"
   ]
  },
  {
   "cell_type": "code",
   "execution_count": 8,
   "metadata": {
    "colab": {
     "base_uri": "https://localhost:8080/"
    },
    "executionInfo": {
     "elapsed": 32,
     "status": "ok",
     "timestamp": 1745198471839,
     "user": {
      "displayName": "DÅRK GØD",
      "userId": "17000730542848302813"
     },
     "user_tz": -330
    },
    "id": "LFUYf3-97Qp5",
    "outputId": "a1488bff-c24c-42b2-a647-f34c23a67cda"
   },
   "outputs": [
    {
     "name": "stdout",
     "output_type": "stream",
     "text": [
      "apple banana orange\n"
     ]
    }
   ],
   "source": [
    "print(\"apple\",\"banana\",\"orange\")"
   ]
  },
  {
   "cell_type": "code",
   "execution_count": 9,
   "metadata": {
    "colab": {
     "base_uri": "https://localhost:8080/"
    },
    "executionInfo": {
     "elapsed": 14,
     "status": "ok",
     "timestamp": 1745198512024,
     "user": {
      "displayName": "DÅRK GØD",
      "userId": "17000730542848302813"
     },
     "user_tz": -330
    },
    "id": "OKpLh3b071mJ",
    "outputId": "ca6d6b00-3747-43e8-fd53-f9b5147a12b2"
   },
   "outputs": [
    {
     "name": "stdout",
     "output_type": "stream",
     "text": [
      "apple,banana,orange\n"
     ]
    }
   ],
   "source": [
    "print(\"apple\",\"banana\",\"orange\", sep=',')"
   ]
  },
  {
   "cell_type": "markdown",
   "metadata": {
    "id": "qw8voUkp8msS"
   },
   "source": [
    "input() function"
   ]
  },
  {
   "cell_type": "code",
   "execution_count": 12,
   "metadata": {
    "colab": {
     "base_uri": "https://localhost:8080/"
    },
    "executionInfo": {
     "elapsed": 10872,
     "status": "ok",
     "timestamp": 1745198803138,
     "user": {
      "displayName": "DÅRK GØD",
      "userId": "17000730542848302813"
     },
     "user_tz": -330
    },
    "id": "dYk65CQz7_Z2",
    "outputId": "43b381e0-737a-4ca2-895e-ee65b1b97453"
   },
   "outputs": [
    {
     "name": "stdout",
     "output_type": "stream",
     "text": [
      "Enter your name: priyavart saini\n",
      "Hey, my name is priyavart saini\n"
     ]
    }
   ],
   "source": [
    "user_input = input(\"Enter your name: \")\n",
    "print(\"Hey, my name is \" + user_input)"
   ]
  },
  {
   "cell_type": "code",
   "execution_count": 13,
   "metadata": {
    "colab": {
     "base_uri": "https://localhost:8080/"
    },
    "executionInfo": {
     "elapsed": 22,
     "status": "ok",
     "timestamp": 1745199029464,
     "user": {
      "displayName": "DÅRK GØD",
      "userId": "17000730542848302813"
     },
     "user_tz": -330
    },
    "id": "OoYhb56581cG",
    "outputId": "d224b5d1-a037-4eab-9789-b778411f09b7"
   },
   "outputs": [
    {
     "name": "stdout",
     "output_type": "stream",
     "text": [
      "prince saini\n"
     ]
    }
   ],
   "source": [
    "user_input = \"prince saini\"\n",
    "print(user_input)"
   ]
  },
  {
   "cell_type": "code",
   "execution_count": 14,
   "metadata": {
    "colab": {
     "base_uri": "https://localhost:8080/"
    },
    "executionInfo": {
     "elapsed": 18,
     "status": "ok",
     "timestamp": 1745199078486,
     "user": {
      "displayName": "DÅRK GØD",
      "userId": "17000730542848302813"
     },
     "user_tz": -330
    },
    "id": "TgJ36Lzq99vM",
    "outputId": "aabfee88-20de-4c32-b5f9-1b42b37a4a08"
   },
   "outputs": [
    {
     "name": "stdout",
     "output_type": "stream",
     "text": [
      "10\n"
     ]
    }
   ],
   "source": [
    "num = 10\n",
    "print(num)"
   ]
  },
  {
   "cell_type": "code",
   "execution_count": 15,
   "metadata": {
    "colab": {
     "base_uri": "https://localhost:8080/"
    },
    "executionInfo": {
     "elapsed": 20,
     "status": "ok",
     "timestamp": 1745199090288,
     "user": {
      "displayName": "DÅRK GØD",
      "userId": "17000730542848302813"
     },
     "user_tz": -330
    },
    "id": "y6AgX7KA-JtN",
    "outputId": "5afa58a1-decc-4006-a08b-0b2af700fb96"
   },
   "outputs": [
    {
     "name": "stdout",
     "output_type": "stream",
     "text": [
      "15\n"
     ]
    }
   ],
   "source": [
    "num = 15\n",
    "print(num)"
   ]
  },
  {
   "cell_type": "markdown",
   "metadata": {
    "id": "4ZgN21uA-uzq"
   },
   "source": [
    "Comments"
   ]
  },
  {
   "cell_type": "code",
   "execution_count": 16,
   "metadata": {
    "colab": {
     "base_uri": "https://localhost:8080/"
    },
    "executionInfo": {
     "elapsed": 51,
     "status": "ok",
     "timestamp": 1745199398604,
     "user": {
      "displayName": "DÅRK GØD",
      "userId": "17000730542848302813"
     },
     "user_tz": -330
    },
    "id": "f4iVpY1n-Ml-",
    "outputId": "90224eb7-bea1-4c51-9b24-66571f56400c"
   },
   "outputs": [
    {
     "name": "stdout",
     "output_type": "stream",
     "text": [
      "hello world\n"
     ]
    }
   ],
   "source": [
    "#This is a single line comment\n",
    "print(\"hello world\")"
   ]
  },
  {
   "cell_type": "code",
   "execution_count": 17,
   "metadata": {
    "colab": {
     "base_uri": "https://localhost:8080/"
    },
    "executionInfo": {
     "elapsed": 69,
     "status": "ok",
     "timestamp": 1745199483817,
     "user": {
      "displayName": "DÅRK GØD",
      "userId": "17000730542848302813"
     },
     "user_tz": -330
    },
    "id": "FZ3n-13W_X2i",
    "outputId": "61e053dd-6c5e-461e-8e35-a3fc381a9cb7"
   },
   "outputs": [
    {
     "name": "stdout",
     "output_type": "stream",
     "text": [
      "hello\n"
     ]
    }
   ],
   "source": [
    "''' this is a multi-line comment , it is enclosed within triple quotes.\n",
    "this is useful mainly for documenting larger sections of the code\n",
    "'''\n",
    "print(\"hello\")"
   ]
  },
  {
   "cell_type": "markdown",
   "metadata": {
    "id": "zX-ztmPq_vb8"
   },
   "source": [
    "Indentation: structure of code block"
   ]
  },
  {
   "cell_type": "code",
   "execution_count": 18,
   "metadata": {
    "colab": {
     "base_uri": "https://localhost:8080/"
    },
    "executionInfo": {
     "elapsed": 60,
     "status": "ok",
     "timestamp": 1745199604945,
     "user": {
      "displayName": "DÅRK GØD",
      "userId": "17000730542848302813"
     },
     "user_tz": -330
    },
    "id": "KvVB6xMF_spH",
    "outputId": "129a2815-243f-42d7-ecde-6b7e0f751014"
   },
   "outputs": [
    {
     "name": "stdout",
     "output_type": "stream",
     "text": [
      "x is greater than 3\n"
     ]
    }
   ],
   "source": [
    "x = 5\n",
    "if x > 3:\n",
    "  print(\"x is greater than 3\")"
   ]
  },
  {
   "cell_type": "code",
   "execution_count": 19,
   "metadata": {
    "colab": {
     "base_uri": "https://localhost:8080/"
    },
    "executionInfo": {
     "elapsed": 9,
     "status": "ok",
     "timestamp": 1745200067775,
     "user": {
      "displayName": "DÅRK GØD",
      "userId": "17000730542848302813"
     },
     "user_tz": -330
    },
    "id": "XXCGHf_DAKOb",
    "outputId": "b4427694-4194-4c3d-d855-6b1df2c684d6"
   },
   "outputs": [
    {
     "name": "stdout",
     "output_type": "stream",
     "text": [
      "10\n",
      "20\n",
      "30\n"
     ]
    }
   ],
   "source": [
    "x, y, z = 10,20,30\n",
    "print(x)\n",
    "print(y)\n",
    "print(z)"
   ]
  },
  {
   "cell_type": "code",
   "execution_count": 20,
   "metadata": {
    "colab": {
     "base_uri": "https://localhost:8080/"
    },
    "executionInfo": {
     "elapsed": 24,
     "status": "ok",
     "timestamp": 1745200224353,
     "user": {
      "displayName": "DÅRK GØD",
      "userId": "17000730542848302813"
     },
     "user_tz": -330
    },
    "id": "sFf44cN_B7Oe",
    "outputId": "49ff49a3-148d-43b2-d6de-f7df6ed55637"
   },
   "outputs": [
    {
     "name": "stdout",
     "output_type": "stream",
     "text": [
      "Hello\n",
      "Hello\n",
      "Hello\n"
     ]
    }
   ],
   "source": [
    "x = y = z = \"Hello\"\n",
    "print(x)\n",
    "print(y)\n",
    "print(z)"
   ]
  },
  {
   "cell_type": "code",
   "execution_count": 21,
   "metadata": {
    "colab": {
     "base_uri": "https://localhost:8080/",
     "height": 158
    },
    "executionInfo": {
     "elapsed": 149,
     "status": "error",
     "timestamp": 1745200246856,
     "user": {
      "displayName": "DÅRK GØD",
      "userId": "17000730542848302813"
     },
     "user_tz": -330
    },
    "id": "L01d197WChc6",
    "outputId": "153e5980-44bf-4679-c02c-ddf0c18a4c1d"
   },
   "outputs": [
    {
     "ename": "ValueError",
     "evalue": "too many values to unpack (expected 3)",
     "output_type": "error",
     "traceback": [
      "\u001b[0;31m---------------------------------------------------------------------------\u001b[0m",
      "\u001b[0;31mValueError\u001b[0m                                Traceback (most recent call last)",
      "\u001b[0;32m<ipython-input-21-3429abe29a52>\u001b[0m in \u001b[0;36m<cell line: 0>\u001b[0;34m()\u001b[0m\n\u001b[0;32m----> 1\u001b[0;31m \u001b[0mx\u001b[0m\u001b[0;34m,\u001b[0m \u001b[0my\u001b[0m\u001b[0;34m,\u001b[0m \u001b[0mz\u001b[0m \u001b[0;34m=\u001b[0m \u001b[0;34m\"hello\"\u001b[0m\u001b[0;34m\u001b[0m\u001b[0;34m\u001b[0m\u001b[0m\n\u001b[0m\u001b[1;32m      2\u001b[0m \u001b[0mprint\u001b[0m\u001b[0;34m(\u001b[0m\u001b[0mz\u001b[0m\u001b[0;34m)\u001b[0m\u001b[0;34m\u001b[0m\u001b[0;34m\u001b[0m\u001b[0m\n",
      "\u001b[0;31mValueError\u001b[0m: too many values to unpack (expected 3)"
     ]
    }
   ],
   "source": [
    "x, y, z = \"hello\"\n",
    "print(z)"
   ]
  },
  {
   "cell_type": "markdown",
   "metadata": {
    "id": "iRsMT844C87G"
   },
   "source": [
    "Data Type: nature of the data that any variable can hold\n",
    "\n",
    "Numbers"
   ]
  },
  {
   "cell_type": "code",
   "execution_count": 22,
   "metadata": {
    "executionInfo": {
     "elapsed": 20,
     "status": "ok",
     "timestamp": 1745200453839,
     "user": {
      "displayName": "DÅRK GØD",
      "userId": "17000730542848302813"
     },
     "user_tz": -330
    },
    "id": "58qpEyzBCm61"
   },
   "outputs": [],
   "source": [
    "x = 10 # int\n",
    "y = 3.14 # float\n",
    "z = 2 + 3j #complex"
   ]
  },
  {
   "cell_type": "code",
   "execution_count": 24,
   "metadata": {
    "colab": {
     "base_uri": "https://localhost:8080/"
    },
    "executionInfo": {
     "elapsed": 37,
     "status": "ok",
     "timestamp": 1745200470864,
     "user": {
      "displayName": "DÅRK GØD",
      "userId": "17000730542848302813"
     },
     "user_tz": -330
    },
    "id": "bS1eDI-1DZdL",
    "outputId": "7f39c589-1258-42e5-d796-d8a427217ef7"
   },
   "outputs": [
    {
     "data": {
      "text/plain": [
       "complex"
      ]
     },
     "execution_count": 24,
     "metadata": {},
     "output_type": "execute_result"
    }
   ],
   "source": [
    "type(z)"
   ]
  },
  {
   "cell_type": "code",
   "execution_count": 25,
   "metadata": {
    "colab": {
     "base_uri": "https://localhost:8080/"
    },
    "executionInfo": {
     "elapsed": 28,
     "status": "ok",
     "timestamp": 1745200483863,
     "user": {
      "displayName": "DÅRK GØD",
      "userId": "17000730542848302813"
     },
     "user_tz": -330
    },
    "id": "qqVpYitEDbuK",
    "outputId": "30f29003-6c16-462e-e6f5-2da546208170"
   },
   "outputs": [
    {
     "data": {
      "text/plain": [
       "float"
      ]
     },
     "execution_count": 25,
     "metadata": {},
     "output_type": "execute_result"
    }
   ],
   "source": [
    "type(y)"
   ]
  },
  {
   "cell_type": "code",
   "execution_count": 26,
   "metadata": {
    "colab": {
     "base_uri": "https://localhost:8080/"
    },
    "executionInfo": {
     "elapsed": 13,
     "status": "ok",
     "timestamp": 1745200493268,
     "user": {
      "displayName": "DÅRK GØD",
      "userId": "17000730542848302813"
     },
     "user_tz": -330
    },
    "id": "5xPf95s7DgzO",
    "outputId": "28feb7b2-d1db-4d77-e5d8-91a01d45f169"
   },
   "outputs": [
    {
     "data": {
      "text/plain": [
       "int"
      ]
     },
     "execution_count": 26,
     "metadata": {},
     "output_type": "execute_result"
    }
   ],
   "source": [
    "type(x)"
   ]
  },
  {
   "cell_type": "code",
   "execution_count": 27,
   "metadata": {
    "colab": {
     "base_uri": "https://localhost:8080/"
    },
    "executionInfo": {
     "elapsed": 22,
     "status": "ok",
     "timestamp": 1745200534930,
     "user": {
      "displayName": "DÅRK GØD",
      "userId": "17000730542848302813"
     },
     "user_tz": -330
    },
    "id": "OLiy7cSvDjHW",
    "outputId": "e105a6a9-7abd-4d71-e5db-df91d8662354"
   },
   "outputs": [
    {
     "data": {
      "text/plain": [
       "2.0"
      ]
     },
     "execution_count": 27,
     "metadata": {},
     "output_type": "execute_result"
    }
   ],
   "source": [
    "z.real\n"
   ]
  },
  {
   "cell_type": "code",
   "execution_count": 28,
   "metadata": {
    "colab": {
     "base_uri": "https://localhost:8080/"
    },
    "executionInfo": {
     "elapsed": 22,
     "status": "ok",
     "timestamp": 1745200540159,
     "user": {
      "displayName": "DÅRK GØD",
      "userId": "17000730542848302813"
     },
     "user_tz": -330
    },
    "id": "vBaffksiDtRB",
    "outputId": "1ac2985d-17b9-46bf-87fd-ca9aeb00eb76"
   },
   "outputs": [
    {
     "data": {
      "text/plain": [
       "3.0"
      ]
     },
     "execution_count": 28,
     "metadata": {},
     "output_type": "execute_result"
    }
   ],
   "source": [
    "z.imag"
   ]
  },
  {
   "cell_type": "markdown",
   "metadata": {
    "id": "t3dTrlImD0Ou"
   },
   "source": [
    "String: Sequence of character enclosed within single and double quotes"
   ]
  },
  {
   "cell_type": "code",
   "execution_count": 1,
   "metadata": {
    "colab": {
     "base_uri": "https://localhost:8080/"
    },
    "executionInfo": {
     "elapsed": 30,
     "status": "ok",
     "timestamp": 1745200658667,
     "user": {
      "displayName": "DÅRK GØD",
      "userId": "17000730542848302813"
     },
     "user_tz": -330
    },
    "id": "LFDunsH3Dujw",
    "outputId": "ef69f564-921d-49af-ddad-138fb5ca4c6d"
   },
   "outputs": [
    {
     "data": {
      "text/plain": [
       "str"
      ]
     },
     "execution_count": 1,
     "metadata": {},
     "output_type": "execute_result"
    }
   ],
   "source": [
    "name = \"deep\"\n",
    "type(name)"
   ]
  },
  {
   "cell_type": "code",
   "execution_count": null,
   "metadata": {
    "id": "9UhASqd4ELfP"
   },
   "outputs": [],
   "source": []
  }
 ],
 "metadata": {
  "colab": {
   "authorship_tag": "ABX9TyN+VJDe9XujrYTXq+lmv8DT",
   "provenance": []
  },
  "kernelspec": {
   "display_name": ".venv",
   "language": "python",
   "name": "python3"
  },
  "language_info": {
   "codemirror_mode": {
    "name": "ipython",
    "version": 3
   },
   "file_extension": ".py",
   "mimetype": "text/x-python",
   "name": "python",
   "nbconvert_exporter": "python",
   "pygments_lexer": "ipython3",
   "version": "3.13.1"
  }
 },
 "nbformat": 4,
 "nbformat_minor": 0
}
