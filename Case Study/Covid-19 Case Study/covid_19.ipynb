{
 "cells": [
  {
   "cell_type": "markdown",
   "id": "4ea6b921",
   "metadata": {},
   "source": [
    "Question 1: Data Loading\n",
    "\n",
    "Q1.1: How do you load the COVID-19 datasets for confirmed cases, deaths, and recoveries into Python using Pandas?"
   ]
  },
  {
   "cell_type": "code",
   "execution_count": 6,
   "id": "f333e0db",
   "metadata": {},
   "outputs": [],
   "source": [
    "import numpy as np \n",
    "import pandas as pd\n",
    "import matplotlib.pyplot as plt\n",
    "\n",
    "## Load the COVID-19 datasets for confirmed cases, deaths, and recoveries\n",
    "\n",
    "confirm_cases = pd.read_csv(r\"C:\\Desktop\\Data-Science-Cohort\\Covid-19 Case Study\\covid_19_confirmed_v1_lyst1747728690432.csv\")\n",
    "deaths = pd.read_csv(r\"C:\\Desktop\\Data-Science-Cohort\\Covid-19 Case Study\\covid_19_deaths_v1_lyst1747728711771.csv\")\n",
    "recovered_people = pd.read_csv(r\"C:\\Desktop\\Data-Science-Cohort\\Covid-19 Case Study\\covid_19_recovered_v1_lyst1747728719904.csv\")\n",
    "\n",
    "\n"
   ]
  },
  {
   "cell_type": "markdown",
   "id": "cb49a0b1",
   "metadata": {},
   "source": [
    "Question 2: Data Exploration\n",
    "Q2.1: After loading the datasets, what is the structure of each dataset in terms of rows, columns, and data types?\n",
    "\n",
    "Q2.2: Generate plots of confirmed cases over time for the top countries.\n",
    "\n",
    "Q2.3: Generate plots of confirmed cases over time for China."
   ]
  },
  {
   "cell_type": "code",
   "execution_count": 11,
   "id": "44124e3a",
   "metadata": {},
   "outputs": [
    {
     "name": "stdout",
     "output_type": "stream",
     "text": [
      "Rows and Columns in Confirmed covid-19 cases: (276, 498)\n",
      "Rows and Columns in Deaths covid-19 cases: (277, 498)\n",
      "Rows and Columns in Recovered peoples covid-19 cases: (262, 498)\n",
      "\n",
      "Data type of Confirm Cases:\n",
      "Province/State     object\n",
      "Country/Region     object\n",
      "Lat               float64\n",
      "Long              float64\n",
      "1/22/20             int64\n",
      "                   ...   \n",
      "5/25/21             int64\n",
      "5/26/21             int64\n",
      "5/27/21             int64\n",
      "5/28/21             int64\n",
      "5/29/21             int64\n",
      "Length: 498, dtype: object\n",
      "\n",
      "Data type of Deaths Cases:\n",
      "Column1      object\n",
      "Column2      object\n",
      "Column3      object\n",
      "Column4      object\n",
      "Column5      object\n",
      "              ...  \n",
      "Column494    object\n",
      "Column495    object\n",
      "Column496    object\n",
      "Column497    object\n",
      "Column498    object\n",
      "Length: 498, dtype: object\n"
     ]
    }
   ],
   "source": [
    "## Row and Columns in the covid-19 datasets confirmed cases\n",
    "print(\"Rows and Columns in Confirmed covid-19 cases:\", confirm_cases.shape)\n",
    "\n",
    "## Row and Columns in the covid-19 datasets deaths cases\n",
    "print(\"Rows and Columns in Deaths covid-19 cases:\", deaths.shape)\n",
    "\n",
    "## Row and Columns in the covid-19 datasets recovered cases\n",
    "print(\"Rows and Columns in Recovered peoples covid-19 cases:\", recovered_people.shape)\n",
    "\n",
    "\n",
    "## Data Type of covid-19 confirm cases , deaths, and recovered peoples\n",
    "print(\"\\nData type of Confirm Cases:\")\n",
    "print(confirm_cases.dtypes)\n",
    "\n",
    "print(\"\\nData type of Deaths Cases:\")\n",
    "print(deaths.dtypes)\n",
    " \n",
    "\n",
    "\n",
    "\n"
   ]
  },
  {
   "cell_type": "code",
   "execution_count": null,
   "id": "6cc5499f",
   "metadata": {},
   "outputs": [],
   "source": []
  }
 ],
 "metadata": {
  "kernelspec": {
   "display_name": ".venv",
   "language": "python",
   "name": "python3"
  },
  "language_info": {
   "codemirror_mode": {
    "name": "ipython",
    "version": 3
   },
   "file_extension": ".py",
   "mimetype": "text/x-python",
   "name": "python",
   "nbconvert_exporter": "python",
   "pygments_lexer": "ipython3",
   "version": "3.13.1"
  }
 },
 "nbformat": 4,
 "nbformat_minor": 5
}
