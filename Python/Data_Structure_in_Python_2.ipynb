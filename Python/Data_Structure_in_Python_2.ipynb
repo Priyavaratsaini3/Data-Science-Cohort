{
  "nbformat": 4,
  "nbformat_minor": 0,
  "metadata": {
    "colab": {
      "provenance": []
    },
    "kernelspec": {
      "name": "python3",
      "display_name": "Python 3"
    },
    "language_info": {
      "name": "python"
    }
  },
  "cells": [
    {
      "cell_type": "markdown",
      "source": [
        "Tuple"
      ],
      "metadata": {
        "id": "TsQBNrMSoRcJ"
      }
    },
    {
      "cell_type": "code",
      "execution_count": null,
      "metadata": {
        "colab": {
          "base_uri": "https://localhost:8080/"
        },
        "id": "XE44PrJuoFVt",
        "outputId": "bbcf1ea4-1aa0-4205-eeff-45197f3902c5"
      },
      "outputs": [
        {
          "output_type": "execute_result",
          "data": {
            "text/plain": [
              "tuple"
            ]
          },
          "metadata": {},
          "execution_count": 1
        }
      ],
      "source": [
        "my_tuple = (1, 2, 3)\n",
        "type(my_tuple)"
      ]
    },
    {
      "cell_type": "markdown",
      "source": [
        "Initalization of tuple"
      ],
      "metadata": {
        "id": "n9nwv35QqAsX"
      }
    },
    {
      "cell_type": "code",
      "source": [
        "my_tuple[1]"
      ],
      "metadata": {
        "colab": {
          "base_uri": "https://localhost:8080/"
        },
        "id": "HDBRp48qobL-",
        "outputId": "6162005a-6bb7-40ee-df41-9f9c6c4b38b7"
      },
      "execution_count": null,
      "outputs": [
        {
          "output_type": "execute_result",
          "data": {
            "text/plain": [
              "2"
            ]
          },
          "metadata": {},
          "execution_count": 2
        }
      ]
    },
    {
      "cell_type": "markdown",
      "source": [
        "Access the elements and Slicing Operations"
      ],
      "metadata": {
        "id": "hgyeAWlwqFk4"
      }
    },
    {
      "cell_type": "code",
      "source": [
        "tuple1 = ('apple', 123, True, 3.14, [1, 2, 3])\n",
        "print(tuple1[-1][1])"
      ],
      "metadata": {
        "colab": {
          "base_uri": "https://localhost:8080/"
        },
        "id": "kh1JFAwVonl-",
        "outputId": "c1d9254c-e072-4784-cc6f-9c77e1bfae67"
      },
      "execution_count": null,
      "outputs": [
        {
          "output_type": "stream",
          "name": "stdout",
          "text": [
            "2\n"
          ]
        }
      ]
    },
    {
      "cell_type": "code",
      "source": [
        "print(tuple1[-1][-2])"
      ],
      "metadata": {
        "colab": {
          "base_uri": "https://localhost:8080/"
        },
        "id": "oRwVluOGrNU9",
        "outputId": "65cd4398-7ddb-49b0-942e-b7bb0858af8c"
      },
      "execution_count": null,
      "outputs": [
        {
          "output_type": "stream",
          "name": "stdout",
          "text": [
            "2\n"
          ]
        }
      ]
    },
    {
      "cell_type": "code",
      "source": [
        "print(tuple1[1:4])"
      ],
      "metadata": {
        "colab": {
          "base_uri": "https://localhost:8080/"
        },
        "id": "fqQMPximo5n9",
        "outputId": "c7f78b78-e97a-4295-a842-dd46aa42d87c"
      },
      "execution_count": null,
      "outputs": [
        {
          "output_type": "stream",
          "name": "stdout",
          "text": [
            "(123, True, 3.14)\n"
          ]
        }
      ]
    },
    {
      "cell_type": "code",
      "source": [
        "print(tuple1[:-1])"
      ],
      "metadata": {
        "colab": {
          "base_uri": "https://localhost:8080/"
        },
        "id": "6Ir9L47BpSDG",
        "outputId": "95a9c0cf-807f-4b86-9eea-cffc023e5be1"
      },
      "execution_count": null,
      "outputs": [
        {
          "output_type": "stream",
          "name": "stdout",
          "text": [
            "('apple', 123, True, 3.14)\n"
          ]
        }
      ]
    },
    {
      "cell_type": "code",
      "source": [
        "print(tuple1[::-1])"
      ],
      "metadata": {
        "colab": {
          "base_uri": "https://localhost:8080/"
        },
        "id": "jMnlbL1Epq4X",
        "outputId": "c042f2df-d4e4-40ee-b857-7e84194c949e"
      },
      "execution_count": null,
      "outputs": [
        {
          "output_type": "stream",
          "name": "stdout",
          "text": [
            "([1, 2, 3], 3.14, True, 123, 'apple')\n"
          ]
        }
      ]
    },
    {
      "cell_type": "markdown",
      "source": [
        "convert tuple into a list"
      ],
      "metadata": {
        "id": "LOiPha8jrtUi"
      }
    },
    {
      "cell_type": "code",
      "source": [
        "tuple2 = ('shubham', 'preeti', 'Rashmi', 'Ajay', 'Riya')\n",
        "list1 = list(tuple2)\n",
        "print(list1)"
      ],
      "metadata": {
        "colab": {
          "base_uri": "https://localhost:8080/"
        },
        "id": "lkZ6KcTxrxb0",
        "outputId": "6a068ade-022a-4286-dece-9302bc8d81f0"
      },
      "execution_count": null,
      "outputs": [
        {
          "output_type": "stream",
          "name": "stdout",
          "text": [
            "['shubham', 'preeti', 'Rashmi', 'Ajay', 'Riya']\n"
          ]
        }
      ]
    },
    {
      "cell_type": "code",
      "source": [
        "list1.extend([\"sushil\", \"jitender\", \"priya\"])\n",
        "print(list1)"
      ],
      "metadata": {
        "colab": {
          "base_uri": "https://localhost:8080/"
        },
        "id": "81jW2EhKsTQd",
        "outputId": "5e8ffa7c-0e8b-4f78-be59-fa6e574d4c30"
      },
      "execution_count": null,
      "outputs": [
        {
          "output_type": "stream",
          "name": "stdout",
          "text": [
            "['shubham', 'preeti', 'Rashmi', 'Ajay', 'Riya', 'sushil', 'jitender', 'priya', 'sushil', 'jitender', 'priya', 'sushil', 'jitender', 'priya']\n"
          ]
        }
      ]
    },
    {
      "cell_type": "code",
      "source": [
        "tuple2 = tuple(list1)\n",
        "print(tuple2)"
      ],
      "metadata": {
        "colab": {
          "base_uri": "https://localhost:8080/"
        },
        "id": "L6KdIs8XtqA0",
        "outputId": "be3e8931-0933-4b65-c36f-f08e70cd3746"
      },
      "execution_count": null,
      "outputs": [
        {
          "output_type": "stream",
          "name": "stdout",
          "text": [
            "('shubham', 'preeti', 'Rashmi', 'Ajay', 'Riya', 'sushil', 'jitender', 'priya', 'sushil', 'jitender', 'priya', 'sushil', 'jitender', 'priya')\n"
          ]
        }
      ]
    },
    {
      "cell_type": "markdown",
      "source": [
        "Built-in functions"
      ],
      "metadata": {
        "id": "yYO9Vx40qPd-"
      }
    },
    {
      "cell_type": "code",
      "source": [
        "min_element = min(my_tuple)\n",
        "max_element = max(my_tuple)\n",
        "print(min_element)\n",
        "print(max_element)"
      ],
      "metadata": {
        "colab": {
          "base_uri": "https://localhost:8080/"
        },
        "id": "disH5iqOp9Hs",
        "outputId": "094806c3-3e35-4dfb-9906-2caad325bacb"
      },
      "execution_count": null,
      "outputs": [
        {
          "output_type": "stream",
          "name": "stdout",
          "text": [
            "1\n",
            "3\n"
          ]
        }
      ]
    },
    {
      "cell_type": "code",
      "source": [
        "sum_element = sum(my_tuple)\n",
        "print(sum_element)"
      ],
      "metadata": {
        "colab": {
          "base_uri": "https://localhost:8080/"
        },
        "id": "Z76N7uwAq5wZ",
        "outputId": "5cdd50a1-ad44-4bc1-ac13-9bff262a26af"
      },
      "execution_count": null,
      "outputs": [
        {
          "output_type": "stream",
          "name": "stdout",
          "text": [
            "6\n"
          ]
        }
      ]
    },
    {
      "cell_type": "code",
      "source": [
        "tuple3 = (1, 2, 3, 4, 5, 6, 7, 2, 3, 4, 5, 6, 3)\n",
        "# frequency of any given element\n",
        "count_2 = tuple3.count(2)\n",
        "print(count_2)"
      ],
      "metadata": {
        "colab": {
          "base_uri": "https://localhost:8080/"
        },
        "id": "jBaAdKBTrpFM",
        "outputId": "9fa46d29-e965-43f3-ceee-c9e5e535027c"
      },
      "execution_count": null,
      "outputs": [
        {
          "output_type": "stream",
          "name": "stdout",
          "text": [
            "2\n"
          ]
        }
      ]
    },
    {
      "cell_type": "code",
      "source": [
        "pos = tuple3.index(2)\n",
        "print(pos)"
      ],
      "metadata": {
        "colab": {
          "base_uri": "https://localhost:8080/"
        },
        "id": "m9tSq1B1uH6U",
        "outputId": "45ed9be1-4465-49f2-e0e0-dae875ea2533"
      },
      "execution_count": null,
      "outputs": [
        {
          "output_type": "stream",
          "name": "stdout",
          "text": [
            "1\n"
          ]
        }
      ]
    },
    {
      "cell_type": "code",
      "source": [
        "pos = tuple3.index(20)\n",
        "print(pos)"
      ],
      "metadata": {
        "colab": {
          "base_uri": "https://localhost:8080/",
          "height": 158
        },
        "id": "Em8lXMCDucVA",
        "outputId": "50f9a9cc-4747-458c-9c77-7be0625e78e0"
      },
      "execution_count": null,
      "outputs": [
        {
          "output_type": "error",
          "ename": "ValueError",
          "evalue": "tuple.index(x): x not in tuple",
          "traceback": [
            "\u001b[0;31m---------------------------------------------------------------------------\u001b[0m",
            "\u001b[0;31mValueError\u001b[0m                                Traceback (most recent call last)",
            "\u001b[0;32m<ipython-input-26-cd817c109120>\u001b[0m in \u001b[0;36m<cell line: 0>\u001b[0;34m()\u001b[0m\n\u001b[0;32m----> 1\u001b[0;31m \u001b[0mpos\u001b[0m \u001b[0;34m=\u001b[0m \u001b[0mtuple3\u001b[0m\u001b[0;34m.\u001b[0m\u001b[0mindex\u001b[0m\u001b[0;34m(\u001b[0m\u001b[0;36m20\u001b[0m\u001b[0;34m)\u001b[0m\u001b[0;34m\u001b[0m\u001b[0;34m\u001b[0m\u001b[0m\n\u001b[0m\u001b[1;32m      2\u001b[0m \u001b[0mprint\u001b[0m\u001b[0;34m(\u001b[0m\u001b[0mpos\u001b[0m\u001b[0;34m)\u001b[0m\u001b[0;34m\u001b[0m\u001b[0;34m\u001b[0m\u001b[0m\n",
            "\u001b[0;31mValueError\u001b[0m: tuple.index(x): x not in tuple"
          ]
        }
      ]
    },
    {
      "cell_type": "code",
      "source": [
        "tup  = (1)\n",
        "list1 = [1]\n",
        "type(tup)"
      ],
      "metadata": {
        "colab": {
          "base_uri": "https://localhost:8080/"
        },
        "id": "hOf1FJi4unAH",
        "outputId": "e5421da4-8da9-4fe8-df0b-c9d723300976"
      },
      "execution_count": null,
      "outputs": [
        {
          "output_type": "execute_result",
          "data": {
            "text/plain": [
              "int"
            ]
          },
          "metadata": {},
          "execution_count": 28
        }
      ]
    },
    {
      "cell_type": "code",
      "source": [
        "tuple4 = (2, )\n",
        "print(tuple4)\n",
        "type(tuple4)"
      ],
      "metadata": {
        "colab": {
          "base_uri": "https://localhost:8080/"
        },
        "id": "Y9DVD2OAu0Y_",
        "outputId": "a6d6718e-f216-4f61-e66b-08160cb2edc5"
      },
      "execution_count": null,
      "outputs": [
        {
          "output_type": "stream",
          "name": "stdout",
          "text": [
            "(2,)\n"
          ]
        },
        {
          "output_type": "execute_result",
          "data": {
            "text/plain": [
              "tuple"
            ]
          },
          "metadata": {},
          "execution_count": 29
        }
      ]
    },
    {
      "cell_type": "code",
      "source": [
        "my_tuple"
      ],
      "metadata": {
        "colab": {
          "base_uri": "https://localhost:8080/"
        },
        "id": "P_xNG6AkvACc",
        "outputId": "d492070d-d5de-47f7-e14c-70c9df0db49e"
      },
      "execution_count": null,
      "outputs": [
        {
          "output_type": "execute_result",
          "data": {
            "text/plain": [
              "(1, 2, 3)"
            ]
          },
          "metadata": {},
          "execution_count": 30
        }
      ]
    },
    {
      "cell_type": "code",
      "source": [
        "a , b, c = my_tuple\n",
        "print(a)\n",
        "print(b)\n",
        "print(c)"
      ],
      "metadata": {
        "colab": {
          "base_uri": "https://localhost:8080/"
        },
        "id": "8Br85zM9vPjt",
        "outputId": "8addfe14-94c7-41f4-df76-da7977029be4"
      },
      "execution_count": null,
      "outputs": [
        {
          "output_type": "stream",
          "name": "stdout",
          "text": [
            "1\n",
            "2\n",
            "3\n"
          ]
        }
      ]
    },
    {
      "cell_type": "code",
      "source": [
        "my_tuple = (1, 2, 3, 4, 5, 6, 7)\n",
        "a, *b, c = my_tuple\n",
        "print(a)\n",
        "print(b)\n",
        "print(c)"
      ],
      "metadata": {
        "colab": {
          "base_uri": "https://localhost:8080/"
        },
        "id": "dgl6e9T_vTBC",
        "outputId": "4941036f-7132-44b8-bd8f-f83a42fc9822"
      },
      "execution_count": null,
      "outputs": [
        {
          "output_type": "stream",
          "name": "stdout",
          "text": [
            "1\n",
            "[2, 3, 4, 5, 6]\n",
            "7\n"
          ]
        }
      ]
    },
    {
      "cell_type": "code",
      "source": [
        "tuple1 = (1, 2, 3)\n",
        "tuple2 = ('A', 'B', 'C')\n",
        "tuple3 = tuple1 + tuple2\n",
        "print(tuple3)"
      ],
      "metadata": {
        "colab": {
          "base_uri": "https://localhost:8080/"
        },
        "id": "6teGAJkyvlSf",
        "outputId": "76f0f4cd-c128-427e-ec51-962e1b782cdc"
      },
      "execution_count": null,
      "outputs": [
        {
          "output_type": "stream",
          "name": "stdout",
          "text": [
            "(1, 2, 3, 'A', 'B', 'C')\n"
          ]
        }
      ]
    },
    {
      "cell_type": "code",
      "source": [
        "tuple1 = (1, 2, 3)\n",
        "tuple2 = 7\n",
        "combine = tuple1 + (tuple2)\n",
        "print(combine)"
      ],
      "metadata": {
        "colab": {
          "base_uri": "https://localhost:8080/",
          "height": 193
        },
        "id": "IYp96amLv-fe",
        "outputId": "f5c78afc-df7d-4e6d-8ff9-dfdb18c82532"
      },
      "execution_count": null,
      "outputs": [
        {
          "output_type": "error",
          "ename": "TypeError",
          "evalue": "can only concatenate tuple (not \"int\") to tuple",
          "traceback": [
            "\u001b[0;31m---------------------------------------------------------------------------\u001b[0m",
            "\u001b[0;31mTypeError\u001b[0m                                 Traceback (most recent call last)",
            "\u001b[0;32m<ipython-input-35-45971384521a>\u001b[0m in \u001b[0;36m<cell line: 0>\u001b[0;34m()\u001b[0m\n\u001b[1;32m      1\u001b[0m \u001b[0mtuple1\u001b[0m \u001b[0;34m=\u001b[0m \u001b[0;34m(\u001b[0m\u001b[0;36m1\u001b[0m\u001b[0;34m,\u001b[0m \u001b[0;36m2\u001b[0m\u001b[0;34m,\u001b[0m \u001b[0;36m3\u001b[0m\u001b[0;34m)\u001b[0m\u001b[0;34m\u001b[0m\u001b[0;34m\u001b[0m\u001b[0m\n\u001b[1;32m      2\u001b[0m \u001b[0mtuple2\u001b[0m \u001b[0;34m=\u001b[0m \u001b[0;36m7\u001b[0m\u001b[0;34m\u001b[0m\u001b[0;34m\u001b[0m\u001b[0m\n\u001b[0;32m----> 3\u001b[0;31m \u001b[0mcombine\u001b[0m \u001b[0;34m=\u001b[0m \u001b[0mtuple1\u001b[0m \u001b[0;34m+\u001b[0m \u001b[0;34m(\u001b[0m\u001b[0mtuple2\u001b[0m\u001b[0;34m)\u001b[0m\u001b[0;34m\u001b[0m\u001b[0;34m\u001b[0m\u001b[0m\n\u001b[0m\u001b[1;32m      4\u001b[0m \u001b[0mprint\u001b[0m\u001b[0;34m(\u001b[0m\u001b[0mcombine\u001b[0m\u001b[0;34m)\u001b[0m\u001b[0;34m\u001b[0m\u001b[0;34m\u001b[0m\u001b[0m\n",
            "\u001b[0;31mTypeError\u001b[0m: can only concatenate tuple (not \"int\") to tuple"
          ]
        }
      ]
    },
    {
      "cell_type": "code",
      "source": [
        "tuple1 = (1, 2, 3)\n",
        "tuple2 = (7,)\n",
        "combine = tuple1 + tuple2\n",
        "print(combine)"
      ],
      "metadata": {
        "colab": {
          "base_uri": "https://localhost:8080/"
        },
        "id": "YYlLjimwwHh9",
        "outputId": "d9543dfc-39b0-4c5b-8481-567a640d4083"
      },
      "execution_count": null,
      "outputs": [
        {
          "output_type": "stream",
          "name": "stdout",
          "text": [
            "(1, 2, 3, 7)\n"
          ]
        }
      ]
    },
    {
      "cell_type": "code",
      "source": [
        "## this is not tuple\n",
        "tuple2 = (7)\n",
        "type(tuple2)"
      ],
      "metadata": {
        "colab": {
          "base_uri": "https://localhost:8080/"
        },
        "id": "otDAJan0wRJn",
        "outputId": "b63ec77f-c646-44a5-81b8-6f32b54f5fff"
      },
      "execution_count": null,
      "outputs": [
        {
          "output_type": "execute_result",
          "data": {
            "text/plain": [
              "int"
            ]
          },
          "metadata": {},
          "execution_count": 37
        }
      ]
    },
    {
      "cell_type": "markdown",
      "source": [
        "Sets"
      ],
      "metadata": {
        "id": "1gEEQ4mwf_QW"
      }
    },
    {
      "cell_type": "code",
      "source": [
        "set1 = set() ## Empty set\n",
        "set2 = {1, 2, 3}\n",
        "set3 = {1 , \"One\", 3.4}"
      ],
      "metadata": {
        "id": "S8MFw0QUwmJs"
      },
      "execution_count": null,
      "outputs": []
    },
    {
      "cell_type": "code",
      "source": [
        "print(set3)"
      ],
      "metadata": {
        "colab": {
          "base_uri": "https://localhost:8080/"
        },
        "id": "JpgDvmm_h7WE",
        "outputId": "fdbfc9bb-6b60-4179-97da-38fd9d12fda8"
      },
      "execution_count": null,
      "outputs": [
        {
          "output_type": "stream",
          "name": "stdout",
          "text": [
            "{1, 3.4, 'One'}\n"
          ]
        }
      ]
    },
    {
      "cell_type": "code",
      "source": [
        "type(set3)"
      ],
      "metadata": {
        "colab": {
          "base_uri": "https://localhost:8080/"
        },
        "id": "pGvDxdV5iBEH",
        "outputId": "f4cf321d-cac0-4d66-f44a-0f979a4b354a"
      },
      "execution_count": null,
      "outputs": [
        {
          "output_type": "execute_result",
          "data": {
            "text/plain": [
              "set"
            ]
          },
          "metadata": {},
          "execution_count": 3
        }
      ]
    },
    {
      "cell_type": "code",
      "source": [
        "set4 = {1,2,3,4,5,3,2,2,3,4,5,6,}\n",
        "print(set4)"
      ],
      "metadata": {
        "colab": {
          "base_uri": "https://localhost:8080/"
        },
        "id": "Q3QnC3s8iD1q",
        "outputId": "e8be42bc-5ce5-4316-bc26-4413e1a52a25"
      },
      "execution_count": null,
      "outputs": [
        {
          "output_type": "stream",
          "name": "stdout",
          "text": [
            "{1, 2, 3, 4, 5, 6}\n"
          ]
        }
      ]
    },
    {
      "cell_type": "code",
      "source": [
        "single_element_set = {1}\n",
        "print(single_element_set)\n",
        "type(single_element_set)"
      ],
      "metadata": {
        "colab": {
          "base_uri": "https://localhost:8080/"
        },
        "id": "SxpsNaiSiJuH",
        "outputId": "35c7d4ff-3655-450b-dc57-c368ea6321eb"
      },
      "execution_count": null,
      "outputs": [
        {
          "output_type": "stream",
          "name": "stdout",
          "text": [
            "{1}\n"
          ]
        },
        {
          "output_type": "execute_result",
          "data": {
            "text/plain": [
              "set"
            ]
          },
          "metadata": {},
          "execution_count": 5
        }
      ]
    },
    {
      "cell_type": "code",
      "source": [
        "my_string = \"hello\"\n",
        "my_set = set(my_string)\n",
        "print(my_set)\n"
      ],
      "metadata": {
        "colab": {
          "base_uri": "https://localhost:8080/"
        },
        "id": "vj7IuRZ-iN-o",
        "outputId": "4c9e080d-0626-4675-8033-8f51752a60c4"
      },
      "execution_count": null,
      "outputs": [
        {
          "output_type": "stream",
          "name": "stdout",
          "text": [
            "{'l', 'e', 'h', 'o'}\n"
          ]
        }
      ]
    },
    {
      "cell_type": "code",
      "source": [
        "list1 =  [1]\n",
        "type(list1)"
      ],
      "metadata": {
        "colab": {
          "base_uri": "https://localhost:8080/"
        },
        "id": "heyu6f0fintw",
        "outputId": "46178786-d729-4633-8b31-ca13fe988c88"
      },
      "execution_count": null,
      "outputs": [
        {
          "output_type": "execute_result",
          "data": {
            "text/plain": [
              "list"
            ]
          },
          "metadata": {},
          "execution_count": 7
        }
      ]
    },
    {
      "cell_type": "code",
      "source": [
        "my_set = {['a', 'b', 'c']}\n",
        "print(my_set)"
      ],
      "metadata": {
        "colab": {
          "base_uri": "https://localhost:8080/",
          "height": 158
        },
        "id": "WvX0cngbjFvc",
        "outputId": "85fff7cd-3ac2-4f7c-ba8a-c1d1efa836e7"
      },
      "execution_count": null,
      "outputs": [
        {
          "output_type": "error",
          "ename": "TypeError",
          "evalue": "unhashable type: 'list'",
          "traceback": [
            "\u001b[0;31m---------------------------------------------------------------------------\u001b[0m",
            "\u001b[0;31mTypeError\u001b[0m                                 Traceback (most recent call last)",
            "\u001b[0;32m<ipython-input-10-e9cf43e5bee1>\u001b[0m in \u001b[0;36m<cell line: 0>\u001b[0;34m()\u001b[0m\n\u001b[0;32m----> 1\u001b[0;31m \u001b[0mmy_set\u001b[0m \u001b[0;34m=\u001b[0m \u001b[0;34m{\u001b[0m\u001b[0;34m[\u001b[0m\u001b[0;34m'a'\u001b[0m\u001b[0;34m,\u001b[0m \u001b[0;34m'b'\u001b[0m\u001b[0;34m,\u001b[0m \u001b[0;34m'c'\u001b[0m\u001b[0;34m]\u001b[0m\u001b[0;34m}\u001b[0m\u001b[0;34m\u001b[0m\u001b[0;34m\u001b[0m\u001b[0m\n\u001b[0m\u001b[1;32m      2\u001b[0m \u001b[0mprint\u001b[0m\u001b[0;34m(\u001b[0m\u001b[0mmy_set\u001b[0m\u001b[0;34m)\u001b[0m\u001b[0;34m\u001b[0m\u001b[0;34m\u001b[0m\u001b[0m\n",
            "\u001b[0;31mTypeError\u001b[0m: unhashable type: 'list'"
          ]
        }
      ]
    },
    {
      "cell_type": "code",
      "source": [
        "my_set = {'a', 'b', 'c'}\n",
        "print('a' in my_set)\n"
      ],
      "metadata": {
        "colab": {
          "base_uri": "https://localhost:8080/"
        },
        "id": "gxVbytXrjfwk",
        "outputId": "31ab9f23-6778-4952-8c28-0538a6ae513f"
      },
      "execution_count": null,
      "outputs": [
        {
          "output_type": "stream",
          "name": "stdout",
          "text": [
            "True\n"
          ]
        }
      ]
    },
    {
      "cell_type": "code",
      "source": [
        "len(my_set)"
      ],
      "metadata": {
        "colab": {
          "base_uri": "https://localhost:8080/"
        },
        "id": "yb-kZL6fj86G",
        "outputId": "8679a59a-e41c-44e7-8b46-2e65ce41bf64"
      },
      "execution_count": null,
      "outputs": [
        {
          "output_type": "execute_result",
          "data": {
            "text/plain": [
              "3"
            ]
          },
          "metadata": {},
          "execution_count": 14
        }
      ]
    },
    {
      "cell_type": "code",
      "source": [
        "my_tuple = tuple(my_set)\n",
        "print(my_tuple)\n"
      ],
      "metadata": {
        "colab": {
          "base_uri": "https://localhost:8080/"
        },
        "id": "01KsJfmDkhgk",
        "outputId": "8ece2c2d-da81-45f9-e6ea-5c179ac7eefb"
      },
      "execution_count": null,
      "outputs": [
        {
          "output_type": "stream",
          "name": "stdout",
          "text": [
            "('a', 'b', 'c')\n"
          ]
        }
      ]
    },
    {
      "cell_type": "markdown",
      "source": [
        "built-In funcitons"
      ],
      "metadata": {
        "id": "p0OGKEczlCLj"
      }
    },
    {
      "cell_type": "markdown",
      "source": [
        "min(), max(), sum()"
      ],
      "metadata": {
        "id": "em7Gj64ikWj5"
      }
    },
    {
      "cell_type": "code",
      "source": [
        "my_set = {1, 2, 3, 4, 5, 6, 7}\n",
        "my_set.add(9)"
      ],
      "metadata": {
        "id": "UVeyCYYUkUcZ"
      },
      "execution_count": null,
      "outputs": []
    },
    {
      "cell_type": "code",
      "source": [
        "print(my_set)"
      ],
      "metadata": {
        "colab": {
          "base_uri": "https://localhost:8080/"
        },
        "id": "D8KwatevlSHz",
        "outputId": "89e065dc-2cea-4c92-a81c-ece67fdb5661"
      },
      "execution_count": null,
      "outputs": [
        {
          "output_type": "stream",
          "name": "stdout",
          "text": [
            "{1, 2, 3, 4, 5, 6, 7, 9}\n"
          ]
        }
      ]
    },
    {
      "cell_type": "code",
      "source": [
        "my_set.update([8, 10, 2])\n",
        "print(my_set)"
      ],
      "metadata": {
        "colab": {
          "base_uri": "https://localhost:8080/"
        },
        "id": "D8cMN46glV0B",
        "outputId": "87a90852-c18c-4840-8bc4-3cb650223ab2"
      },
      "execution_count": null,
      "outputs": [
        {
          "output_type": "stream",
          "name": "stdout",
          "text": [
            "{1, 2, 3, 4, 5, 6, 7, 8, 9, 10}\n"
          ]
        }
      ]
    },
    {
      "cell_type": "code",
      "source": [
        "my_set_1 = {('a', 'b', 'c')}\n",
        "print(my_set_1)"
      ],
      "metadata": {
        "colab": {
          "base_uri": "https://localhost:8080/"
        },
        "id": "NK7iJuwsX_iR",
        "outputId": "9c29e291-d16a-4215-d41d-866a4440d5b5"
      },
      "execution_count": null,
      "outputs": [
        {
          "output_type": "stream",
          "name": "stdout",
          "text": [
            "{('a', 'b', 'c')}\n"
          ]
        }
      ]
    },
    {
      "cell_type": "markdown",
      "source": [
        "Join Sets"
      ],
      "metadata": {
        "id": "INWUw1ZnZRvL"
      }
    },
    {
      "cell_type": "markdown",
      "source": [
        "Union"
      ],
      "metadata": {
        "id": "RZSOdHn6Z0dT"
      }
    },
    {
      "cell_type": "code",
      "source": [
        "set1 = {1,2,3}\n",
        "set2 = {4,5,6}\n",
        "union_set = set1.union(set2) ## set2|set2\n",
        "print(union_set)"
      ],
      "metadata": {
        "colab": {
          "base_uri": "https://localhost:8080/"
        },
        "id": "yNBENyxGY3gl",
        "outputId": "a673a337-240d-42f7-f587-e6e7036f8e5f"
      },
      "execution_count": null,
      "outputs": [
        {
          "output_type": "stream",
          "name": "stdout",
          "text": [
            "{1, 2, 3, 4, 5, 6}\n"
          ]
        }
      ]
    },
    {
      "cell_type": "markdown",
      "source": [
        "Intersection"
      ],
      "metadata": {
        "id": "VV_-VvZxZ2Ci"
      }
    },
    {
      "cell_type": "code",
      "source": [
        "set1 = {1,2,3}\n",
        "set2 = {4,5,3}\n",
        "intersection_set = set1 & set2 ## set1.intersetion(set2)\n",
        "print(intersection_set)"
      ],
      "metadata": {
        "colab": {
          "base_uri": "https://localhost:8080/"
        },
        "id": "YovGxba2ZrOY",
        "outputId": "96d47940-eed8-4c7b-e0cc-78d25b4de2ff"
      },
      "execution_count": null,
      "outputs": [
        {
          "output_type": "stream",
          "name": "stdout",
          "text": [
            "{3}\n"
          ]
        }
      ]
    },
    {
      "cell_type": "markdown",
      "source": [
        "Difference"
      ],
      "metadata": {
        "id": "gUx80zUTaN-A"
      }
    },
    {
      "cell_type": "code",
      "source": [
        "set1 = {1,2,3}\n",
        "set2 = {4,5,3}\n",
        "difference_set = set1 - set2 ## set1.difference(set2)\n",
        "print(difference_set)"
      ],
      "metadata": {
        "colab": {
          "base_uri": "https://localhost:8080/"
        },
        "id": "LTp2X4ZIaC0W",
        "outputId": "12c869a4-ef04-4714-9c82-5c5d34f2a61a"
      },
      "execution_count": null,
      "outputs": [
        {
          "output_type": "stream",
          "name": "stdout",
          "text": [
            "{1, 2}\n"
          ]
        }
      ]
    },
    {
      "cell_type": "markdown",
      "source": [
        "Symmetric difference"
      ],
      "metadata": {
        "id": "YhrjM3wiabEg"
      }
    },
    {
      "cell_type": "code",
      "source": [
        "set1 = {1,2,3}\n",
        "set2 = {3,5,6}\n",
        "symmetric_difference = set1.symmetric_difference(set2) ## set1 ^ set2\n",
        "print(symmetric_difference)"
      ],
      "metadata": {
        "colab": {
          "base_uri": "https://localhost:8080/"
        },
        "id": "OeBhilkNaXVb",
        "outputId": "f34b71b0-3c4c-4b0a-b088-abe5ad4e9451"
      },
      "execution_count": null,
      "outputs": [
        {
          "output_type": "stream",
          "name": "stdout",
          "text": [
            "{1, 2, 5, 6}\n"
          ]
        }
      ]
    },
    {
      "cell_type": "markdown",
      "source": [
        "Task : to explore and give me the difference between the above methods vs the _update() methods in the set.\n",
        "\n",
        "difference_update()\n",
        "\n",
        "intersection_update() and so on"
      ],
      "metadata": {
        "id": "dNPNhiH5pJWr"
      }
    },
    {
      "cell_type": "markdown",
      "source": [
        "Task : Merge the below two tuples and then remove the duplicates values and return the final output as a tuple.\n",
        "\n",
        "\n",
        "tup1 = (1,2,3 )\n",
        "tup2 = (3, 4, 5)"
      ],
      "metadata": {
        "id": "j9U_mzJgqhN5"
      }
    },
    {
      "cell_type": "code",
      "source": [
        "tup1 = (1,2,3)\n",
        "tup2 = (3,4,5)\n",
        "set1 = set(tup1)\n",
        "set2 = set(tup2)\n",
        "set3 = set1|set2\n",
        "tup3 = tuple(set3)\n",
        "print(tup3)\n"
      ],
      "metadata": {
        "id": "noRz-BoKatof",
        "colab": {
          "base_uri": "https://localhost:8080/"
        },
        "outputId": "91ef034f-21ef-4ac7-9522-feff7f11d99d"
      },
      "execution_count": null,
      "outputs": [
        {
          "output_type": "stream",
          "name": "stdout",
          "text": [
            "(1, 2, 3, 4, 5)\n"
          ]
        }
      ]
    },
    {
      "cell_type": "code",
      "source": [
        "#function define\n",
        "def merge_and_remove_duplicates(tup1, tup2):\n",
        "  return tuple(set(tup1) | set(tup2))\n",
        "\n",
        "# driver code\n",
        "tup1 = (1, 2, 3)\n",
        "tup2 = (3, 4, 5)\n",
        "\n",
        "# function calling\n",
        "print(merge_and_remove_duplicates(tup1, tup2))"
      ],
      "metadata": {
        "colab": {
          "base_uri": "https://localhost:8080/"
        },
        "id": "Ypi228JPrgyY",
        "outputId": "87abf9c2-3aad-4dec-944c-b2db20151884"
      },
      "execution_count": null,
      "outputs": [
        {
          "output_type": "stream",
          "name": "stdout",
          "text": [
            "(1, 2, 3, 4, 5)\n"
          ]
        }
      ]
    },
    {
      "cell_type": "markdown",
      "source": [
        "Dictionaries in Python"
      ],
      "metadata": {
        "id": "u-urITz4v_xm"
      }
    },
    {
      "cell_type": "code",
      "source": [
        "my_dict = {\"name\": \"priyavart\" , \"age\": 23, \"city\": \"delhi\"}\n",
        "print(my_dict)"
      ],
      "metadata": {
        "colab": {
          "base_uri": "https://localhost:8080/"
        },
        "id": "DjiidYNMu_Pv",
        "outputId": "39dd0a9a-dd90-4980-a380-07d4148d2083"
      },
      "execution_count": null,
      "outputs": [
        {
          "output_type": "stream",
          "name": "stdout",
          "text": [
            "{'name': 'priyavart', 'age': 23, 'city': 'delhi'}\n"
          ]
        }
      ]
    },
    {
      "cell_type": "code",
      "source": [
        "my_dict[\"name\"]"
      ],
      "metadata": {
        "colab": {
          "base_uri": "https://localhost:8080/",
          "height": 36
        },
        "id": "jongKTaHxtKZ",
        "outputId": "b52f8570-dde5-49a8-c767-d484410ae577"
      },
      "execution_count": null,
      "outputs": [
        {
          "output_type": "execute_result",
          "data": {
            "text/plain": [
              "'priyavart'"
            ],
            "application/vnd.google.colaboratory.intrinsic+json": {
              "type": "string"
            }
          },
          "metadata": {},
          "execution_count": 19
        }
      ]
    },
    {
      "cell_type": "code",
      "source": [
        "scores = {'alice': 85, 'bob': 92, 'charlie': 78}\n",
        "print(scores)"
      ],
      "metadata": {
        "colab": {
          "base_uri": "https://localhost:8080/"
        },
        "id": "ugGg5Q4Bxwy1",
        "outputId": "f4011cfc-bf3a-4295-d779-930ba8257fa0"
      },
      "execution_count": null,
      "outputs": [
        {
          "output_type": "stream",
          "name": "stdout",
          "text": [
            "{'alice': 85, 'bob': 92, 'charlie': 78}\n"
          ]
        }
      ]
    },
    {
      "cell_type": "code",
      "source": [
        "scores['charlie']"
      ],
      "metadata": {
        "colab": {
          "base_uri": "https://localhost:8080/"
        },
        "id": "oKVCyeI6ye4T",
        "outputId": "44cbd78c-93a1-4780-80fd-52a3dedbf978"
      },
      "execution_count": null,
      "outputs": [
        {
          "output_type": "execute_result",
          "data": {
            "text/plain": [
              "78"
            ]
          },
          "metadata": {},
          "execution_count": 24
        }
      ]
    },
    {
      "cell_type": "markdown",
      "source": [
        "Built-in methods"
      ],
      "metadata": {
        "id": "8UMte3cyy0J0"
      }
    },
    {
      "cell_type": "code",
      "source": [
        "print(my_dict.keys())"
      ],
      "metadata": {
        "colab": {
          "base_uri": "https://localhost:8080/"
        },
        "id": "Ycf6QFNZylBm",
        "outputId": "58d163bd-4572-4ca9-d6c9-b519f28faa90"
      },
      "execution_count": null,
      "outputs": [
        {
          "output_type": "stream",
          "name": "stdout",
          "text": [
            "dict_keys(['name', 'age', 'city'])\n"
          ]
        }
      ]
    },
    {
      "cell_type": "code",
      "source": [
        "print(my_dict.values())"
      ],
      "metadata": {
        "colab": {
          "base_uri": "https://localhost:8080/"
        },
        "id": "q53cPqKEy7at",
        "outputId": "d2e55309-c36b-4ea2-dae6-55c5f992dc9d"
      },
      "execution_count": null,
      "outputs": [
        {
          "output_type": "stream",
          "name": "stdout",
          "text": [
            "dict_values(['priyavart', 23, 'delhi'])\n"
          ]
        }
      ]
    },
    {
      "cell_type": "code",
      "source": [
        "print(my_dict.items())"
      ],
      "metadata": {
        "colab": {
          "base_uri": "https://localhost:8080/"
        },
        "id": "0PEBYO--y-jP",
        "outputId": "6dfc5cb4-7501-4020-e801-68c2bcdb8cc5"
      },
      "execution_count": null,
      "outputs": [
        {
          "output_type": "stream",
          "name": "stdout",
          "text": [
            "dict_items([('name', 'priyavart'), ('age', 23), ('city', 'delhi')])\n"
          ]
        }
      ]
    },
    {
      "cell_type": "code",
      "source": [
        "min_score = min(scores.values())\n",
        "print(min_score)"
      ],
      "metadata": {
        "colab": {
          "base_uri": "https://localhost:8080/"
        },
        "id": "bnRvzojzzC3Q",
        "outputId": "417b57b0-409a-41c9-bc93-b0106944d64f"
      },
      "execution_count": null,
      "outputs": [
        {
          "output_type": "stream",
          "name": "stdout",
          "text": [
            "78\n"
          ]
        }
      ]
    },
    {
      "cell_type": "code",
      "source": [
        "my_dict"
      ],
      "metadata": {
        "colab": {
          "base_uri": "https://localhost:8080/"
        },
        "id": "tZSbMFKNzaPr",
        "outputId": "42eed69c-3a11-4288-8a6e-8f639a259279"
      },
      "execution_count": null,
      "outputs": [
        {
          "output_type": "execute_result",
          "data": {
            "text/plain": [
              "{'name': 'priyavart', 'age': 23, 'city': 'delhi'}"
            ]
          },
          "metadata": {},
          "execution_count": 29
        }
      ]
    },
    {
      "cell_type": "code",
      "source": [
        "my_dict['salarry'] = '500000000000000000000000000000000000'\n",
        "print(my_dict)"
      ],
      "metadata": {
        "colab": {
          "base_uri": "https://localhost:8080/"
        },
        "id": "lZybyokjzyWl",
        "outputId": "6f2b9276-d45d-4445-fbde-79642702f08e"
      },
      "execution_count": null,
      "outputs": [
        {
          "output_type": "stream",
          "name": "stdout",
          "text": [
            "{'name': 'priyavart', 'age': 23, 'city': 'delhi', 'salarry': '500000000000000000000000000000000000'}\n"
          ]
        }
      ]
    },
    {
      "cell_type": "code",
      "source": [
        "my_dict.update({'age' : 20})\n",
        "print(my_dict)"
      ],
      "metadata": {
        "colab": {
          "base_uri": "https://localhost:8080/"
        },
        "id": "YwSa_glGz-7j",
        "outputId": "4b072819-7cec-475e-cb26-e60d15b99bcd"
      },
      "execution_count": null,
      "outputs": [
        {
          "output_type": "stream",
          "name": "stdout",
          "text": [
            "{'name': 'priyavart', 'age': 20, 'city': 'delhi', 'salarry': '500000000000000000000000000000000000'}\n"
          ]
        }
      ]
    },
    {
      "cell_type": "code",
      "source": [
        "del my_dict['age']\n",
        "print(my_dict)"
      ],
      "metadata": {
        "colab": {
          "base_uri": "https://localhost:8080/"
        },
        "id": "oDnVhUQ90i7B",
        "outputId": "2bf35131-f44b-4f71-aac9-c5c9acc251e7"
      },
      "execution_count": null,
      "outputs": [
        {
          "output_type": "stream",
          "name": "stdout",
          "text": [
            "{'name': 'priyavart', 'city': 'delhi', 'salarry': '500000000000000000000000000000000000'}\n"
          ]
        }
      ]
    },
    {
      "cell_type": "markdown",
      "source": [
        "Task:Check if all the elements in the list are unique or not\n",
        "\n",
        "list1 = [1,2,3,4,2]\n",
        "\n",
        "output : False"
      ],
      "metadata": {
        "id": "BcFu8kOU1SAr"
      }
    },
    {
      "cell_type": "code",
      "source": [
        "#funtion define\n",
        "def all_unique(list1):\n",
        "  return len(list1) == len(set(list1))\n",
        "\n",
        "list1 = [1,2,3,4,2]\n",
        "\n",
        "#funtion calling\n",
        "print(all_unique(list1))\n"
      ],
      "metadata": {
        "colab": {
          "base_uri": "https://localhost:8080/"
        },
        "id": "96aCLFJI0r11",
        "outputId": "0b797ee1-a167-4399-b6d2-d0999e29546e"
      },
      "execution_count": null,
      "outputs": [
        {
          "output_type": "stream",
          "name": "stdout",
          "text": [
            "False\n"
          ]
        }
      ]
    },
    {
      "cell_type": "markdown",
      "source": [
        "Task: count of occurence of each element a list.\n",
        "\n",
        "lst = ['a', 'b' , 'c', 'c', 'a']\n",
        "output:  {'a':3, 'b':2, 'c':1}"
      ],
      "metadata": {
        "id": "y-p2QkOY1-ft"
      }
    },
    {
      "cell_type": "code",
      "source": [
        "lst = ['a', 'b' , 'c', 'c', 'a', 'a']\n",
        "\n",
        "output = {}\n",
        "\n",
        "for item in lst:\n",
        "  if item in output:\n",
        "    output[item] += 1\n",
        "  else:\n",
        "    output[item] = 1\n",
        "\n",
        "print(output)"
      ],
      "metadata": {
        "colab": {
          "base_uri": "https://localhost:8080/"
        },
        "id": "JXcrpSzG12fo",
        "outputId": "a54c85e5-a333-4f56-d1a1-c761f2cdd57c"
      },
      "execution_count": null,
      "outputs": [
        {
          "output_type": "stream",
          "name": "stdout",
          "text": [
            "{'a': 3, 'b': 1, 'c': 2}\n"
          ]
        }
      ]
    },
    {
      "cell_type": "code",
      "source": [
        "dict =  {'a':1,'b':2,'c':3}\n",
        "swap = {value : key for key, value in dict.items()}\n",
        "print(swap)"
      ],
      "metadata": {
        "id": "Fw1BE2-73Ljv",
        "colab": {
          "base_uri": "https://localhost:8080/"
        },
        "outputId": "3f08e6c9-99c7-4c01-ac03-925211be0153"
      },
      "execution_count": 6,
      "outputs": [
        {
          "output_type": "stream",
          "name": "stdout",
          "text": [
            "{1: 'a', 2: 'b', 3: 'c'}\n"
          ]
        }
      ]
    },
    {
      "cell_type": "code",
      "source": [],
      "metadata": {
        "id": "Sm4B2_ns_zzR"
      },
      "execution_count": null,
      "outputs": []
    }
  ]
}