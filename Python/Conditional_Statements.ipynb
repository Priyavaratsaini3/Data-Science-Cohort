{
  "nbformat": 4,
  "nbformat_minor": 0,
  "metadata": {
    "colab": {
      "provenance": []
    },
    "kernelspec": {
      "name": "python3",
      "display_name": "Python 3"
    },
    "language_info": {
      "name": "python"
    }
  },
  "cells": [
    {
      "cell_type": "markdown",
      "source": [
        "Conditonal Statements\n"
      ],
      "metadata": {
        "id": "0z6YUx_faBWG"
      }
    },
    {
      "cell_type": "code",
      "source": [
        "x = -10\n",
        "if x > 0:\n",
        "  print('x is positive')\n",
        "else:\n",
        "  print(\"x is not positive\")"
      ],
      "metadata": {
        "colab": {
          "base_uri": "https://localhost:8080/"
        },
        "id": "F6lrE6dDaJE8",
        "outputId": "f5ecf97d-c651-4895-92cc-0ee63c4ea885"
      },
      "execution_count": null,
      "outputs": [
        {
          "output_type": "stream",
          "name": "stdout",
          "text": [
            "x is not positive\n"
          ]
        }
      ]
    },
    {
      "cell_type": "code",
      "source": [
        "x = 100\n",
        "\n",
        "if x > 0:\n",
        "  print(\"x is positive\")\n",
        "\n",
        "print(\"This is outside the if block\")"
      ],
      "metadata": {
        "colab": {
          "base_uri": "https://localhost:8080/"
        },
        "id": "QO1W3YsPamxB",
        "outputId": "f4eebe67-ad60-45a8-9453-b5445ea75648"
      },
      "execution_count": null,
      "outputs": [
        {
          "output_type": "stream",
          "name": "stdout",
          "text": [
            "x is positive\n",
            "This is outside the if block\n"
          ]
        }
      ]
    },
    {
      "cell_type": "markdown",
      "source": [
        "Given a number , verify that the number  is a multiple of 2 or not"
      ],
      "metadata": {
        "id": "8tvcHX4FbiNr"
      }
    },
    {
      "cell_type": "code",
      "source": [
        "num = int(input(\"Enter the number:\"))\n",
        "\n",
        "## condition to check whether a number is a multiple of 2 or not\n",
        "if num % 2 == 0:\n",
        "  print(\"The number is a multiple of 2\")\n",
        "else:\n",
        "  print(\"The number is not a multiple of 2\")"
      ],
      "metadata": {
        "colab": {
          "base_uri": "https://localhost:8080/"
        },
        "id": "iNOcGMx6btVG",
        "outputId": "5c3845da-0fe1-41f2-9bad-84d33f4dc7ca"
      },
      "execution_count": null,
      "outputs": [
        {
          "output_type": "stream",
          "name": "stdout",
          "text": [
            "Enter the number:33\n",
            "The number is not a multiple of 2\n"
          ]
        }
      ]
    },
    {
      "cell_type": "code",
      "source": [
        "my_dict = {'a': 1, 'b':2, 'c':3}\n",
        "\n",
        "## key to check\n",
        "key_to_check = 'b'\n",
        "if key_to_check in my_dict:\n",
        "  print(\"Key is present in the dictionary\")\n",
        "else:\n",
        "  print(\"Key is not present in the dictionary\")"
      ],
      "metadata": {
        "colab": {
          "base_uri": "https://localhost:8080/"
        },
        "id": "vzPsWTlycYTL",
        "outputId": "228c5c60-48fa-477c-87aa-f28604a2ea4c"
      },
      "execution_count": null,
      "outputs": [
        {
          "output_type": "stream",
          "name": "stdout",
          "text": [
            "Key is present in the dictionary\n"
          ]
        }
      ]
    },
    {
      "cell_type": "code",
      "execution_count": null,
      "metadata": {
        "colab": {
          "base_uri": "https://localhost:8080/"
        },
        "id": "iOm-liETxzef",
        "outputId": "9c45ebaf-aafb-430b-e5c6-50ce50a2c705"
      },
      "outputs": [
        {
          "output_type": "stream",
          "name": "stdout",
          "text": [
            "a is greater than b and c\n"
          ]
        }
      ],
      "source": [
        "a = 10\n",
        "b = 5\n",
        "c = 8\n",
        "\n",
        "if a > b and a > c:\n",
        "  print('a is greater than b and c')\n",
        "elif b > a and b > c:\n",
        "  print('b is greater than a and c')\n",
        "elif c > a and c > b:\n",
        "  print('c is greater than a and b')\n",
        "else:\n",
        "  print('None of the above conditions are met')"
      ]
    },
    {
      "cell_type": "markdown",
      "source": [
        "Nested Conditional Statement\n"
      ],
      "metadata": {
        "id": "6BLcDDNS6zy2"
      }
    },
    {
      "cell_type": "code",
      "source": [
        "x = 10\n",
        "y = 5\n",
        "\n",
        "if x > 0:\n",
        "  print('x is positive')\n",
        "  if y > 0: # nested if\n",
        "    print('y is positive')"
      ],
      "metadata": {
        "colab": {
          "base_uri": "https://localhost:8080/"
        },
        "id": "LjGGWxor55HF",
        "outputId": "91744816-694e-481f-d561-f91845d0ff8e"
      },
      "execution_count": null,
      "outputs": [
        {
          "output_type": "stream",
          "name": "stdout",
          "text": [
            "x is positive\n",
            "y is positive\n"
          ]
        }
      ]
    },
    {
      "cell_type": "code",
      "source": [
        "x = -10\n",
        "y = 5\n",
        "# the below if conditions are independent to each other\n",
        "if x > 0:\n",
        "  print('x is positive')\n",
        "if  y > 0:\n",
        "  print(\"y is positive\")\n"
      ],
      "metadata": {
        "colab": {
          "base_uri": "https://localhost:8080/"
        },
        "id": "8QyFFwoc7MAD",
        "outputId": "a8c6f11f-d723-423a-9d82-3d280c0c5de3"
      },
      "execution_count": null,
      "outputs": [
        {
          "output_type": "stream",
          "name": "stdout",
          "text": [
            "y is positive\n"
          ]
        }
      ]
    },
    {
      "cell_type": "code",
      "source": [
        "age =  25\n",
        "income = 500000\n",
        "\n",
        "if age >= 18:\n",
        "  print(\"you are eligible to vote\")\n",
        "  if income >= 300000:\n",
        "    print(\"you are eligible to apply for a credit card\")\n",
        "  elif income >= 200000:\n",
        "    print(\"you are eligible to apply for a personal loan\")\n",
        "  else:\n",
        "    print(\"you are not eligible open a savings account\")\n",
        "else:\n",
        "  print(\"you are not eligible to vote\")"
      ],
      "metadata": {
        "colab": {
          "base_uri": "https://localhost:8080/"
        },
        "id": "kLHXhMrK76qI",
        "outputId": "47072100-c316-4f8c-f223-d5addbf4f68b"
      },
      "execution_count": null,
      "outputs": [
        {
          "output_type": "stream",
          "name": "stdout",
          "text": [
            "you are eligible to vote\n",
            "you are eligible to apply for a credit card\n"
          ]
        }
      ]
    },
    {
      "cell_type": "markdown",
      "source": [
        "shorthand if statement"
      ],
      "metadata": {
        "id": "clnOsRPjiC1W"
      }
    },
    {
      "cell_type": "code",
      "source": [
        "age = 25\n",
        "if age >= 18: print(\"You are eligible for vote\")"
      ],
      "metadata": {
        "colab": {
          "base_uri": "https://localhost:8080/"
        },
        "id": "byhdNVlBiNSn",
        "outputId": "4a4d5fde-97a2-4fa6-cd66-deef0b99158b"
      },
      "execution_count": null,
      "outputs": [
        {
          "output_type": "stream",
          "name": "stdout",
          "text": [
            "You are eligible for vote\n"
          ]
        }
      ]
    },
    {
      "cell_type": "code",
      "source": [
        "text = \"hello python\"\n",
        "contains_words = True if \"python\" in text else False\n",
        "print(contains_words)"
      ],
      "metadata": {
        "colab": {
          "base_uri": "https://localhost:8080/"
        },
        "id": "DLxtEw4N8tHF",
        "outputId": "151ba939-3237-4da5-ab1c-1911e565f271"
      },
      "execution_count": null,
      "outputs": [
        {
          "output_type": "stream",
          "name": "stdout",
          "text": [
            "True\n"
          ]
        }
      ]
    },
    {
      "cell_type": "code",
      "source": [
        "def multiple_of_2(num):\n",
        "  if(num%2 == 0):\n",
        "    return (\"Multiple of two\")\n",
        "  else:\n",
        "    return (\"Not a  multiple of 2\")\n",
        "  num = int(input(\"Enter a number: \"))\n",
        "  print(multiple_of_2(num))"
      ],
      "metadata": {
        "id": "25fjvB2m-0AP"
      },
      "execution_count": null,
      "outputs": []
    },
    {
      "cell_type": "code",
      "source": [
        "score = 75\n",
        "\n",
        "grade = 'A' if score >= 90 else('B' if score >= 80 else('C' if score >= 70 else 'D'))\n",
        "print(grade)\n"
      ],
      "metadata": {
        "id": "dFsZdBXi_pbR",
        "colab": {
          "base_uri": "https://localhost:8080/"
        },
        "outputId": "c622baef-e43f-4faa-e9cb-656413ed2d0f"
      },
      "execution_count": null,
      "outputs": [
        {
          "output_type": "stream",
          "name": "stdout",
          "text": [
            "C\n"
          ]
        }
      ]
    },
    {
      "cell_type": "markdown",
      "source": [
        "write a program to take three side lengths and prints whether the triangle is equilateral, isosceles, or scalene"
      ],
      "metadata": {
        "id": "wY2BT3YMkGcW"
      }
    },
    {
      "cell_type": "code",
      "source": [
        "side1 = int(input(\"Enter the value of side 1 :\"))\n",
        "side2 = int(input(\"Enter the value of side 2 :\"))\n",
        "side3 = int(input(\"Enter the value of side 3 :\"))\n",
        "\n",
        "if (side1 == side2 == side3):\n",
        "  print(\"Equilateral Triangle\")\n",
        "elif (side1 == side2 or side2 == side3 or side3 == side1  ):\n",
        "  print(\"Isosceles Triangle\")\n",
        "else:\n",
        "  print(\"Scalene Triangle\")"
      ],
      "metadata": {
        "colab": {
          "base_uri": "https://localhost:8080/"
        },
        "id": "dErKzdCQjizq",
        "outputId": "d9c743c5-7b52-4d32-bf05-8753f314582f"
      },
      "execution_count": null,
      "outputs": [
        {
          "output_type": "stream",
          "name": "stdout",
          "text": [
            "Enter the value of side 1 :4\n",
            "Enter the value of side 2 :4\n",
            "Enter the value of side 3 :5\n",
            "Isosceles Triangle\n"
          ]
        }
      ]
    },
    {
      "cell_type": "code",
      "source": [
        "a = int(input())\n",
        "b = int(input())\n",
        "c = int(input())\n",
        "\n",
        "ans = \"Equilateral\" if a == b == c else(\"Isosceles\" if a == b or a == c or b == c else \"Scalene\")\n",
        "print(ans)"
      ],
      "metadata": {
        "colab": {
          "base_uri": "https://localhost:8080/"
        },
        "id": "8fjqQ8pyleWe",
        "outputId": "bbdc477c-fdb6-42e7-c6c1-3c3250251a6b"
      },
      "execution_count": null,
      "outputs": [
        {
          "output_type": "stream",
          "name": "stdout",
          "text": [
            "3\n",
            "3\n",
            "4\n",
            "Isosceles\n"
          ]
        }
      ]
    },
    {
      "cell_type": "markdown",
      "source": [
        "Write a program that prints \"Fizz\" if a number is divisible by 3, \"Buzz\" if divisible 5, \"FizzBuzz\" if divisible by both , or the number itself otherwise.:\n"
      ],
      "metadata": {
        "id": "sWkqButGLGjW"
      }
    },
    {
      "cell_type": "code",
      "source": [
        "num = int(input(\"Enter the number: \"))\n",
        "\n",
        "if num % 3 == 0 and num % 5 == 0:\n",
        "  print(\"FizzBuzz\")\n",
        "elif num % 3 == 0:\n",
        "  print(\"Fizz\")\n",
        "elif num % 5 == 0:\n",
        "   print(\"Buzz\")\n",
        "else:\n",
        "  print(num)"
      ],
      "metadata": {
        "colab": {
          "base_uri": "https://localhost:8080/"
        },
        "id": "C8DJjWq6mYlA",
        "outputId": "f39919f3-4d19-452c-d1ac-73921eadfa63"
      },
      "execution_count": null,
      "outputs": [
        {
          "output_type": "stream",
          "name": "stdout",
          "text": [
            "Enter the number: 77\n",
            "77\n"
          ]
        }
      ]
    },
    {
      "cell_type": "code",
      "source": [
        "n = int(input(\"Enter a number: \"))\n",
        "ans = \"Fizzbuzz\" if n % 3 == 0 and n % 5 == 0 else(\"Fizz\" if n % 3 == 0 else (\"Buzz\" if n % 5 == 0 else n))\n",
        "print(ans)\n"
      ],
      "metadata": {
        "colab": {
          "base_uri": "https://localhost:8080/"
        },
        "id": "9siKXT_-MyMD",
        "outputId": "2010f486-2588-4818-a3e2-5b877507d13f"
      },
      "execution_count": null,
      "outputs": [
        {
          "output_type": "stream",
          "name": "stdout",
          "text": [
            "Enter a number: 15\n",
            "Fizzbuzz\n"
          ]
        }
      ]
    },
    {
      "cell_type": "markdown",
      "source": [
        "Write a program that checks if a given string is a palindrome (reads the same backward)."
      ],
      "metadata": {
        "id": "dv9UqEwxPg5L"
      }
    },
    {
      "cell_type": "code",
      "source": [
        "a = input(\"Enter a string: \")\n",
        "\n",
        "if a == a[::-1]:\n",
        "  print(\"Palindrome\")\n",
        "else:\n",
        "  print(\"Not a Palindrome\")"
      ],
      "metadata": {
        "colab": {
          "base_uri": "https://localhost:8080/"
        },
        "id": "NvirS_aPOt9Q",
        "outputId": "2562cc1f-d297-4431-cc7d-2a29fc460e31"
      },
      "execution_count": null,
      "outputs": [
        {
          "output_type": "stream",
          "name": "stdout",
          "text": [
            "Enter a string: nitin\n",
            "Palindrome\n"
          ]
        }
      ]
    },
    {
      "cell_type": "code",
      "source": [
        "x = \"Hello world\"\n",
        "print(x)\n",
        "print(x)\n",
        "print(x)\n",
        "print(x)\n",
        "print(x)\n",
        "print(x)\n",
        "print(x)\n",
        "print(x)\n",
        "print(x)\n",
        "print(x)\n",
        "print(x)\n",
        "print(x)\n",
        "print(x)\n",
        "print(x)\n",
        "print(x)\n",
        "print(x)\n",
        "print(x)\n",
        "print(x)\n",
        "print(x)\n",
        "print(x)\n",
        "print(x)\n",
        "print(x)\n",
        "print(x)\n",
        "print(x)\n",
        "print(x)\n",
        "print(x)"
      ],
      "metadata": {
        "colab": {
          "base_uri": "https://localhost:8080/"
        },
        "id": "Yvw8Q2c7QBAZ",
        "outputId": "1270ace3-f55d-486f-c0ca-d38ed5def1c1"
      },
      "execution_count": null,
      "outputs": [
        {
          "output_type": "stream",
          "name": "stdout",
          "text": [
            "Hello world\n",
            "Hello world\n",
            "Hello world\n",
            "Hello world\n",
            "Hello world\n",
            "Hello world\n",
            "Hello world\n",
            "Hello world\n",
            "Hello world\n",
            "Hello world\n",
            "Hello world\n",
            "Hello world\n",
            "Hello world\n",
            "Hello world\n",
            "Hello world\n",
            "Hello world\n",
            "Hello world\n",
            "Hello world\n",
            "Hello world\n",
            "Hello world\n",
            "Hello world\n",
            "Hello world\n",
            "Hello world\n",
            "Hello world\n",
            "Hello world\n",
            "Hello world\n"
          ]
        }
      ]
    },
    {
      "cell_type": "code",
      "source": [
        "fruits = ['apple', 'banana', 'cherry']\n",
        "for fruit in fruits:\n",
        "  print(fruit)"
      ],
      "metadata": {
        "colab": {
          "base_uri": "https://localhost:8080/"
        },
        "id": "06kLbw4pTbbx",
        "outputId": "0c0aabac-2132-4d05-efa5-f1ec9ad1d862"
      },
      "execution_count": null,
      "outputs": [
        {
          "output_type": "stream",
          "name": "stdout",
          "text": [
            "apple\n",
            "banana\n",
            "cherry\n"
          ]
        }
      ]
    },
    {
      "cell_type": "code",
      "source": [
        "number = [1, 2, 3, 4, 5, 6, 7, 8, 9, 10]\n",
        "for num in number:\n",
        "  if num % 2 == 0:\n",
        "    print(f\"{num} is even\")\n",
        "  else:\n",
        "    print(f\"{num} is odd\")"
      ],
      "metadata": {
        "colab": {
          "base_uri": "https://localhost:8080/"
        },
        "id": "DjS_f7PDURe_",
        "outputId": "fa1069f6-a7fa-4c7c-e588-c6cedc1f1975"
      },
      "execution_count": null,
      "outputs": [
        {
          "output_type": "stream",
          "name": "stdout",
          "text": [
            "1 is odd\n",
            "2 is even\n",
            "3 is odd\n",
            "4 is even\n",
            "5 is odd\n",
            "6 is even\n",
            "7 is odd\n",
            "8 is even\n",
            "9 is odd\n",
            "10 is even\n"
          ]
        }
      ]
    },
    {
      "cell_type": "code",
      "source": [
        "numbers = [10, 50, 40, 30, 5, 25]\n",
        "max_elment = numbers[0]\n",
        "for num in numbers:\n",
        "  if num > max_elment:\n",
        "    max_elment = num\n",
        "\n",
        "print(\"Maximum element in a given list is : \", max_elment)"
      ],
      "metadata": {
        "colab": {
          "base_uri": "https://localhost:8080/"
        },
        "id": "l5i0C4c6UujD",
        "outputId": "8825ca46-5c40-4547-ca92-caaa488b1121"
      },
      "execution_count": null,
      "outputs": [
        {
          "output_type": "stream",
          "name": "stdout",
          "text": [
            "Maximum element in a given list is :  50\n"
          ]
        }
      ]
    },
    {
      "cell_type": "code",
      "source": [
        "for i in range(6):\n",
        "  print(i)\n",
        "\n",
        "else:\n",
        "  print(\"Finally finished!\")"
      ],
      "metadata": {
        "colab": {
          "base_uri": "https://localhost:8080/"
        },
        "id": "CSUUyKsBVkbP",
        "outputId": "5a62236f-14e6-436e-a38b-5ef2dd2b360b"
      },
      "execution_count": null,
      "outputs": [
        {
          "output_type": "stream",
          "name": "stdout",
          "text": [
            "0\n",
            "1\n",
            "2\n",
            "3\n",
            "4\n",
            "5\n",
            "Finally finished!\n"
          ]
        }
      ]
    },
    {
      "cell_type": "markdown",
      "source": [
        "List Comprehension"
      ],
      "metadata": {
        "id": "YbyAs182dG16"
      }
    },
    {
      "cell_type": "code",
      "source": [
        "square = [x ** 2 for x in range(1,11)]\n",
        "print(square)"
      ],
      "metadata": {
        "colab": {
          "base_uri": "https://localhost:8080/"
        },
        "id": "pC4dFGVqc-ou",
        "outputId": "dc076420-6d1f-413e-c275-679643dd46c3"
      },
      "execution_count": null,
      "outputs": [
        {
          "output_type": "stream",
          "name": "stdout",
          "text": [
            "[1, 4, 9, 16, 25, 36, 49, 64, 81, 100]\n"
          ]
        }
      ]
    },
    {
      "cell_type": "markdown",
      "source": [
        "Generator Expression"
      ],
      "metadata": {
        "id": "ez4LZODdeZmN"
      }
    },
    {
      "cell_type": "code",
      "source": [
        "square = (x ** 2 for x in range(1,11))\n",
        "print(square)\n",
        "\n",
        "for squares in square:\n",
        "  print(squares)"
      ],
      "metadata": {
        "colab": {
          "base_uri": "https://localhost:8080/"
        },
        "id": "CEUCyx0vdl_t",
        "outputId": "2a795cd7-d8c4-4a3a-abed-15de43601bdc"
      },
      "execution_count": null,
      "outputs": [
        {
          "output_type": "stream",
          "name": "stdout",
          "text": [
            "<generator object <genexpr> at 0x79759cabb5e0>\n",
            "1\n",
            "4\n",
            "9\n",
            "16\n",
            "25\n",
            "36\n",
            "49\n",
            "64\n",
            "81\n",
            "100\n"
          ]
        }
      ]
    },
    {
      "cell_type": "markdown",
      "source": [
        "Nested for loop"
      ],
      "metadata": {
        "id": "crAfs1qhe1Rb"
      }
    },
    {
      "cell_type": "code",
      "source": [
        "for i in range(1,6):\n",
        "  for j in range(1,11):\n",
        "    print(i*j, end='\\t')\n",
        "  print()\n"
      ],
      "metadata": {
        "colab": {
          "base_uri": "https://localhost:8080/"
        },
        "id": "AYU2x_h-ejRO",
        "outputId": "a52a6681-2455-43c2-8059-d46531e2bc5c"
      },
      "execution_count": null,
      "outputs": [
        {
          "output_type": "stream",
          "name": "stdout",
          "text": [
            "1\t2\t3\t4\t5\t6\t7\t8\t9\t10\t\n",
            "2\t4\t6\t8\t10\t12\t14\t16\t18\t20\t\n",
            "3\t6\t9\t12\t15\t18\t21\t24\t27\t30\t\n",
            "4\t8\t12\t16\t20\t24\t28\t32\t36\t40\t\n",
            "5\t10\t15\t20\t25\t30\t35\t40\t45\t50\t\n"
          ]
        }
      ]
    },
    {
      "cell_type": "code",
      "source": [
        "n = int(input())\n",
        "\n",
        "sum = 0\n",
        "i = 2\n",
        "\n",
        "while i <= n:\n",
        "  sum += i\n",
        "  i += 2\n",
        "\n",
        "## 2 + 4 + 6 + 8 + 10\n",
        "print(sum)"
      ],
      "metadata": {
        "colab": {
          "base_uri": "https://localhost:8080/"
        },
        "id": "FJzy6c6mfDS_",
        "outputId": "7fcfbccf-0d3d-47cc-c578-1ae6a4818529"
      },
      "execution_count": null,
      "outputs": [
        {
          "output_type": "stream",
          "name": "stdout",
          "text": [
            "10\n",
            "30\n"
          ]
        }
      ]
    },
    {
      "cell_type": "markdown",
      "source": [
        "Nested while loop"
      ],
      "metadata": {
        "id": "jsptlb36jks0"
      }
    },
    {
      "cell_type": "code",
      "source": [
        "outer_count = 0\n",
        "\n",
        "while outer_count < 3:\n",
        "  print(\"outer loop iteration\", outer_count)\n",
        "\n",
        "  inner_count = 0\n",
        "  while inner_count < 2:\n",
        "    print(\"Inner loop iteration\", inner_count)\n",
        "    inner_count += 1\n",
        "\n",
        "  outer_count += 1\n"
      ],
      "metadata": {
        "colab": {
          "base_uri": "https://localhost:8080/"
        },
        "id": "3XLkYtRPjSzP",
        "outputId": "582737a4-fb9c-48fe-8e1e-98c70b99eadd"
      },
      "execution_count": null,
      "outputs": [
        {
          "output_type": "stream",
          "name": "stdout",
          "text": [
            "outer loop iteration 0\n",
            "Inner loop iteration 0\n",
            "Inner loop iteration 1\n",
            "outer loop iteration 1\n",
            "Inner loop iteration 0\n",
            "Inner loop iteration 1\n",
            "outer loop iteration 2\n",
            "Inner loop iteration 0\n",
            "Inner loop iteration 1\n"
          ]
        }
      ]
    },
    {
      "cell_type": "markdown",
      "source": [
        "Find the sum of all even number from 1 to 100 using for loop"
      ],
      "metadata": {
        "id": "KlMacYZqpC43"
      }
    },
    {
      "cell_type": "code",
      "source": [
        "sum = 0\n",
        "for number in range(2,101,2):\n",
        "  # if number % 2 == 0:\n",
        "    sum += number\n",
        "print(sum)"
      ],
      "metadata": {
        "colab": {
          "base_uri": "https://localhost:8080/"
        },
        "id": "OA7xoEIRlNNW",
        "outputId": "b04eb2bf-39e9-4329-85a3-7037fbcc0880"
      },
      "execution_count": null,
      "outputs": [
        {
          "output_type": "stream",
          "name": "stdout",
          "text": [
            "2550\n"
          ]
        }
      ]
    },
    {
      "cell_type": "markdown",
      "source": [
        "write a program to calculate the factorial of a number using a while loop"
      ],
      "metadata": {
        "id": "m2l_4OijqkWU"
      }
    },
    {
      "cell_type": "code",
      "source": [
        "num = int(input(\"Enter a number: \"))\n",
        "\n",
        "factorial = 1\n",
        "while num > 1:\n",
        "  factorial *= num\n",
        "  num -= 1\n",
        "\n",
        "print(factorial)"
      ],
      "metadata": {
        "colab": {
          "base_uri": "https://localhost:8080/"
        },
        "id": "6IWJ-czapryX",
        "outputId": "8d36f35a-2d70-4edb-8a5c-87fe837324ae"
      },
      "execution_count": null,
      "outputs": [
        {
          "output_type": "stream",
          "name": "stdout",
          "text": [
            "Enter a number: 5\n",
            "120\n"
          ]
        }
      ]
    },
    {
      "cell_type": "code",
      "source": [],
      "metadata": {
        "id": "pjGvZ2qSrUAM"
      },
      "execution_count": null,
      "outputs": []
    }
  ]
}