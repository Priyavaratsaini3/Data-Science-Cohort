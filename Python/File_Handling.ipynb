{
  "nbformat": 4,
  "nbformat_minor": 0,
  "metadata": {
    "colab": {
      "provenance": []
    },
    "kernelspec": {
      "name": "python3",
      "display_name": "Python 3"
    },
    "language_info": {
      "name": "python"
    }
  },
  "cells": [
    {
      "cell_type": "code",
      "execution_count": 3,
      "metadata": {
        "colab": {
          "base_uri": "https://localhost:8080/"
        },
        "id": "GZNL_PNhBPCJ",
        "outputId": "0921e4e3-986d-469b-bbeb-743b685ba959"
      },
      "outputs": [
        {
          "output_type": "stream",
          "name": "stdout",
          "text": [
            "My name is Priya Bhatia\n",
            "I am currently working as a Lead Data Scientist at Turing, also teach learners about the concepts of data science.\n",
            "\n"
          ]
        }
      ],
      "source": [
        "file = open('/content/My_Textual_document.txt', 'r', encoding='ISO-8859-1')\n",
        "content = file.read()\n",
        "print(content)"
      ]
    },
    {
      "cell_type": "code",
      "source": [
        "file = open('/content/My_Textual_document.txt', 'r', encoding='ISO-8859-1')\n",
        "print(file.read(6))"
      ],
      "metadata": {
        "colab": {
          "base_uri": "https://localhost:8080/"
        },
        "id": "N9GL7dP0EH5J",
        "outputId": "c748a901-21aa-4aa5-c2bc-7e8af2cdd2cf"
      },
      "execution_count": 5,
      "outputs": [
        {
          "output_type": "stream",
          "name": "stdout",
          "text": [
            "My nam\n"
          ]
        }
      ]
    },
    {
      "cell_type": "code",
      "source": [
        "file = open('/content/My_Textual_document.txt', 'r', encoding='ISO-8859-1')\n",
        "print(file.readline())"
      ],
      "metadata": {
        "colab": {
          "base_uri": "https://localhost:8080/"
        },
        "id": "KENRnxbgE1uZ",
        "outputId": "62d4ca9f-e5f8-450a-d1e3-186aec029d21"
      },
      "execution_count": 6,
      "outputs": [
        {
          "output_type": "stream",
          "name": "stdout",
          "text": [
            "My name is Priya Bhatia\n",
            "\n"
          ]
        }
      ]
    },
    {
      "cell_type": "code",
      "source": [
        "print(file.readline())"
      ],
      "metadata": {
        "colab": {
          "base_uri": "https://localhost:8080/"
        },
        "id": "XDgyQoIqFNn3",
        "outputId": "e716372c-b9f8-4fa3-b39f-ca3bcb2bf71f"
      },
      "execution_count": 7,
      "outputs": [
        {
          "output_type": "stream",
          "name": "stdout",
          "text": [
            "I am currently working as a Lead Data Scientist at Turing, also teach learners about the concepts of data science.\n",
            "\n"
          ]
        }
      ]
    },
    {
      "cell_type": "code",
      "source": [
        "file = open('/content/My_Textual_document.txt', 'r', encoding='ISO-8859-1')\n",
        "print(file.readlines())"
      ],
      "metadata": {
        "colab": {
          "base_uri": "https://localhost:8080/"
        },
        "id": "zKQouGlHFPfE",
        "outputId": "e97ef6cb-36ec-4067-eea7-4b09718d07f9"
      },
      "execution_count": 8,
      "outputs": [
        {
          "output_type": "stream",
          "name": "stdout",
          "text": [
            "['My name is Priya Bhatia\\n', 'I am currently working as a \\x93Lead Data Scientist\\x94 at Turing, also teach learners about the concepts of data science.\\n']\n"
          ]
        }
      ]
    },
    {
      "cell_type": "code",
      "source": [
        "file = open('/content/My_Textual_document.txt', 'r', encoding='ISO-8859-1')\n",
        "for line in file.readlines():\n",
        "  print(line)"
      ],
      "metadata": {
        "colab": {
          "base_uri": "https://localhost:8080/"
        },
        "id": "kJ_I50a2Fg-S",
        "outputId": "b7cfb9f5-262c-4fe4-8763-66d5ad13d580"
      },
      "execution_count": 11,
      "outputs": [
        {
          "output_type": "stream",
          "name": "stdout",
          "text": [
            "My name is Priya Bhatia\n",
            "\n",
            "I am currently working as a Lead Data Scientist at Turing, also teach learners about the concepts of data science.\n",
            "\n"
          ]
        }
      ]
    },
    {
      "cell_type": "code",
      "source": [
        "file = open('/content/My_Textual_document.txt', 'r', encoding='ISO-8859-1')\n",
        "## operations on file\n",
        "file.close()"
      ],
      "metadata": {
        "id": "H09tx4mJFx3R"
      },
      "execution_count": 12,
      "outputs": []
    },
    {
      "cell_type": "code",
      "source": [
        "## My_textual_file.txt\n",
        "try:\n",
        "  file = open('/content/My_Textual_document.txt', 'r', encoding='ISO-8859-1')\n",
        "except FileNotFoundError:\n",
        "  print(\"Error: File not found\")\n",
        "else:\n",
        "  content = file.read()\n",
        "  print(content)\n",
        "finally:\n",
        "  file.close()"
      ],
      "metadata": {
        "colab": {
          "base_uri": "https://localhost:8080/"
        },
        "id": "1PLK1hW9HIAP",
        "outputId": "7d645cc7-ad5e-43cf-fb48-eb2c09246226"
      },
      "execution_count": 15,
      "outputs": [
        {
          "output_type": "stream",
          "name": "stdout",
          "text": [
            "My name is Priya Bhatia\n",
            "I am currently working as a Lead Data Scientist at Turing, also teach learners about the concepts of data science.\n",
            "\n"
          ]
        }
      ]
    },
    {
      "cell_type": "markdown",
      "source": [
        "write() method returns the number of characters written to the file. It usually overwrites in the original file."
      ],
      "metadata": {
        "id": "sfZJVYsvJ5HO"
      }
    },
    {
      "cell_type": "code",
      "source": [
        "try:\n",
        "  file = open('/content/My_Textual_document.txt', 'w', encoding='ISO-8859-1')\n",
        "except FileNotFoundError:\n",
        "  print(\"Error: File not found\")\n",
        "else:\n",
        "  content = file.write(\"I have a youtube channel named Priya Bhatia\")\n",
        "  print(content)\n",
        "finally:\n",
        "  file.close()"
      ],
      "metadata": {
        "colab": {
          "base_uri": "https://localhost:8080/"
        },
        "id": "UBtF8X26IK3j",
        "outputId": "509cfb0e-ed5a-4c01-e4a6-f60c4c71fa37"
      },
      "execution_count": 16,
      "outputs": [
        {
          "output_type": "stream",
          "name": "stdout",
          "text": [
            "43\n"
          ]
        }
      ]
    },
    {
      "cell_type": "code",
      "source": [
        "try:\n",
        "  file = open('/content/My_Textual_document.txt', 'r', encoding='ISO-8859-1')\n",
        "except FileNotFoundError:\n",
        "  print(\"Error: File not found\")\n",
        "else:\n",
        "  content = file.read()\n",
        "  print(content)\n",
        "finally:\n",
        "  file.close()"
      ],
      "metadata": {
        "colab": {
          "base_uri": "https://localhost:8080/"
        },
        "id": "_FnxxqUKJxkR",
        "outputId": "4660f893-cf1a-4f7c-db5d-5bab8d5841d6"
      },
      "execution_count": 17,
      "outputs": [
        {
          "output_type": "stream",
          "name": "stdout",
          "text": [
            "I have a youtube channel named Priya Bhatia\n"
          ]
        }
      ]
    },
    {
      "cell_type": "code",
      "source": [
        "try:\n",
        "  file = open('/content/My_Textual_text.txt', 'a', encoding='ISO-8859-1')\n",
        "except FileNotFoundError:\n",
        "  print(\"Error: File not found\")\n",
        "else:\n",
        "  content = file.write(\"Hey, My name is Priya\")\n",
        "  print(content)\n",
        "finally:\n",
        "  file.close()"
      ],
      "metadata": {
        "colab": {
          "base_uri": "https://localhost:8080/"
        },
        "id": "VL4LW5jiKDyw",
        "outputId": "f8551891-7442-4ac1-b3f5-c37ba3d7a0b5"
      },
      "execution_count": 20,
      "outputs": [
        {
          "output_type": "stream",
          "name": "stdout",
          "text": [
            "21\n"
          ]
        }
      ]
    },
    {
      "cell_type": "code",
      "source": [
        "try:\n",
        "  file = open('/content/My_Textual_document.txt', 'r', encoding='ISO-8859-1')\n",
        "except FileNotFoundError:\n",
        "  print(\"Error: File not found\")\n",
        "else:\n",
        "  content = file.read()\n",
        "  print(content)\n",
        "finally:\n",
        "  file.close()"
      ],
      "metadata": {
        "colab": {
          "base_uri": "https://localhost:8080/"
        },
        "id": "j0vdlHKyKeV6",
        "outputId": "a0041a8b-8816-4cb2-8b01-471264244ce5"
      },
      "execution_count": 19,
      "outputs": [
        {
          "output_type": "stream",
          "name": "stdout",
          "text": [
            "I have a youtube channel named Priya BhatiaHey, My name is Priya\n"
          ]
        }
      ]
    },
    {
      "cell_type": "code",
      "source": [
        "try:\n",
        "  file = open('/content/My_Textual_text.txt', 'r', encoding='ISO-8859-1')\n",
        "except FileNotFoundError:\n",
        "  print(\"Error: File not found\")\n",
        "else:\n",
        "  content = file.read()\n",
        "  print(content)\n",
        "finally:\n",
        "  file.close()"
      ],
      "metadata": {
        "colab": {
          "base_uri": "https://localhost:8080/"
        },
        "id": "fox1ylC2KgLD",
        "outputId": "c013ca0c-391e-4318-d82c-4501f1482ff4"
      },
      "execution_count": 21,
      "outputs": [
        {
          "output_type": "stream",
          "name": "stdout",
          "text": [
            "Hey, My name is Priya\n"
          ]
        }
      ]
    },
    {
      "cell_type": "code",
      "source": [],
      "metadata": {
        "id": "PYxRN86iK2lw"
      },
      "execution_count": null,
      "outputs": []
    }
  ]
}