{
  "cells": [
    {
      "cell_type": "code",
      "execution_count": 3,
      "metadata": {
        "colab": {
          "base_uri": "https://localhost:8080/"
        },
        "id": "GZNL_PNhBPCJ",
        "outputId": "0921e4e3-986d-469b-bbeb-743b685ba959"
      },
      "outputs": [
        {
          "name": "stdout",
          "output_type": "stream",
          "text": [
            "My name is Priya Bhatia\n",
            "I am currently working as a Lead Data Scientist at Turing, also teach learners about the concepts of data science.\n",
            "\n"
          ]
        }
      ],
      "source": [
        "file = open('/content/My_Textual_document.txt', 'r', encoding='ISO-8859-1')\n",
        "content = file.read()\n",
        "print(content)"
      ]
    },
    {
      "cell_type": "code",
      "execution_count": 5,
      "metadata": {
        "colab": {
          "base_uri": "https://localhost:8080/"
        },
        "id": "N9GL7dP0EH5J",
        "outputId": "c748a901-21aa-4aa5-c2bc-7e8af2cdd2cf"
      },
      "outputs": [
        {
          "name": "stdout",
          "output_type": "stream",
          "text": [
            "My nam\n"
          ]
        }
      ],
      "source": [
        "file = open('/content/My_Textual_document.txt', 'r', encoding='ISO-8859-1')\n",
        "print(file.read(6))"
      ]
    },
    {
      "cell_type": "code",
      "execution_count": 6,
      "metadata": {
        "colab": {
          "base_uri": "https://localhost:8080/"
        },
        "id": "KENRnxbgE1uZ",
        "outputId": "62d4ca9f-e5f8-450a-d1e3-186aec029d21"
      },
      "outputs": [
        {
          "name": "stdout",
          "output_type": "stream",
          "text": [
            "My name is Priya Bhatia\n",
            "\n"
          ]
        }
      ],
      "source": [
        "file = open('/content/My_Textual_document.txt', 'r', encoding='ISO-8859-1')\n",
        "print(file.readline())"
      ]
    },
    {
      "cell_type": "code",
      "execution_count": 7,
      "metadata": {
        "colab": {
          "base_uri": "https://localhost:8080/"
        },
        "id": "XDgyQoIqFNn3",
        "outputId": "e716372c-b9f8-4fa3-b39f-ca3bcb2bf71f"
      },
      "outputs": [
        {
          "name": "stdout",
          "output_type": "stream",
          "text": [
            "I am currently working as a Lead Data Scientist at Turing, also teach learners about the concepts of data science.\n",
            "\n"
          ]
        }
      ],
      "source": [
        "print(file.readline())"
      ]
    },
    {
      "cell_type": "code",
      "execution_count": 8,
      "metadata": {
        "colab": {
          "base_uri": "https://localhost:8080/"
        },
        "id": "zKQouGlHFPfE",
        "outputId": "e97ef6cb-36ec-4067-eea7-4b09718d07f9"
      },
      "outputs": [
        {
          "name": "stdout",
          "output_type": "stream",
          "text": [
            "['My name is Priya Bhatia\\n', 'I am currently working as a \\x93Lead Data Scientist\\x94 at Turing, also teach learners about the concepts of data science.\\n']\n"
          ]
        }
      ],
      "source": [
        "file = open('/content/My_Textual_document.txt', 'r', encoding='ISO-8859-1')\n",
        "print(file.readlines())"
      ]
    },
    {
      "cell_type": "code",
      "execution_count": 11,
      "metadata": {
        "colab": {
          "base_uri": "https://localhost:8080/"
        },
        "id": "kJ_I50a2Fg-S",
        "outputId": "b7cfb9f5-262c-4fe4-8763-66d5ad13d580"
      },
      "outputs": [
        {
          "name": "stdout",
          "output_type": "stream",
          "text": [
            "My name is Priya Bhatia\n",
            "\n",
            "I am currently working as a Lead Data Scientist at Turing, also teach learners about the concepts of data science.\n",
            "\n"
          ]
        }
      ],
      "source": [
        "file = open('/content/My_Textual_document.txt', 'r', encoding='ISO-8859-1')\n",
        "for line in file.readlines():\n",
        "  print(line)"
      ]
    },
    {
      "cell_type": "code",
      "execution_count": 12,
      "metadata": {
        "id": "H09tx4mJFx3R"
      },
      "outputs": [],
      "source": [
        "file = open('/content/My_Textual_document.txt', 'r', encoding='ISO-8859-1')\n",
        "## operations on file\n",
        "file.close()"
      ]
    },
    {
      "cell_type": "code",
      "execution_count": 15,
      "metadata": {
        "colab": {
          "base_uri": "https://localhost:8080/"
        },
        "id": "1PLK1hW9HIAP",
        "outputId": "7d645cc7-ad5e-43cf-fb48-eb2c09246226"
      },
      "outputs": [
        {
          "name": "stdout",
          "output_type": "stream",
          "text": [
            "My name is Priya Bhatia\n",
            "I am currently working as a Lead Data Scientist at Turing, also teach learners about the concepts of data science.\n",
            "\n"
          ]
        }
      ],
      "source": [
        "## My_textual_file.txt\n",
        "try:\n",
        "  file = open('/content/My_Textual_document.txt', 'r', encoding='ISO-8859-1')\n",
        "except FileNotFoundError:\n",
        "  print(\"Error: File not found\")\n",
        "else:\n",
        "  content = file.read()\n",
        "  print(content)\n",
        "finally:\n",
        "  file.close()"
      ]
    },
    {
      "cell_type": "markdown",
      "metadata": {
        "id": "sfZJVYsvJ5HO"
      },
      "source": [
        "write() method returns the number of characters written to the file. It usually overwrites in the original file."
      ]
    },
    {
      "cell_type": "code",
      "execution_count": 16,
      "metadata": {
        "colab": {
          "base_uri": "https://localhost:8080/"
        },
        "id": "UBtF8X26IK3j",
        "outputId": "509cfb0e-ed5a-4c01-e4a6-f60c4c71fa37"
      },
      "outputs": [
        {
          "name": "stdout",
          "output_type": "stream",
          "text": [
            "43\n"
          ]
        }
      ],
      "source": [
        "try:\n",
        "  file = open('/content/My_Textual_document.txt', 'w', encoding='ISO-8859-1')\n",
        "except FileNotFoundError:\n",
        "  print(\"Error: File not found\")\n",
        "else:\n",
        "  content = file.write(\"I have a youtube channel named Priya Bhatia\")\n",
        "  print(content)\n",
        "finally:\n",
        "  file.close()"
      ]
    },
    {
      "cell_type": "code",
      "execution_count": 17,
      "metadata": {
        "colab": {
          "base_uri": "https://localhost:8080/"
        },
        "id": "_FnxxqUKJxkR",
        "outputId": "4660f893-cf1a-4f7c-db5d-5bab8d5841d6"
      },
      "outputs": [
        {
          "name": "stdout",
          "output_type": "stream",
          "text": [
            "I have a youtube channel named Priya Bhatia\n"
          ]
        }
      ],
      "source": [
        "try:\n",
        "  file = open('/content/My_Textual_document.txt', 'r', encoding='ISO-8859-1')\n",
        "except FileNotFoundError:\n",
        "  print(\"Error: File not found\")\n",
        "else:\n",
        "  content = file.read()\n",
        "  print(content)\n",
        "finally:\n",
        "  file.close()"
      ]
    },
    {
      "cell_type": "code",
      "execution_count": 20,
      "metadata": {
        "colab": {
          "base_uri": "https://localhost:8080/"
        },
        "id": "VL4LW5jiKDyw",
        "outputId": "f8551891-7442-4ac1-b3f5-c37ba3d7a0b5"
      },
      "outputs": [
        {
          "name": "stdout",
          "output_type": "stream",
          "text": [
            "21\n"
          ]
        }
      ],
      "source": [
        "try:\n",
        "  file = open('/content/My_Textual_text.txt', 'a', encoding='ISO-8859-1')\n",
        "except FileNotFoundError:\n",
        "  print(\"Error: File not found\")\n",
        "else:\n",
        "  content = file.write(\"Hey, My name is Priya\")\n",
        "  print(content)\n",
        "finally:\n",
        "  file.close()"
      ]
    },
    {
      "cell_type": "code",
      "execution_count": 19,
      "metadata": {
        "colab": {
          "base_uri": "https://localhost:8080/"
        },
        "id": "j0vdlHKyKeV6",
        "outputId": "a0041a8b-8816-4cb2-8b01-471264244ce5"
      },
      "outputs": [
        {
          "name": "stdout",
          "output_type": "stream",
          "text": [
            "I have a youtube channel named Priya BhatiaHey, My name is Priya\n"
          ]
        }
      ],
      "source": [
        "try:\n",
        "  file = open('/content/My_Textual_document.txt', 'r', encoding='ISO-8859-1')\n",
        "except FileNotFoundError:\n",
        "  print(\"Error: File not found\")\n",
        "else:\n",
        "  content = file.read()\n",
        "  print(content)\n",
        "finally:\n",
        "  file.close()"
      ]
    },
    {
      "cell_type": "code",
      "execution_count": 21,
      "metadata": {
        "colab": {
          "base_uri": "https://localhost:8080/"
        },
        "id": "fox1ylC2KgLD",
        "outputId": "c013ca0c-391e-4318-d82c-4501f1482ff4"
      },
      "outputs": [
        {
          "name": "stdout",
          "output_type": "stream",
          "text": [
            "Hey, My name is Priya\n"
          ]
        }
      ],
      "source": [
        "try:\n",
        "  file = open('/content/My_Textual_text.txt', 'r', encoding='ISO-8859-1')\n",
        "except FileNotFoundError:\n",
        "  print(\"Error: File not found\")\n",
        "else:\n",
        "  content = file.read()\n",
        "  print(content)\n",
        "finally:\n",
        "  file.close()"
      ]
    },
    {
      "cell_type": "markdown",
      "metadata": {},
      "source": [
        "Create a new file"
      ]
    },
    {
      "cell_type": "code",
      "execution_count": 19,
      "metadata": {},
      "outputs": [
        {
          "name": "stdout",
          "output_type": "stream",
          "text": [
            "Error : The file 'myfile12.txt' already exists\n"
          ]
        }
      ],
      "source": [
        "try:\n",
        "  file = open('myfile2.txt', 'x', encoding='UTF-8')\n",
        "  file.write(\"Hey, How are you ? I am doing good and have enrolled into full stack data science course\\n\")\n",
        "  file.write(\"What are you doing nowdays?\\n\")\n",
        "\n",
        "except FileNotFoundError:\n",
        "  print(\"Error:The  File 'already exists '\")\n",
        "\n",
        "except FileExistsError: \n",
        "  print(\"Error : The file 'myfile12.txt' already exists\")\n",
        "else:\n",
        "  content = file.read()\n",
        "  print(content)\n",
        "\n",
        "finally:\n",
        "  file.close()"
      ]
    },
    {
      "cell_type": "markdown",
      "metadata": {},
      "source": [
        "Delete a file"
      ]
    },
    {
      "cell_type": "code",
      "execution_count": 15,
      "metadata": {
        "id": "PYxRN86iK2lw"
      },
      "outputs": [
        {
          "name": "stdout",
          "output_type": "stream",
          "text": [
            "File 'myfile.txt' deleted successfully\n"
          ]
        }
      ],
      "source": [
        "import os\n",
        "file_path = \"myfile.txt\"\n",
        "\n",
        "try:\n",
        "    ## Critical code to delete the file \n",
        "    os.remove(file_path)\n",
        "    print(f\"File '{file_path}' deleted successfully\")\n",
        "\n",
        "except FileNotFoundError: \n",
        "    print(f\"File '{file_path}' not found. \")\n",
        "except PermissionError:\n",
        "    print(f\"You don't have a premission to delete '{file_path}'. \")\n",
        "except Exception:\n",
        "    print(\"An unexpected error occured. \")"
      ]
    },
    {
      "cell_type": "code",
      "execution_count": null,
      "metadata": {},
      "outputs": [],
      "source": []
    }
  ],
  "metadata": {
    "colab": {
      "provenance": []
    },
    "kernelspec": {
      "display_name": "Python 3",
      "name": "python3"
    },
    "language_info": {
      "codemirror_mode": {
        "name": "ipython",
        "version": 3
      },
      "file_extension": ".py",
      "mimetype": "text/x-python",
      "name": "python",
      "nbconvert_exporter": "python",
      "pygments_lexer": "ipython3",
      "version": "3.12.6"
    }
  },
  "nbformat": 4,
  "nbformat_minor": 0
}
