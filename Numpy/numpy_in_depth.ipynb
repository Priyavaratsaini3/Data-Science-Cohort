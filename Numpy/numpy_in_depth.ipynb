{
 "cells": [
  {
   "cell_type": "code",
   "execution_count": 1,
   "id": "16902238",
   "metadata": {},
   "outputs": [],
   "source": [
    "import numpy as np"
   ]
  },
  {
   "cell_type": "markdown",
   "id": "b549ba41",
   "metadata": {},
   "source": [
    "Creation of numpy arrays from list"
   ]
  },
  {
   "cell_type": "code",
   "execution_count": 5,
   "id": "df9468de",
   "metadata": {},
   "outputs": [
    {
     "name": "stdout",
     "output_type": "stream",
     "text": [
      "[1 2 3 4 5]\n"
     ]
    }
   ],
   "source": [
    "array_from_list = np.array([1, 2, 3, 4, 5])\n",
    "print(array_from_list)"
   ]
  },
  {
   "cell_type": "code",
   "execution_count": 21,
   "id": "27bc1942",
   "metadata": {},
   "outputs": [
    {
     "name": "stdout",
     "output_type": "stream",
     "text": [
      "<class 'numpy.ndarray'>\n",
      "1\n",
      "(5,)\n"
     ]
    }
   ],
   "source": [
    "print(type(array_from_list))\n",
    "print(array_from_list.ndim)\n",
    "print(array_from_list.shape)"
   ]
  },
  {
   "cell_type": "code",
   "execution_count": 7,
   "id": "e1b4f68f",
   "metadata": {},
   "outputs": [
    {
     "name": "stdout",
     "output_type": "stream",
     "text": [
      "[1 2 3 4 5]\n"
     ]
    }
   ],
   "source": [
    "array_from_tuple = np.array((1, 2, 3, 4, 5))\n",
    "print(array_from_tuple)"
   ]
  },
  {
   "cell_type": "markdown",
   "id": "3f183618",
   "metadata": {},
   "source": [
    "2D array"
   ]
  },
  {
   "cell_type": "code",
   "execution_count": 8,
   "id": "233a139e",
   "metadata": {},
   "outputs": [
    {
     "name": "stdout",
     "output_type": "stream",
     "text": [
      "[[1 2 3]\n",
      " [4 5 6]\n",
      " [7 8 9]]\n"
     ]
    }
   ],
   "source": [
    "array_2d = np.array([[1, 2, 3],\n",
    "                     [4, 5, 6],\n",
    "                     [7, 8, 9]])\n",
    "print(array_2d)"
   ]
  },
  {
   "cell_type": "code",
   "execution_count": 20,
   "id": "c94738f3",
   "metadata": {},
   "outputs": [
    {
     "name": "stdout",
     "output_type": "stream",
     "text": [
      "<class 'numpy.ndarray'>\n",
      "2\n",
      "(3, 3)\n"
     ]
    }
   ],
   "source": [
    "print(type(array_2d))\n",
    "print(array_2d.ndim)\n",
    "print(array_2d.shape)"
   ]
  },
  {
   "cell_type": "markdown",
   "id": "b408dd1c",
   "metadata": {},
   "source": [
    "3D array"
   ]
  },
  {
   "cell_type": "code",
   "execution_count": 10,
   "id": "a90c9333",
   "metadata": {},
   "outputs": [
    {
     "name": "stdout",
     "output_type": "stream",
     "text": [
      "[[[1 2]\n",
      "  [3 4]]\n",
      "\n",
      " [[5 6]\n",
      "  [7 8]]]\n"
     ]
    }
   ],
   "source": [
    "array_3d = np.array([[[1, 2],\n",
    "                      [3, 4]],\n",
    "\n",
    "                      [[5, 6],\n",
    "                      [7, 8]]])\n",
    "print(array_3d)"
   ]
  },
  {
   "cell_type": "code",
   "execution_count": 15,
   "id": "39d414b6",
   "metadata": {},
   "outputs": [
    {
     "data": {
      "text/plain": [
       "3"
      ]
     },
     "execution_count": 15,
     "metadata": {},
     "output_type": "execute_result"
    }
   ],
   "source": [
    "type(array_3d)\n",
    "array_3d.ndim"
   ]
  },
  {
   "cell_type": "code",
   "execution_count": 22,
   "id": "a684ef96",
   "metadata": {},
   "outputs": [
    {
     "data": {
      "text/plain": [
       "(2, 2, 2)"
      ]
     },
     "execution_count": 22,
     "metadata": {},
     "output_type": "execute_result"
    }
   ],
   "source": [
    "array_3d.shape"
   ]
  },
  {
   "cell_type": "code",
   "execution_count": 25,
   "id": "ed88f910",
   "metadata": {},
   "outputs": [
    {
     "name": "stdout",
     "output_type": "stream",
     "text": [
      "(3, 2, 2)\n"
     ]
    }
   ],
   "source": [
    "array_3D = np.array([[[1, 2],\n",
    "                      [3, 4]],\n",
    "\n",
    "                      [[5, 6],\n",
    "                      [7,8]],\n",
    "\n",
    "                       [[9, 10],\n",
    "                       [11, 12]]])\n",
    "print(array_3D.shape)"
   ]
  },
  {
   "cell_type": "code",
   "execution_count": 27,
   "id": "3e666fe1",
   "metadata": {},
   "outputs": [
    {
     "name": "stdout",
     "output_type": "stream",
     "text": [
      "(3, 2, 3)\n"
     ]
    }
   ],
   "source": [
    "array_3D = np.array([[[1, 2, 3],\n",
    "                      [3, 4, 5]],\n",
    "\n",
    "                      [[5, 6, 7],\n",
    "                      [7, 8, 9]],\n",
    "\n",
    "                       [[9, 10, 12],\n",
    "                       [11, 12, 13]]])\n",
    "print(array_3D.shape)"
   ]
  },
  {
   "cell_type": "markdown",
   "id": "10f0d6f0",
   "metadata": {},
   "source": [
    "inhomogeneous shape of the internal submatrix"
   ]
  },
  {
   "cell_type": "code",
   "execution_count": 28,
   "id": "33e169f4",
   "metadata": {},
   "outputs": [
    {
     "ename": "ValueError",
     "evalue": "setting an array element with a sequence. The requested array has an inhomogeneous shape after 2 dimensions. The detected shape was (3, 2) + inhomogeneous part.",
     "output_type": "error",
     "traceback": [
      "\u001b[31m---------------------------------------------------------------------------\u001b[39m",
      "\u001b[31mValueError\u001b[39m                                Traceback (most recent call last)",
      "\u001b[36mCell\u001b[39m\u001b[36m \u001b[39m\u001b[32mIn[28]\u001b[39m\u001b[32m, line 1\u001b[39m\n\u001b[32m----> \u001b[39m\u001b[32m1\u001b[39m array_3D = \u001b[43mnp\u001b[49m\u001b[43m.\u001b[49m\u001b[43marray\u001b[49m\u001b[43m(\u001b[49m\u001b[43m[\u001b[49m\u001b[43m[\u001b[49m\u001b[43m[\u001b[49m\u001b[32;43m1\u001b[39;49m\u001b[43m,\u001b[49m\u001b[43m \u001b[49m\u001b[32;43m2\u001b[39;49m\u001b[43m]\u001b[49m\u001b[43m,\u001b[49m\n\u001b[32m      2\u001b[39m \u001b[43m                      \u001b[49m\u001b[43m[\u001b[49m\u001b[32;43m3\u001b[39;49m\u001b[43m,\u001b[49m\u001b[43m \u001b[49m\u001b[32;43m4\u001b[39;49m\u001b[43m]\u001b[49m\u001b[43m]\u001b[49m\u001b[43m,\u001b[49m\n\u001b[32m      3\u001b[39m \n\u001b[32m      4\u001b[39m \u001b[43m                      \u001b[49m\u001b[43m[\u001b[49m\u001b[43m[\u001b[49m\u001b[32;43m5\u001b[39;49m\u001b[43m,\u001b[49m\u001b[43m \u001b[49m\u001b[32;43m6\u001b[39;49m\u001b[43m,\u001b[49m\u001b[43m \u001b[49m\u001b[32;43m7\u001b[39;49m\u001b[43m]\u001b[49m\u001b[43m,\u001b[49m\n\u001b[32m      5\u001b[39m \u001b[43m                      \u001b[49m\u001b[43m[\u001b[49m\u001b[32;43m7\u001b[39;49m\u001b[43m,\u001b[49m\u001b[43m \u001b[49m\u001b[32;43m8\u001b[39;49m\u001b[43m,\u001b[49m\u001b[43m \u001b[49m\u001b[32;43m9\u001b[39;49m\u001b[43m]\u001b[49m\u001b[43m]\u001b[49m\u001b[43m,\u001b[49m\n\u001b[32m      6\u001b[39m \n\u001b[32m      7\u001b[39m \u001b[43m                       \u001b[49m\u001b[43m[\u001b[49m\u001b[43m[\u001b[49m\u001b[32;43m9\u001b[39;49m\u001b[43m,\u001b[49m\u001b[43m \u001b[49m\u001b[32;43m10\u001b[39;49m\u001b[43m,\u001b[49m\u001b[43m \u001b[49m\u001b[32;43m12\u001b[39;49m\u001b[43m]\u001b[49m\u001b[43m,\u001b[49m\n\u001b[32m      8\u001b[39m \u001b[43m                       \u001b[49m\u001b[43m[\u001b[49m\u001b[32;43m11\u001b[39;49m\u001b[43m,\u001b[49m\u001b[43m \u001b[49m\u001b[32;43m12\u001b[39;49m\u001b[43m,\u001b[49m\u001b[43m \u001b[49m\u001b[32;43m13\u001b[39;49m\u001b[43m]\u001b[49m\u001b[43m]\u001b[49m\u001b[43m]\u001b[49m\u001b[43m)\u001b[49m\n\u001b[32m      9\u001b[39m \u001b[38;5;28mprint\u001b[39m(array_3D.shape)\n",
      "\u001b[31mValueError\u001b[39m: setting an array element with a sequence. The requested array has an inhomogeneous shape after 2 dimensions. The detected shape was (3, 2) + inhomogeneous part."
     ]
    }
   ],
   "source": [
    "array_3D = np.array([[[1, 2],\n",
    "                      [3, 4]],\n",
    "\n",
    "                      [[5, 6, 7],\n",
    "                      [7, 8, 9]],\n",
    "\n",
    "                       [[9, 10, 12],\n",
    "                       [11, 12, 13]]])\n",
    "print(array_3D.shape)"
   ]
  },
  {
   "cell_type": "code",
   "execution_count": 29,
   "id": "30d72edc",
   "metadata": {},
   "outputs": [
    {
     "data": {
      "text/plain": [
       "dtype('int64')"
      ]
     },
     "execution_count": 29,
     "metadata": {},
     "output_type": "execute_result"
    }
   ],
   "source": [
    "array_3D.dtype"
   ]
  },
  {
   "cell_type": "code",
   "execution_count": 30,
   "id": "8a6df7e6",
   "metadata": {},
   "outputs": [
    {
     "data": {
      "text/plain": [
       "array(['5', '-3.4', 'a', '4.3'], dtype='<U32')"
      ]
     },
     "execution_count": 30,
     "metadata": {},
     "output_type": "execute_result"
    }
   ],
   "source": [
    "array_ = np.array([5, -3.4, 'a', 4.3])\n",
    "array_"
   ]
  },
  {
   "cell_type": "code",
   "execution_count": 31,
   "id": "33fbde85",
   "metadata": {},
   "outputs": [
    {
     "data": {
      "text/plain": [
       "dtype('<U32')"
      ]
     },
     "execution_count": 31,
     "metadata": {},
     "output_type": "execute_result"
    }
   ],
   "source": [
    "array_.dtype"
   ]
  },
  {
   "cell_type": "code",
   "execution_count": 35,
   "id": "e745bf28",
   "metadata": {},
   "outputs": [
    {
     "data": {
      "text/plain": [
       "dtype('float64')"
      ]
     },
     "execution_count": 35,
     "metadata": {},
     "output_type": "execute_result"
    }
   ],
   "source": [
    "array_ = np.array([5, -3.4, 4, 4.3])\n",
    "array_.dtype\n"
   ]
  },
  {
   "cell_type": "markdown",
   "id": "c25029c3",
   "metadata": {},
   "source": [
    "Itemsize returns the size in bytes of each elements in the array"
   ]
  },
  {
   "cell_type": "code",
   "execution_count": 36,
   "id": "c6447897",
   "metadata": {},
   "outputs": [
    {
     "name": "stdout",
     "output_type": "stream",
     "text": [
      "Item size of arr_float:  8 bytes\n"
     ]
    }
   ],
   "source": [
    "print(\"Item size of arr_float: \", array_.itemsize, \"bytes\")"
   ]
  },
  {
   "cell_type": "markdown",
   "id": "ccade86f",
   "metadata": {},
   "source": [
    "data provide a direct buffer to the memory location where the array's data is actually stored"
   ]
  },
  {
   "cell_type": "code",
   "execution_count": 50,
   "id": "e364a80f",
   "metadata": {},
   "outputs": [
    {
     "name": "stdout",
     "output_type": "stream",
     "text": [
      "data buffer <memory at 0x000001B98015DCC0>\n"
     ]
    }
   ],
   "source": [
    "print(\"data buffer\", array_.data)"
   ]
  },
  {
   "cell_type": "markdown",
   "id": "40aff874",
   "metadata": {},
   "source": [
    "Indexing and Slicing"
   ]
  },
  {
   "cell_type": "code",
   "execution_count": 51,
   "id": "e4dc8885",
   "metadata": {},
   "outputs": [
    {
     "name": "stdout",
     "output_type": "stream",
     "text": [
      "3\n"
     ]
    }
   ],
   "source": [
    "print(array_from_list[2])"
   ]
  },
  {
   "cell_type": "code",
   "execution_count": 52,
   "id": "3988bf76",
   "metadata": {},
   "outputs": [
    {
     "name": "stdout",
     "output_type": "stream",
     "text": [
      "9\n"
     ]
    }
   ],
   "source": [
    "print(array_2d[2][2])"
   ]
  },
  {
   "cell_type": "code",
   "execution_count": 53,
   "id": "13544d09",
   "metadata": {},
   "outputs": [
    {
     "name": "stdout",
     "output_type": "stream",
     "text": [
      "9\n"
     ]
    }
   ],
   "source": [
    "print(array_2d[2, 2])"
   ]
  },
  {
   "cell_type": "code",
   "execution_count": 55,
   "id": "e59d5e79",
   "metadata": {},
   "outputs": [
    {
     "name": "stdout",
     "output_type": "stream",
     "text": [
      "8\n"
     ]
    }
   ],
   "source": [
    "print(array_3d[1,1,1])"
   ]
  },
  {
   "cell_type": "code",
   "execution_count": 58,
   "id": "540ed74a",
   "metadata": {},
   "outputs": [
    {
     "name": "stdout",
     "output_type": "stream",
     "text": [
      "13\n"
     ]
    }
   ],
   "source": [
    "print(array_3D[2,1,2])"
   ]
  },
  {
   "cell_type": "code",
   "execution_count": 59,
   "id": "99f1d501",
   "metadata": {},
   "outputs": [
    {
     "name": "stdout",
     "output_type": "stream",
     "text": [
      "13\n"
     ]
    }
   ],
   "source": [
    "print(array_3D[2][1][2])"
   ]
  },
  {
   "cell_type": "code",
   "execution_count": 60,
   "id": "5c76940d",
   "metadata": {},
   "outputs": [
    {
     "name": "stdout",
     "output_type": "stream",
     "text": [
      "3\n"
     ]
    }
   ],
   "source": [
    "print(array_3D[0,1,0])"
   ]
  },
  {
   "cell_type": "code",
   "execution_count": 61,
   "id": "6483dbfb",
   "metadata": {},
   "outputs": [
    {
     "data": {
      "text/plain": [
       "array([2, 3, 4])"
      ]
     },
     "execution_count": 61,
     "metadata": {},
     "output_type": "execute_result"
    }
   ],
   "source": [
    "array_from_list[1:4]"
   ]
  },
  {
   "cell_type": "code",
   "execution_count": 73,
   "id": "24fcaaa2",
   "metadata": {},
   "outputs": [
    {
     "data": {
      "text/plain": [
       "array([[2, 3],\n",
       "       [5, 6]])"
      ]
     },
     "execution_count": 73,
     "metadata": {},
     "output_type": "execute_result"
    }
   ],
   "source": [
    "array_2d[0:2, 1:]"
   ]
  },
  {
   "cell_type": "code",
   "execution_count": 74,
   "id": "032f2da9",
   "metadata": {},
   "outputs": [
    {
     "data": {
      "text/plain": [
       "array([[5, 6],\n",
       "       [8, 9]])"
      ]
     },
     "execution_count": 74,
     "metadata": {},
     "output_type": "execute_result"
    }
   ],
   "source": [
    "array_2d[1:3, 1:]"
   ]
  },
  {
   "cell_type": "code",
   "execution_count": 75,
   "id": "c805e194",
   "metadata": {},
   "outputs": [
    {
     "data": {
      "text/plain": [
       "array([[[ 1,  2,  3],\n",
       "        [ 3,  4,  5]],\n",
       "\n",
       "       [[ 5,  6,  7],\n",
       "        [ 7,  8,  9]],\n",
       "\n",
       "       [[ 9, 10, 12],\n",
       "        [11, 12, 13]]])"
      ]
     },
     "execution_count": 75,
     "metadata": {},
     "output_type": "execute_result"
    }
   ],
   "source": [
    "array_3D"
   ]
  },
  {
   "cell_type": "code",
   "execution_count": 82,
   "id": "4588d9a6",
   "metadata": {},
   "outputs": [
    {
     "data": {
      "text/plain": [
       "array([[4, 5],\n",
       "       [8, 9]])"
      ]
     },
     "execution_count": 82,
     "metadata": {},
     "output_type": "execute_result"
    }
   ],
   "source": [
    "array_3D[0:2, 1, 1:]"
   ]
  },
  {
   "cell_type": "markdown",
   "id": "02f7aa87",
   "metadata": {},
   "source": [
    "Methods in NumPy"
   ]
  },
  {
   "cell_type": "markdown",
   "id": "fd910e2f",
   "metadata": {},
   "source": []
  },
  {
   "cell_type": "markdown",
   "id": "5ae80292",
   "metadata": {},
   "source": [
    "Arithmetic Operations"
   ]
  },
  {
   "cell_type": "code",
   "execution_count": 4,
   "id": "fc85ba0f",
   "metadata": {},
   "outputs": [
    {
     "name": "stdout",
     "output_type": "stream",
     "text": [
      "[[11 22]\n",
      " [33 44]]\n",
      "[[ -9 -18]\n",
      " [-27 -36]]\n",
      "[[ 10  40]\n",
      " [ 90 160]]\n",
      "[[0.1 0.1]\n",
      " [0.1 0.1]]\n",
      "[[ 1  4]\n",
      " [ 9 16]]\n",
      "[[10 10]\n",
      " [10 10]]\n"
     ]
    }
   ],
   "source": [
    "a = np.array([[1, 2], [3, 4]])\n",
    "b = np.array([[10, 20], [30, 40]])\n",
    "\n",
    "print(a + b)\n",
    "\n",
    "print(a - b)\n",
    "\n",
    "print(a * b)\n",
    "\n",
    "print(a / b )\n",
    "\n",
    "print(a ** 2)\n",
    "\n",
    "print(b // a)"
   ]
  },
  {
   "cell_type": "markdown",
   "id": "98578a7a",
   "metadata": {},
   "source": [
    "Transpose "
   ]
  },
  {
   "cell_type": "code",
   "execution_count": 5,
   "id": "64a5589e",
   "metadata": {},
   "outputs": [
    {
     "name": "stdout",
     "output_type": "stream",
     "text": [
      "[[1 4 7]\n",
      " [2 5 8]\n",
      " [3 6 9]]\n"
     ]
    }
   ],
   "source": [
    "arr = np.array([[1, 2, 3],\n",
    "                [4, 5, 6],\n",
    "                [7, 8, 9]])\n",
    "\n",
    "print(arr.transpose())"
   ]
  },
  {
   "cell_type": "code",
   "execution_count": 6,
   "id": "eda35935",
   "metadata": {},
   "outputs": [
    {
     "name": "stdout",
     "output_type": "stream",
     "text": [
      "[[1 4 7]\n",
      " [2 5 8]\n",
      " [3 6 9]]\n"
     ]
    }
   ],
   "source": [
    "print(arr.T)"
   ]
  },
  {
   "cell_type": "markdown",
   "id": "6cc022b8",
   "metadata": {},
   "source": [
    "\n",
    "Sorting "
   ]
  },
  {
   "cell_type": "code",
   "execution_count": 9,
   "id": "4030c277",
   "metadata": {},
   "outputs": [
    {
     "name": "stdout",
     "output_type": "stream",
     "text": [
      "[ 1  2  3  4  5  8  9 40]\n"
     ]
    }
   ],
   "source": [
    "arr_1d = np.array([2, 8, 4, 1, 9, 40, 5, 3])\n",
    "sorted_in_arr = np.sort(arr_1d)\n",
    "print(sorted_in_arr)"
   ]
  },
  {
   "cell_type": "code",
   "execution_count": 12,
   "id": "6db659a6",
   "metadata": {},
   "outputs": [
    {
     "name": "stdout",
     "output_type": "stream",
     "text": [
      "[[1 2 3]\n",
      " [4 5 6]]\n"
     ]
    }
   ],
   "source": [
    "arr_2d = np.array([[3, 2, 1],\n",
    "                   [6, 5, 4]])\n",
    "\n",
    "sorted_arr_2d = np.sort(arr_2d, axis=1)\n",
    "print(sorted_arr_2d)"
   ]
  },
  {
   "cell_type": "markdown",
   "id": "917d05ae",
   "metadata": {},
   "source": [
    "axis=0 runs vertically down the columns \n",
    "\n",
    "axis=1 runs horizontally across the rows"
   ]
  },
  {
   "cell_type": "code",
   "execution_count": 13,
   "id": "e49022d0",
   "metadata": {},
   "outputs": [
    {
     "name": "stdout",
     "output_type": "stream",
     "text": [
      "[[3 2 1]\n",
      " [6 5 4]]\n"
     ]
    }
   ],
   "source": [
    "arr_2d = np.array([[3, 2, 1],\n",
    "                   [6, 5, 4]])\n",
    "\n",
    "sorted_arr_2d = np.sort(arr_2d, axis=0)\n",
    "print(sorted_arr_2d)"
   ]
  },
  {
   "cell_type": "markdown",
   "id": "26fdfba8",
   "metadata": {},
   "source": [
    "argsort()"
   ]
  },
  {
   "cell_type": "code",
   "execution_count": 14,
   "id": "c240d4e0",
   "metadata": {},
   "outputs": [
    {
     "data": {
      "text/plain": [
       "array([ 2,  8,  4,  1,  9, 40,  5,  3])"
      ]
     },
     "execution_count": 14,
     "metadata": {},
     "output_type": "execute_result"
    }
   ],
   "source": [
    "arr_1d"
   ]
  },
  {
   "cell_type": "code",
   "execution_count": 15,
   "id": "7cdfa34c",
   "metadata": {},
   "outputs": [
    {
     "name": "stdout",
     "output_type": "stream",
     "text": [
      "[3 0 7 2 6 1 4 5]\n"
     ]
    }
   ],
   "source": [
    "sorted_indcies_1D = np.argsort(arr_1d)\n",
    "print(sorted_indcies_1D)"
   ]
  },
  {
   "cell_type": "markdown",
   "id": "7403e32d",
   "metadata": {},
   "source": [
    "Ranking in Recommendation Systems"
   ]
  },
  {
   "cell_type": "code",
   "execution_count": 20,
   "id": "e22d5bfb",
   "metadata": {},
   "outputs": [
    {
     "name": "stdout",
     "output_type": "stream",
     "text": [
      "[2 0 3 1 4]\n",
      "[4 1 3]\n"
     ]
    }
   ],
   "source": [
    "similarity_score = np.array([0.23, 0.85, 0.11, 0.65, 0.91])\n",
    "sorted_indices = np.argsort(similarity_score)\n",
    "print(sorted_indices)\n",
    "top3_items = sorted_indices[-3:][::-1]\n",
    "print(top3_items)"
   ]
  },
  {
   "cell_type": "markdown",
   "id": "a144ee68",
   "metadata": {},
   "source": [
    "Concatenation Arrays"
   ]
  },
  {
   "cell_type": "code",
   "execution_count": 22,
   "id": "416a522c",
   "metadata": {},
   "outputs": [
    {
     "name": "stdout",
     "output_type": "stream",
     "text": [
      "[1 2 3 4 5 6]\n"
     ]
    }
   ],
   "source": [
    "arr1 = np.array([1, 2, 3])\n",
    "arr2 = np.array([4, 5, 6])\n",
    "\n",
    "result = np.concatenate((arr1, arr2))\n",
    "print(result)"
   ]
  },
  {
   "cell_type": "code",
   "execution_count": 23,
   "id": "a722ce80",
   "metadata": {},
   "outputs": [
    {
     "name": "stdout",
     "output_type": "stream",
     "text": [
      "[[1 2 3]\n",
      " [3 4 5]\n",
      " [4 5 6]\n",
      " [5 6 7]]\n"
     ]
    }
   ],
   "source": [
    "arr1 = np.array([[1, 2, 3], [3, 4, 5]])\n",
    "arr2 = np.array([[4, 5, 6], [5, 6, 7]])\n",
    "\n",
    "result = np.concatenate((arr1, arr2), axis=0)\n",
    "print(result)"
   ]
  },
  {
   "cell_type": "code",
   "execution_count": 24,
   "id": "22ed9c88",
   "metadata": {},
   "outputs": [
    {
     "name": "stdout",
     "output_type": "stream",
     "text": [
      "[[1 2 3 4 5 6]\n",
      " [3 4 5 5 6 7]]\n"
     ]
    }
   ],
   "source": [
    "arr1 = np.array([[1, 2, 3], [3, 4, 5]])\n",
    "arr2 = np.array([[4, 5, 6], [5, 6, 7]])\n",
    "\n",
    "result = np.concatenate((arr1, arr2), axis=1)\n",
    "print(result)"
   ]
  },
  {
   "cell_type": "markdown",
   "id": "e6d2411e",
   "metadata": {},
   "source": [
    "Reshape"
   ]
  },
  {
   "cell_type": "code",
   "execution_count": 26,
   "id": "12d5986b",
   "metadata": {},
   "outputs": [
    {
     "data": {
      "text/plain": [
       "array([ 2,  8,  4,  1,  9, 40,  5,  3])"
      ]
     },
     "execution_count": 26,
     "metadata": {},
     "output_type": "execute_result"
    }
   ],
   "source": [
    "arr_1d"
   ]
  },
  {
   "cell_type": "code",
   "execution_count": 31,
   "id": "fa0254e4",
   "metadata": {},
   "outputs": [
    {
     "name": "stdout",
     "output_type": "stream",
     "text": [
      "[[ 2  8  4  1]\n",
      " [ 9 40  5  3]]\n"
     ]
    }
   ],
   "source": [
    "arr_2D = arr_1d.reshape(2,4)\n",
    "print(arr_2D)"
   ]
  },
  {
   "cell_type": "code",
   "execution_count": 32,
   "id": "2bcd8091",
   "metadata": {},
   "outputs": [
    {
     "data": {
      "text/plain": [
       "array([[ 2,  8,  4,  1],\n",
       "       [ 9, 40,  5,  3]])"
      ]
     },
     "execution_count": 32,
     "metadata": {},
     "output_type": "execute_result"
    }
   ],
   "source": [
    "arr_2D"
   ]
  },
  {
   "cell_type": "code",
   "execution_count": 34,
   "id": "00a44a04",
   "metadata": {},
   "outputs": [
    {
     "ename": "ValueError",
     "evalue": "cannot reshape array of size 8 into shape (3,4)",
     "output_type": "error",
     "traceback": [
      "\u001b[31m---------------------------------------------------------------------------\u001b[39m",
      "\u001b[31mValueError\u001b[39m                                Traceback (most recent call last)",
      "\u001b[36mCell\u001b[39m\u001b[36m \u001b[39m\u001b[32mIn[34]\u001b[39m\u001b[32m, line 1\u001b[39m\n\u001b[32m----> \u001b[39m\u001b[32m1\u001b[39m arr_2D = \u001b[43marr_1d\u001b[49m\u001b[43m.\u001b[49m\u001b[43mreshape\u001b[49m\u001b[43m(\u001b[49m\u001b[32;43m3\u001b[39;49m\u001b[43m,\u001b[49m\u001b[32;43m4\u001b[39;49m\u001b[43m)\u001b[49m\n\u001b[32m      2\u001b[39m arr_2D\n",
      "\u001b[31mValueError\u001b[39m: cannot reshape array of size 8 into shape (3,4)"
     ]
    }
   ],
   "source": [
    "arr_2D = arr_1d.reshape(3,4)\n",
    "arr_2D"
   ]
  },
  {
   "cell_type": "markdown",
   "id": "1ef296ae",
   "metadata": {},
   "source": [
    "Concat ==> pandas [deals with labeled data]\n",
    "\n",
    "concatenate ==> numpy [array focused]"
   ]
  },
  {
   "cell_type": "code",
   "execution_count": 36,
   "id": "f3ab9a8e",
   "metadata": {},
   "outputs": [
    {
     "data": {
      "text/plain": [
       "array([ 2,  8,  4,  1,  9, 40,  5,  3])"
      ]
     },
     "execution_count": 36,
     "metadata": {},
     "output_type": "execute_result"
    }
   ],
   "source": [
    "## Flatten the 2D array to 1D array \n",
    "arr_2D.reshape(-1)"
   ]
  },
  {
   "cell_type": "markdown",
   "id": "51f72f63",
   "metadata": {},
   "source": [
    "Split()"
   ]
  },
  {
   "cell_type": "code",
   "execution_count": 37,
   "id": "b3c65ded",
   "metadata": {},
   "outputs": [],
   "source": [
    "split_arr = np.split(arr_1d , 4)\n"
   ]
  },
  {
   "cell_type": "code",
   "execution_count": 38,
   "id": "b2cbf2c1",
   "metadata": {},
   "outputs": [
    {
     "data": {
      "text/plain": [
       "[array([2, 8]), array([4, 1]), array([ 9, 40]), array([5, 3])]"
      ]
     },
     "execution_count": 38,
     "metadata": {},
     "output_type": "execute_result"
    }
   ],
   "source": [
    "split_arr"
   ]
  },
  {
   "cell_type": "markdown",
   "id": "e9d52d5f",
   "metadata": {},
   "source": [
    "Statistical Operations : mean, median, mode, standard deviation , min, max, sum"
   ]
  },
  {
   "cell_type": "code",
   "execution_count": 39,
   "id": "ff49b2d2",
   "metadata": {},
   "outputs": [
    {
     "name": "stdout",
     "output_type": "stream",
     "text": [
      "3.5\n"
     ]
    }
   ],
   "source": [
    "arr = np.array([[1, 2, 3],\n",
    "                [4, 5, 6]])\n",
    "\n",
    "mean_all = np.mean(arr)\n",
    "print(mean_all)\n"
   ]
  },
  {
   "cell_type": "code",
   "execution_count": 40,
   "id": "15f1d399",
   "metadata": {},
   "outputs": [
    {
     "name": "stdout",
     "output_type": "stream",
     "text": [
      "[2.5 3.5 4.5]\n"
     ]
    }
   ],
   "source": [
    "mean_axis_0 = np.mean(arr, axis=0) ## axis=0 indicates column-wise\n",
    "print(mean_axis_0)"
   ]
  },
  {
   "cell_type": "code",
   "execution_count": 42,
   "id": "25f5312a",
   "metadata": {},
   "outputs": [
    {
     "name": "stdout",
     "output_type": "stream",
     "text": [
      "[2. 5.]\n"
     ]
    }
   ],
   "source": [
    "mean_axis_1 = np.mean(arr, axis=1) ## axis=1 indicates row-wise\n",
    "print(mean_axis_1)"
   ]
  },
  {
   "cell_type": "code",
   "execution_count": 43,
   "id": "2aa14a26",
   "metadata": {},
   "outputs": [
    {
     "name": "stdout",
     "output_type": "stream",
     "text": [
      "3.5\n"
     ]
    }
   ],
   "source": [
    "arr = np.array([[1, 2, 3],\n",
    "                [4, 5, 6]])\n",
    "\n",
    "median_all = np.median(arr)\n",
    "print(median_all)\n"
   ]
  },
  {
   "cell_type": "markdown",
   "id": "6eef067f",
   "metadata": {},
   "source": [
    "np.median => Median \n",
    "np.std => standard Deviation \n",
    "np.min => Minimum value\n",
    "np.max => Maximum value\n",
    "np.sum => sum"
   ]
  },
  {
   "cell_type": "code",
   "execution_count": null,
   "id": "010135bf",
   "metadata": {},
   "outputs": [],
   "source": []
  }
 ],
 "metadata": {
  "kernelspec": {
   "display_name": ".venv",
   "language": "python",
   "name": "python3"
  },
  "language_info": {
   "codemirror_mode": {
    "name": "ipython",
    "version": 3
   },
   "file_extension": ".py",
   "mimetype": "text/x-python",
   "name": "python",
   "nbconvert_exporter": "python",
   "pygments_lexer": "ipython3",
   "version": "3.13.1"
  }
 },
 "nbformat": 4,
 "nbformat_minor": 5
}
